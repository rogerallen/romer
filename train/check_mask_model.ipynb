{
 "cells": [
  {
   "cell_type": "code",
   "execution_count": 4,
   "metadata": {},
   "outputs": [],
   "source": [
    "%matplotlib inline\n",
    "import numpy as np\n",
    "from PIL import Image\n",
    "from keras.models import model_from_json\n",
    "from keras.optimizers import RMSprop\n",
    "from mask_utils import get_images, get_input_prediction_tiles, image_from_tiles, \\\n",
    "                       image_generator, get_score_mask_images\n",
    "from glob import glob"
   ]
  },
  {
   "cell_type": "markdown",
   "metadata": {},
   "source": [
    "Load the model & weights that were most-recently created by train_mask_model.py."
   ]
  },
  {
   "cell_type": "code",
   "execution_count": 2,
   "metadata": {},
   "outputs": [],
   "source": [
    "model_file   = 'data/results/model_180106.json'\n",
    "weights_file = 'data/results/mask_weights_180106_143329.h5'\n",
    "\n",
    "with open(model_file,\"r\") as f:\n",
    "    json_string = f.read()\n",
    "model = model_from_json(json_string)\n",
    "model.load_weights(weights_file)\n",
    "# compile the model for evaluate()\n",
    "model.compile(loss='sparse_categorical_crossentropy',\n",
    "              optimizer=RMSprop(1e-3),\n",
    "              metrics=[\"accuracy\"])"
   ]
  },
  {
   "cell_type": "markdown",
   "metadata": {},
   "source": [
    "Create a set of images to check vs. the model."
   ]
  },
  {
   "cell_type": "code",
   "execution_count": 3,
   "metadata": {},
   "outputs": [],
   "source": [
    "#train_score_images, train_mask_images = get_score_mask_images('data/train')\n",
    "valid_score_images, valid_mask_images = get_score_mask_images('data/valid')\n",
    "test_score_images, test_mask_images = get_score_mask_images('data/valid')\n",
    "#num_train_images,rows,cols,channels = train_score_images.shape\n",
    "num_valid_images,rows,cols,channels  = valid_score_images.shape\n",
    "num_test_images,_,_,_ = test_score_images.shape\n",
    "batch_size = 32\n",
    "#train_generator = image_generator(train_score_images, train_mask_images,\n",
    "#                                  batch_size, channels)\n",
    "valid_generator = image_generator(valid_score_images, valid_mask_images,\n",
    "                                  batch_size, channels)\n",
    "test_generator = image_generator(test_score_images, test_mask_images,\n",
    "                                  batch_size, channels)"
   ]
  },
  {
   "cell_type": "markdown",
   "metadata": {},
   "source": [
    "Evaluate the compiled model vs the validation & test sets. \n",
    "The validation score should match what you saw in the output of your training log."
   ]
  },
  {
   "cell_type": "code",
   "execution_count": 4,
   "metadata": {},
   "outputs": [
    {
     "data": {
      "text/plain": [
       "[0.005416103920358564, 0.9993873103972404]"
      ]
     },
     "execution_count": 4,
     "metadata": {},
     "output_type": "execute_result"
    }
   ],
   "source": [
    "# does this match your expectation?\n",
    "model.evaluate_generator(valid_generator,steps=num_valid_images//batch_size)"
   ]
  },
  {
   "cell_type": "code",
   "execution_count": 5,
   "metadata": {},
   "outputs": [
    {
     "data": {
      "text/plain": [
       "[0.005416103901581899, 0.9993873103972404]"
      ]
     },
     "execution_count": 5,
     "metadata": {},
     "output_type": "execute_result"
    }
   ],
   "source": [
    "# here are some images that were never seen by the model before.\n",
    "# we hope they get a score similar to the validation set.\n",
    "model.evaluate_generator(test_generator,steps=num_test_images//batch_size)"
   ]
  },
  {
   "cell_type": "markdown",
   "metadata": {},
   "source": [
    "Now loop through the test cases, predicting the images and storing them as mask png files."
   ]
  },
  {
   "cell_type": "code",
   "execution_count": 5,
   "metadata": {},
   "outputs": [
    {
     "data": {
      "text/plain": [
       "['chromatic',\n",
       " 'frere',\n",
       " 'gen_key_a',\n",
       " 'gen_key_aes',\n",
       " 'gen_key_b',\n",
       " 'gen_key_bes',\n",
       " 'gen_key_ces',\n",
       " 'gen_key_cis',\n",
       " 'gen_key_d',\n",
       " 'gen_key_des',\n",
       " 'gen_key_e',\n",
       " 'gen_key_ees',\n",
       " 'gen_key_f',\n",
       " 'gen_key_fis',\n",
       " 'gen_key_g',\n",
       " 'gen_key_ges',\n",
       " 'gen_one',\n",
       " 'gen_three_1',\n",
       " 'gen_three_2',\n",
       " 'gen_three_3',\n",
       " 'gen_two',\n",
       " 'twinkle']"
      ]
     },
     "execution_count": 5,
     "metadata": {},
     "output_type": "execute_result"
    }
   ],
   "source": [
    "base_list = [x.replace('.png','').replace('../setup/','').replace('_mask','') for x in sorted(glob(\"../setup/*_mask.png\"))]\n",
    "base_list.remove('chromatic_piano') # FIXME dropping chromatic_piano temporarily\n",
    "base_list"
   ]
  },
  {
   "cell_type": "code",
   "execution_count": 6,
   "metadata": {},
   "outputs": [
    {
     "name": "stdout",
     "output_type": "stream",
     "text": [
      "predicting chromatic\n",
      "predicting frere\n",
      "predicting gen_key_a\n",
      "predicting gen_key_aes\n",
      "predicting gen_key_b\n",
      "predicting gen_key_bes\n",
      "predicting gen_key_ces\n",
      "predicting gen_key_cis\n",
      "predicting gen_key_d\n",
      "predicting gen_key_des\n",
      "predicting gen_key_e\n",
      "predicting gen_key_ees\n",
      "predicting gen_key_f\n",
      "predicting gen_key_fis\n",
      "predicting gen_key_g\n",
      "predicting gen_key_ges\n",
      "predicting gen_one\n",
      "predicting gen_three_1\n",
      "predicting gen_three_2\n",
      "predicting gen_three_3\n",
      "predicting gen_two\n",
      "predicting twinkle\n"
     ]
    }
   ],
   "source": [
    "#for base_name in ['chromatic','chromatic_piano','gen_one','gen_two','twinkle']:\n",
    "mask_images = {}\n",
    "pred_images = {}\n",
    "for base_name in base_list:\n",
    "    print(f\"predicting {base_name}\")\n",
    "    score_image, mask_images[base_name] = get_images(base_name)\n",
    "    input_tiles = get_input_prediction_tiles(score_image)\n",
    "    pred_tiles = model.predict(input_tiles)\n",
    "    pred_images[base_name] = image_from_tiles(score_image.width, score_image.height, \n",
    "                                             input_tiles.shape[0], pred_tiles, 1)\n",
    "    with open(f\"data/results/pred_mask_{base_name}.png\",'wb') as f:\n",
    "        pred_images[base_name].save(f)"
   ]
  },
  {
   "cell_type": "markdown",
   "metadata": {},
   "source": [
    "Compare the predicted vs. expected images... You'll probably want to do this outside of Jupyter notebook..."
   ]
  },
  {
   "cell_type": "code",
   "execution_count": 10,
   "metadata": {},
   "outputs": [
    {
     "data": {
      "image/png": "[encoded data removed]",
      "text/plain": [
       "<PIL.Image.Image image mode=L size=816x1056 at 0x7FAF4C5BC358>"
      ]
     },
     "execution_count": 10,
     "metadata": {},
     "output_type": "execute_result"
    }
   ],
   "source": [
    "# pred_images size is \"rounded up\" by grid size\n",
    "base = 'gen_three_2'\n",
    "w, h = mask_images[base].width, mask_images[base].height\n",
    "diff_ary = np.abs(np.asarray(mask_images[base]) - np.asarray(pred_images[base].crop((0,0,w,h))))\n",
    "diff_ary[0][0] = 255 # to make sure display scale is right, put 255 in (0,0)\n",
    "Image.fromarray(diff_ary,'L')\n",
    "#pred_images[base]\n",
    "#mask_images[base]"
   ]
  },
  {
   "cell_type": "code",
   "execution_count": null,
   "metadata": {
    "collapsed": true
   },
   "outputs": [],
   "source": []
  }
 ],
 "metadata": {
  "kernelspec": {
   "display_name": "Python 3",
   "language": "python",
   "name": "python3"
  },
  "language_info": {
   "codemirror_mode": {
    "name": "ipython",
    "version": 3
   },
   "file_extension": ".py",
   "mimetype": "text/x-python",
   "name": "python",
   "nbconvert_exporter": "python",
   "pygments_lexer": "ipython3",
   "version": "3.6.4"
  }
 },
 "nbformat": 4,
 "nbformat_minor": 2
}
