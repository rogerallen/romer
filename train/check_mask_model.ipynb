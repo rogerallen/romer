{
 "cells": [
  {
   "cell_type": "code",
   "execution_count": 3,
   "metadata": {},
   "outputs": [],
   "source": [
    "%matplotlib inline\n",
    "import numpy as np\n",
    "from PIL import Image\n",
    "from keras.models import model_from_json\n",
    "from mask_utils import get_images, get_input_prediction_tiles, image_from_tiles"
   ]
  },
  {
   "cell_type": "code",
   "execution_count": 4,
   "metadata": {
    "collapsed": true
   },
   "outputs": [],
   "source": [
    "with open(\"data/results/model_171108.json\",\"r\") as f:\n",
    "    json_string = f.read()\n",
    "model = model_from_json(json_string)"
   ]
  },
  {
   "cell_type": "code",
   "execution_count": 6,
   "metadata": {},
   "outputs": [],
   "source": [
    "# supposed to be best model\n",
    "#model.load_weights(\"data/results/mask_weights_171016_094411.h5\")\n",
    "# last model from last night\n",
    "#model.load_weights(\"data/results/mask_weights_171015_231421.h5\")\n",
    "# new, smaller model\n",
    "model.load_weights(\"data/results/mask_weights_171108_231829.h5\")"
   ]
  },
  {
   "cell_type": "code",
   "execution_count": 10,
   "metadata": {},
   "outputs": [
    {
     "name": "stdout",
     "output_type": "stream",
     "text": [
      "predicting chromatic\n",
      "predicting chromatic_piano\n",
      "predicting gen_one\n",
      "predicting gen_two\n",
      "predicting twinkle\n"
     ]
    }
   ],
   "source": [
    "#base_name = 'chromatic'\n",
    "for base_name in ['chromatic','chromatic_piano','gen_one','gen_two','twinkle']:\n",
    "    print(f\"predicting {base_name}\")\n",
    "    score_image, mask_image = get_images(base_name)\n",
    "    input_tiles = get_input_prediction_tiles(score_image)\n",
    "    pred_tiles = model.predict(input_tiles)\n",
    "    pred_one = image_from_tiles(score_image.width, score_image.height, \n",
    "                                input_tiles.shape[0], pred_tiles, 1)\n",
    "    #pred_one\n",
    "    with open(f\"data/results/pred_mask_{base_name}.png\",'wb') as f:\n",
    "        pred_one.save(f)"
   ]
  },
  {
   "cell_type": "code",
   "execution_count": 11,
   "metadata": {},
   "outputs": [
    {
     "data": {
      "image/png": "[encoded data removed]",
      "text/plain": [
       "<PIL.Image.Image image mode=L size=832x1152 at 0x7F79C87337F0>"
      ]
     },
     "execution_count": 11,
     "metadata": {},
     "output_type": "execute_result"
    }
   ],
   "source": [
    "pred_one"
   ]
  },
  {
   "cell_type": "code",
   "execution_count": 9,
   "metadata": {},
   "outputs": [
    {
     "data": {
      "image/png": "[encoded data removed]",
      "text/plain": [
       "<PIL.Image.Image image mode=L size=794x1123 at 0x7F79B07A0208>"
      ]
     },
     "execution_count": 9,
     "metadata": {},
     "output_type": "execute_result"
    }
   ],
   "source": [
    "mask_image"
   ]
  },
  {
   "cell_type": "code",
   "execution_count": null,
   "metadata": {
    "collapsed": true
   },
   "outputs": [],
   "source": []
  }
 ],
 "metadata": {
  "kernelspec": {
   "display_name": "Python 3",
   "language": "python",
   "name": "python3"
  },
  "language_info": {
   "codemirror_mode": {
    "name": "ipython",
    "version": 3
   },
   "file_extension": ".py",
   "mimetype": "text/x-python",
   "name": "python",
   "nbconvert_exporter": "python",
   "pygments_lexer": "ipython3",
   "version": "3.6.1"
  }
 },
 "nbformat": 4,
 "nbformat_minor": 2
}
