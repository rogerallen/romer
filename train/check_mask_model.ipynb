{
 "cells": [
  {
   "cell_type": "code",
   "execution_count": 15,
   "metadata": {},
   "outputs": [],
   "source": [
    "%matplotlib inline\n",
    "import numpy as np\n",
    "from PIL import Image\n",
    "from keras.models import model_from_json\n",
    "from keras.optimizers import RMSprop\n",
    "from mask_utils import get_images, get_input_prediction_tiles, image_from_tiles\n",
    "from glob import glob"
   ]
  },
  {
   "cell_type": "code",
   "execution_count": 17,
   "metadata": {
    "collapsed": true
   },
   "outputs": [],
   "source": [
    "class image_generator(object):\n",
    "    def __init__(self, X, Y, batch_size, channels):\n",
    "        self.X  = X\n",
    "        self.Y  = Y\n",
    "        self.bs = batch_size\n",
    "        self.channels = channels\n",
    "        self.i  = 0\n",
    "    def __next__(self):\n",
    "        xs = self.X[self.i:self.i+self.bs]\n",
    "        ys = self.Y[self.i:self.i+self.bs]\n",
    "        # convert 32,64,64,1 -> 32,4096,1\n",
    "        ys = ys.reshape(len(ys),-1,self.channels)\n",
    "        self.i = (self.i + self.bs) % self.X.shape[0]\n",
    "        return xs, ys\n",
    "\n",
    "def get_score_mask_images(path):\n",
    "    score_image_names = glob(path+'/diced_score*png')\n",
    "    mask_image_names = glob(path+'/diced_mask*png')\n",
    "    score_image_names.sort()\n",
    "    mask_image_names.sort()\n",
    "    score_images = np.stack([np.array(Image.open(fn)) for fn in score_image_names])\n",
    "    mask_images = np.stack([np.array(Image.open(fn))//255 for fn in mask_image_names])\n",
    "    score_images.shape = score_images.shape + (1,)\n",
    "    mask_images.shape = mask_images.shape + (1,)\n",
    "    assert(score_images.shape == mask_images.shape)\n",
    "    return score_images, mask_images"
   ]
  },
  {
   "cell_type": "markdown",
   "metadata": {},
   "source": [
    "Load the model & weights that were most-recently created by train_mask_model.py."
   ]
  },
  {
   "cell_type": "code",
   "execution_count": 16,
   "metadata": {
    "collapsed": true
   },
   "outputs": [],
   "source": [
    "model_file   = 'data/results/model_180106.json'\n",
    "weights_file = 'data/results/mask_weights_180106_143329.h5'\n",
    "\n",
    "#model_file   = 'data/results/model_171223.json'\n",
    "#weights_file = 'data/results/mask_weights_171223_134224.h5'\n",
    "# very interesting comparison.  Nomaxpool is WAY better than maxpool-enabled.\n",
    "#model_file   = 'data/results/model_171112.json'\n",
    "#weights_file = 'data/results/mask_weights_171112_123000.h5'\n",
    "\n",
    "with open(model_file,\"r\") as f:\n",
    "    json_string = f.read()\n",
    "model = model_from_json(json_string)\n",
    "model.load_weights(weights_file)"
   ]
  },
  {
   "cell_type": "markdown",
   "metadata": {},
   "source": [
    "Create a set of images to check vs. the model."
   ]
  },
  {
   "cell_type": "code",
   "execution_count": 23,
   "metadata": {},
   "outputs": [],
   "source": [
    "train_score_images, train_mask_images = get_score_mask_images('data/train')\n",
    "valid_score_images, valid_mask_images = get_score_mask_images('data/valid')\n",
    "test_score_images, test_mask_images = get_score_mask_images('data/valid')\n",
    "num_train_images,rows,cols,channels = train_score_images.shape\n",
    "num_valid_images,_,_,_ = valid_score_images.shape\n",
    "num_test_images,_,_,_ = test_score_images.shape\n",
    "batch_size = 32\n",
    "train_generator = image_generator(train_score_images, train_mask_images,\n",
    "                                  batch_size, channels)\n",
    "valid_generator = image_generator(valid_score_images, valid_mask_images,\n",
    "                                  batch_size, channels)\n",
    "test_generator = image_generator(test_score_images, test_mask_images,\n",
    "                                  batch_size, channels)"
   ]
  },
  {
   "cell_type": "markdown",
   "metadata": {},
   "source": [
    "Compile the model & then evaluate it vs the validation & test sets. \n",
    "The validation score should match what you saw in the output of your training log."
   ]
  },
  {
   "cell_type": "code",
   "execution_count": 24,
   "metadata": {},
   "outputs": [],
   "source": [
    "model.compile(loss='sparse_categorical_crossentropy',\n",
    "              optimizer=RMSprop(1e-3),\n",
    "              metrics=[\"accuracy\"])"
   ]
  },
  {
   "cell_type": "code",
   "execution_count": 37,
   "metadata": {},
   "outputs": [
    {
     "data": {
      "text/plain": [
       "[0.0053708083116191319, 0.99939882989967188]"
      ]
     },
     "execution_count": 37,
     "metadata": {},
     "output_type": "execute_result"
    }
   ],
   "source": [
    "# does this match your expectation?\n",
    "model.evaluate_generator(valid_generator,steps=num_valid_images//batch_size)"
   ]
  },
  {
   "cell_type": "code",
   "execution_count": 38,
   "metadata": {},
   "outputs": [
    {
     "data": {
      "text/plain": [
       "[0.005418685425822853, 0.99938681532227547]"
      ]
     },
     "execution_count": 38,
     "metadata": {},
     "output_type": "execute_result"
    }
   ],
   "source": [
    "# here are some images that were never seen by the model before.\n",
    "# we hope they get a score similar to the validation set.\n",
    "model.evaluate_generator(test_generator,steps=num_test_images//batch_size)"
   ]
  },
  {
   "cell_type": "markdown",
   "metadata": {},
   "source": [
    "Now loop through the test cases, predicting the images and storing them as mask png files."
   ]
  },
  {
   "cell_type": "code",
   "execution_count": 39,
   "metadata": {},
   "outputs": [
    {
     "name": "stdout",
     "output_type": "stream",
     "text": [
      "predicting chromatic\n",
      "predicting gen_one\n",
      "predicting gen_two\n",
      "predicting twinkle\n"
     ]
    }
   ],
   "source": [
    "#for base_name in ['chromatic','chromatic_piano','gen_one','gen_two','twinkle']:\n",
    "for base_name in ['chromatic','gen_one','gen_two','twinkle']:\n",
    "    print(f\"predicting {base_name}\")\n",
    "    score_image, mask_image = get_images(base_name)\n",
    "    input_tiles = get_input_prediction_tiles(score_image)\n",
    "    pred_tiles = model.predict(input_tiles)\n",
    "    pred_one = image_from_tiles(score_image.width, score_image.height, \n",
    "                                input_tiles.shape[0], pred_tiles, 1)\n",
    "    #pred_one\n",
    "    with open(f\"data/results/pred_mask_{base_name}.png\",'wb') as f:\n",
    "        pred_one.save(f)"
   ]
  },
  {
   "cell_type": "markdown",
   "metadata": {},
   "source": [
    "Compare the predicted vs. expected images... You'll probably want to do this outside of Jupyter notebook..."
   ]
  },
  {
   "cell_type": "code",
   "execution_count": 40,
   "metadata": {},
   "outputs": [
    {
     "data": {
      "image/png": "[encoded data removed]",
      "text/plain": [
       "<PIL.Image.Image image mode=L size=832x1088 at 0x7F0BA748B6A0>"
      ]
     },
     "execution_count": 40,
     "metadata": {},
     "output_type": "execute_result"
    }
   ],
   "source": [
    "pred_one"
   ]
  },
  {
   "cell_type": "code",
   "execution_count": 41,
   "metadata": {},
   "outputs": [
    {
     "data": {
      "image/png": "[encoded data removed]",
      "text/plain": [
       "<PIL.Image.Image image mode=L size=816x1056 at 0x7F0BA74B9EF0>"
      ]
     },
     "execution_count": 41,
     "metadata": {},
     "output_type": "execute_result"
    }
   ],
   "source": [
    "mask_image"
   ]
  },
  {
   "cell_type": "code",
   "execution_count": null,
   "metadata": {
    "collapsed": true
   },
   "outputs": [],
   "source": []
  }
 ],
 "metadata": {
  "kernelspec": {
   "display_name": "Python 3",
   "language": "python",
   "name": "python3"
  },
  "language_info": {
   "codemirror_mode": {
    "name": "ipython",
    "version": 3
   },
   "file_extension": ".py",
   "mimetype": "text/x-python",
   "name": "python",
   "nbconvert_exporter": "python",
   "pygments_lexer": "ipython3",
   "version": "3.6.3"
  }
 },
 "nbformat": 4,
 "nbformat_minor": 2
}
