{
 "cells": [
  {
   "cell_type": "code",
   "execution_count": 24,
   "metadata": {
    "collapsed": true
   },
   "outputs": [],
   "source": [
    "%matplotlib inline\n",
    "import matplotlib.pyplot as plt\n",
    "import matplotlib.patches as patches\n",
    "import numpy as np\n",
    "from PIL import Image\n",
    "from skimage import measure, color, io\n",
    "import json"
   ]
  },
  {
   "cell_type": "code",
   "execution_count": 30,
   "metadata": {
    "collapsed": true
   },
   "outputs": [],
   "source": [
    "# found lots of image values > 0 and < 255.  Fix those\n",
    "def my_threshold(x):\n",
    "    return 255 if x > 250 else 0\n",
    "\n",
    "my_threshold = np.vectorize(my_threshold)\n",
    "\n",
    "def get_labels(mask_file_name):\n",
    "    mask_image = Image.open(mask_file_name).convert('L')\n",
    "    mask_array = np.reshape(np.asarray(mask_image),(mask_image.height,mask_image.width))\n",
    "    total_pixels = mask_image.height * mask_image.width\n",
    "    # get rid of any 255,254 noise\n",
    "    #mask_array = np.clip(mask_array*100.0,0,255).astype('uint8')\n",
    "    mask_array = my_threshold(mask_array)\n",
    "    #print(mask_array.dtype,mask_array.shape,np.min(mask_array),np.max(mask_array))\n",
    "    # label individual regions\n",
    "    mask_labels, num_labels = measure.label(mask_array,return_num=True,background=0.0,connectivity=2)\n",
    "    #print(mask_labels.shape,num_labels)\n",
    "    return total_pixels, mask_labels, num_labels\n",
    "\n",
    "def get_rects(total_pixels,mask_labels):\n",
    "    # find rectangles and return as array of tuples (x0,y0,w,h)\n",
    "    regions = []\n",
    "    mask_props = measure.regionprops(mask_labels)\n",
    "    ave_h = 0\n",
    "    num_good_labels = 0\n",
    "    for i in range(num_labels):\n",
    "        if mask_props[i].area > total_pixels*0.005:\n",
    "            (y0,x0,y1,x1) = mask_props[i].bbox\n",
    "            h = (y1-y0)\n",
    "            ave_h += h\n",
    "            num_good_labels += 1\n",
    "    ave_h /= num_good_labels\n",
    "    ave_h2 = ave_h/2\n",
    "    print(\"good_regions = %d\"%(num_good_labels))\n",
    "    for i in range(num_labels):\n",
    "        if mask_props[i].area > total_pixels*0.005:\n",
    "            (y0,x0,y1,x1) = mask_props[i].bbox\n",
    "            yc,xc = mask_props[i].centroid\n",
    "            h = (y1-y0)\n",
    "            h2 = h/2\n",
    "            # m = 0 FIXME to deal with rotations\n",
    "            regions.append((x0,int(yc-ave_h2),(x1-x0),int(ave_h),0.0,int(yc)))\n",
    "    if len(regions) == 0:\n",
    "        print(\"No good regions found\")\n",
    "        return []\n",
    "    if len(regions) == 1:\n",
    "        print(\"Only one region.  Guessing at ave_dy\")\n",
    "        ave_dy = 3*ave_h\n",
    "    else:\n",
    "        ave_dy = 0\n",
    "        for i in range(len(regions)-1):\n",
    "            (x,y,w,h,m,b) = regions[i]\n",
    "            (_,y1,_,_,_,b1) = regions[i+1]\n",
    "            dy = y1 - y\n",
    "            ave_dy += dy\n",
    "        ave_dy /= len(regions)-1\n",
    "    ave_dy2 = ave_dy/2\n",
    "    out_h2 = int(ave_dy2 * 1.5) # a little more margin is good\n",
    "    rects = []\n",
    "    for i in range(len(regions)):\n",
    "        (x,y,w,h,m,b) = regions[i]\n",
    "        rects.append((x,y+h//2-out_h2,w,2*out_h2))\n",
    "    return rects\n",
    "\n",
    "def get_score_image(base_name):\n",
    "    score_file_name = f'../data/{base_name}.png'\n",
    "    score_image = Image.open(score_file_name)\n",
    "    background = Image.new('RGBA', score_image.size, (255,255,255))\n",
    "    score_image = Image.alpha_composite(background,score_image)\n",
    "    score_image = score_image.convert('L')\n",
    "    return score_image\n",
    "\n",
    "def save_score_training_images(base_name,output_path,rects,training_info):\n",
    "    score_image = get_score_image(base_name)\n",
    "    for i,(x,y,w,h) in enumerate(rects):\n",
    "        name = 'strip_score_%s_%02d.png'%(base_name,i)\n",
    "        #print(\"%s %d %d\"%(name,x,y))\n",
    "        training_info.append({\"name\": name, \"x\": x, \"y\": y, \"width\": w, \"height\": h})\n",
    "        score_image.crop((x,y,x+w,y+h)).save(output_path+\"/\"+name) "
   ]
  },
  {
   "cell_type": "code",
   "execution_count": 33,
   "metadata": {},
   "outputs": [
    {
     "name": "stdout",
     "output_type": "stream",
     "text": [
      "base_name = chromatic\n",
      "good_regions = 1\n",
      "Only one region.  Guessing at ave_dy\n",
      "base_name = chromatic_piano\n",
      "good_regions = 2\n",
      "base_name = gen_one\n",
      "good_regions = 8\n",
      "base_name = gen_two\n",
      "good_regions = 12\n",
      "base_name = twinkle\n",
      "good_regions = 2\n"
     ]
    }
   ],
   "source": [
    "#base_name = 'gen_one'\n",
    "training_info = []\n",
    "for base_name in ['chromatic','chromatic_piano','gen_one','gen_two','twinkle']:\n",
    "    print(f\"base_name = {base_name}\")\n",
    "    total_pixels, mask_labels, num_labels = get_labels(f\"data/results/pred_mask_{base_name}.png\")\n",
    "    rects = get_rects(total_pixels, mask_labels)\n",
    "    save_score_training_images(base_name,'data/train2',rects,training_info)\n",
    "with open(f\"data/train2/strip_score_info.json\", 'w') as outfile:\n",
    "    json.dump(training_info, outfile, indent = 2)"
   ]
  },
  {
   "cell_type": "code",
   "execution_count": 9,
   "metadata": {
    "collapsed": true
   },
   "outputs": [],
   "source": []
  },
  {
   "cell_type": "code",
   "execution_count": 5,
   "metadata": {
    "collapsed": true
   },
   "outputs": [],
   "source": [
    "# remains of earlier iterations..."
   ]
  },
  {
   "cell_type": "code",
   "execution_count": 6,
   "metadata": {},
   "outputs": [
    {
     "data": {
      "image/png": "[encoded data removed]",
      "text/plain": [
       "<PIL.Image.Image image mode=L size=718x80 at 0x7F93BEAF5C18>"
      ]
     },
     "execution_count": 6,
     "metadata": {},
     "output_type": "execute_result"
    }
   ],
   "source": [
    "score_image = get_score_image('gen_two')\n",
    "out_path = 'data/train'\n",
    "(x,y,w,h) = rects[-1]\n",
    "score_image.crop((x,y,x+w,y+h))#.save()"
   ]
  },
  {
   "cell_type": "code",
   "execution_count": 7,
   "metadata": {},
   "outputs": [
    {
     "data": {
      "image/png": "[encoded data removed]",
      "text/plain": [
       "<matplotlib.figure.Figure at 0x7f93adf1d278>"
      ]
     },
     "metadata": {},
     "output_type": "display_data"
    }
   ],
   "source": [
    "fig,ax = plt.subplots(1,figsize=(16,23))\n",
    "ax.imshow(mask_labels)#,vmin=32,vmax=568) #cmap=\"Greys\",\n",
    "for (x,y,w,h) in rects:\n",
    "    ax.add_patch(patches.Rectangle((x,y),w,h,linewidth=1,edgecolor='r',facecolor='none'))\n",
    "plt.show()"
   ]
  },
  {
   "cell_type": "code",
   "execution_count": null,
   "metadata": {
    "collapsed": true
   },
   "outputs": [],
   "source": [
    "fig,ax = plt.subplots(1,figsize=(16,23))\n",
    "ax.imshow(mask_labels)#,vmin=32,vmax=568) #cmap=\"Greys\",\n",
    "ave_dy = 0\n",
    "for i in range(len(regions)-1):\n",
    "    (x,y,w,h,m,b) = regions[i]\n",
    "    (_,y1,_,_,_,b1) = regions[i+1]\n",
    "    dy = y1 - y\n",
    "    ave_dy += dy\n",
    "ave_dy /= len(regions)-1\n",
    "ave_dy2 = ave_dy/2\n",
    "for i in range(len(regions)):\n",
    "    (x,y,w,h,m,b) = regions[i]\n",
    "    #ax.add_patch(patches.Rectangle((x,m*x+b),w,2,linewidth=1,edgecolor='w',facecolor='none'))\n",
    "    ax.add_patch(patches.Rectangle((x,y+h/2-ave_dy2),w,ave_dy,linewidth=1,edgecolor='r',facecolor='none'))\n",
    "plt.show()"
   ]
  },
  {
   "cell_type": "code",
   "execution_count": null,
   "metadata": {
    "collapsed": true
   },
   "outputs": [],
   "source": [
    "# playing with histograms & found had to zoom in to see spots using valuese > 0 and < 255.\n",
    "# used this to create myclamp\n",
    "mask_image = Image.open(\"data/results/pred_mask_gen_two.png\").convert('L')\n",
    "mask_array = np.reshape(np.asarray(mask_image),(mask_image.height*mask_image.width))\n",
    "#mask_array = np.clip(mask_array*1.0,0,255).astype('uint8')\n",
    "mask_array = my_threshold(mask_array)\n",
    "plt.hist(mask_array,bins=256)# = mask_array*2\n",
    "plt.ylim((0,100))\n",
    "plt.show()"
   ]
  },
  {
   "cell_type": "code",
   "execution_count": null,
   "metadata": {
    "collapsed": true,
    "scrolled": false
   },
   "outputs": [],
   "source": [
    "fig,ax = plt.subplots(1,figsize=(16,23))\n",
    "ax.imshow(mask_labels)#,vmin=32,vmax=568) #cmap=\"Greys\",\n",
    "mask_props = measure.regionprops(mask_labels)\n",
    "ave_h = 0\n",
    "num_good_labels = 0\n",
    "for i in range(num_labels):\n",
    "    if mask_props[i].area > total_pixels*0.005:\n",
    "        (y0,x0,y1,x1) = mask_props[i].bbox\n",
    "        h = (y1-y0)\n",
    "        ave_h += h\n",
    "        num_good_labels += 1\n",
    "ave_h /= num_good_labels\n",
    "ave_h2 = ave_h/2\n",
    "for i in range(num_labels):\n",
    "    if mask_props[i].area > total_pixels*0.005:\n",
    "        (y0,x0,y1,x1) = mask_props[i].bbox\n",
    "        yc,xc = mask_props[i].centroid\n",
    "        #m1,b1 = np.polyfit(mask_props[i].coords[:,0],mask_props[i].coords[:,1],1)\n",
    "        #print(i,x0,y0,x1,y1,m1,b1,(y1+y0)/2)\n",
    "        h = (y1-y0)\n",
    "        h2 = h/2\n",
    "        ax.add_patch(patches.Rectangle((x0,yc-h2),(x1-x0),h,linewidth=1,edgecolor='w',facecolor='none'))\n",
    "        ax.add_patch(patches.Rectangle((x0,yc-ave_h2),(x1-x0),ave_h,linewidth=1,edgecolor='r',facecolor='none'))\n",
    "plt.show()\n",
    "        "
   ]
  },
  {
   "cell_type": "code",
   "execution_count": null,
   "metadata": {
    "collapsed": true
   },
   "outputs": [],
   "source": []
  }
 ],
 "metadata": {
  "kernelspec": {
   "display_name": "Python 3",
   "language": "python",
   "name": "python3"
  },
  "language_info": {
   "codemirror_mode": {
    "name": "ipython",
    "version": 3
   },
   "file_extension": ".py",
   "mimetype": "text/x-python",
   "name": "python",
   "nbconvert_exporter": "python",
   "pygments_lexer": "ipython3",
   "version": "3.6.1"
  }
 },
 "nbformat": 4,
 "nbformat_minor": 2
}
