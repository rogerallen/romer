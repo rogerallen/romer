{
 "cells": [
  {
   "cell_type": "code",
   "execution_count": 1,
   "metadata": {},
   "outputs": [],
   "source": [
    "%matplotlib inline\n",
    "import matplotlib.pyplot as plt\n",
    "import matplotlib.patches as patches\n",
    "import numpy as np\n",
    "from PIL import Image\n",
    "from skimage import measure, color, io\n",
    "import json\n",
    "import csv\n",
    "from math import floor\n",
    "from glob import glob\n",
    "import os"
   ]
  },
  {
   "cell_type": "code",
   "execution_count": 2,
   "metadata": {},
   "outputs": [],
   "source": [
    "# found lots of image values > 0 and < 255.  Fix those\n",
    "def my_threshold(x):\n",
    "    return 255 if x > 250 else 0\n",
    "\n",
    "my_threshold = np.vectorize(my_threshold)\n",
    "\n",
    "def get_labels(mask_file_name):\n",
    "    mask_image = Image.open(mask_file_name).convert('L')\n",
    "    mask_array = np.reshape(np.asarray(mask_image),(mask_image.height,mask_image.width))\n",
    "    total_pixels = mask_image.height * mask_image.width\n",
    "    # get rid of any 255,254 noise\n",
    "    #mask_array = np.clip(mask_array*100.0,0,255).astype('uint8')\n",
    "    mask_array = my_threshold(mask_array)\n",
    "    #print(mask_array.dtype,mask_array.shape,np.min(mask_array),np.max(mask_array))\n",
    "    # label individual regions\n",
    "    mask_labels, num_labels = measure.label(mask_array,return_num=True,background=0.0,connectivity=2)\n",
    "    #print(mask_labels.shape,num_labels)\n",
    "    return total_pixels, mask_labels, num_labels\n",
    "\n",
    "def get_rects(total_pixels,mask_labels):\n",
    "    # find rectangles and return as array of tuples (x0,y0,w,h)\n",
    "    regions = []\n",
    "    mask_props = measure.regionprops(mask_labels)\n",
    "    ave_h = 0\n",
    "    num_good_labels = 0\n",
    "    for i in range(num_labels):\n",
    "        if mask_props[i].area > total_pixels*0.005:\n",
    "            (y0,x0,y1,x1) = mask_props[i].bbox\n",
    "            h = (y1-y0)\n",
    "            ave_h += h\n",
    "            num_good_labels += 1\n",
    "    ave_h /= num_good_labels\n",
    "    ave_h2 = ave_h/2\n",
    "    print(\"good_regions = %d\"%(num_good_labels))\n",
    "    for i in range(num_labels):\n",
    "        if mask_props[i].area > total_pixels*0.005:\n",
    "            (y0,x0,y1,x1) = mask_props[i].bbox\n",
    "            yc,xc = mask_props[i].centroid\n",
    "            h = (y1-y0)\n",
    "            h2 = h/2\n",
    "            # m = 0 FIXME to deal with rotations\n",
    "            regions.append((x0,int(yc-ave_h2),(x1-x0),int(ave_h),0.0,int(yc)))\n",
    "    if len(regions) == 0:\n",
    "        print(\"No good regions found\")\n",
    "        return []\n",
    "    #if len(regions) == 1:\n",
    "    #    print(\"Only one region.  Guessing at ave_dy\")\n",
    "    #    ave_dy = 3*ave_h\n",
    "    #else:\n",
    "    #    ave_dy = 0\n",
    "    #    for i in range(len(regions)-1):\n",
    "    #        (x,y,w,h,m,b) = regions[i]\n",
    "    #        (_,y1,_,_,_,b1) = regions[i+1]\n",
    "    #        dy = y1 - y\n",
    "    #        ave_dy += dy\n",
    "    #    ave_dy /= len(regions)-1\n",
    "    #ave_dy2 = ave_dy/2\n",
    "    #out_h2 = int(ave_dy2 * 1.5) # a little more margin is good\n",
    "    out_h2 = 120/2 # need them all to have the same size\n",
    "    rects = []\n",
    "    for i in range(len(regions)):\n",
    "        (x,y,w,h,m,b) = regions[i]\n",
    "        rects.append((x,y+h//2-out_h2,w,2*out_h2))\n",
    "    return rects\n",
    "\n",
    "def get_score_image(base_name):\n",
    "    score_file_name = f'../setup/{base_name}.png'\n",
    "    score_image = Image.open(score_file_name)\n",
    "    background = Image.new('RGBA', score_image.size, (255,255,255))\n",
    "    score_image = Image.alpha_composite(background,score_image)\n",
    "    score_image = score_image.convert('L')\n",
    "    return score_image\n",
    "\n",
    "def save_score_training_images(base_name,output_path,rects,training_info):\n",
    "    score_image = get_score_image(base_name)\n",
    "    for i,(x,y,w,h) in enumerate(rects):\n",
    "        name = 'strip_score_%s_%02d.png'%(base_name,i)\n",
    "        #print(\"%s %d %d\"%(name,x,y))\n",
    "        training_info.append({\"base\": base_name, \"name\": name, \"x\": x, \"y\": y, \"width\": w, \"height\": h})\n",
    "        score_image.crop((x,y,x+w,y+h)).save(output_path+\"/\"+name) "
   ]
  },
  {
   "cell_type": "code",
   "execution_count": 3,
   "metadata": {
    "collapsed": true
   },
   "outputs": [],
   "source": [
    "# do this once\n",
    "#!mkdir data/train2"
   ]
  },
  {
   "cell_type": "markdown",
   "metadata": {},
   "source": [
    "This uses the data/results/pred\\_mask\\_\\*... files to create data/train2/ png files that are isolated 'strips' that exactly isolate a staff.  The json file also describes these strips in order to help train."
   ]
  },
  {
   "cell_type": "code",
   "execution_count": 7,
   "metadata": {},
   "outputs": [
    {
     "name": "stdout",
     "output_type": "stream",
     "text": [
      "base_name = chromatic\n",
      "good_regions = 1\n",
      "base_name = twinkle\n",
      "good_regions = 2\n",
      "base_name = gen_one\n",
      "good_regions = 10\n",
      "base_name = gen_two\n",
      "good_regions = 12\n",
      "base_name = gen_three_1\n",
      "good_regions = 12\n",
      "base_name = gen_three_2\n",
      "good_regions = 13\n",
      "base_name = gen_three_3\n",
      "good_regions = 11\n",
      "saving json info file.\n"
     ]
    }
   ],
   "source": [
    "#base_name = 'gen_one'\n",
    "training_info = []\n",
    "#for base_name in ['chromatic','chromatic_piano','gen_one','gen_two','twinkle']:\n",
    "for base_name in ['chromatic','twinkle','gen_one','gen_two',\n",
    "                  'gen_three_1','gen_three_2','gen_three_3']:\n",
    "    print(f\"base_name = {base_name}\")\n",
    "    total_pixels, mask_labels, num_labels = get_labels(f\"data/results/pred_mask_{base_name}.png\")\n",
    "    # going to change to use golden mask files for this...\n",
    "    #total_pixels, mask_labels, num_labels = get_labels(f\"../setup/{base_name}_mask.png\")\n",
    "    rects = get_rects(total_pixels, mask_labels)\n",
    "    save_score_training_images(base_name,'data/train2',rects,training_info)\n",
    "print(\"saving json info file.\")\n",
    "with open(f\"data/train2/strip_score_info.json\", 'w') as outfile:\n",
    "    json.dump(training_info, outfile, indent = 2)"
   ]
  },
  {
   "cell_type": "code",
   "execution_count": 8,
   "metadata": {},
   "outputs": [],
   "source": [
    "# save the cropped images to train the resnet\n",
    "!mkdir -p data/train3\n",
    "!mkdir -p data/test3\n",
    "!mkdir -p data/valid3\n",
    "# clean up previous runs\n",
    "!rm -f data/train3/*png\n",
    "!rm -f data/test3/*png\n",
    "!rm -f data/valid3/*png"
   ]
  },
  {
   "cell_type": "code",
   "execution_count": 9,
   "metadata": {
    "scrolled": true
   },
   "outputs": [
    {
     "name": "stdout",
     "output_type": "stream",
     "text": [
      "loading chromatic\n",
      "loading twinkle\n",
      "loading gen_one\n",
      "loading gen_two\n",
      "loading gen_three_1\n",
      "loading gen_three_2\n",
      "loading gen_three_3\n",
      "saved 44748 crop_score images\n",
      "saving json info file.\n"
     ]
    }
   ],
   "source": [
    "def get_notes(base_name):\n",
    "    notes = []\n",
    "    with open(f'../setup/{base_name}.rmfxy') as csvfile:\n",
    "        for row in csv.reader(csvfile):\n",
    "            if row[0] == 'note':\n",
    "                notes.append(row[1:])  \n",
    "    return notes\n",
    "\n",
    "img_crop_width = 32\n",
    "note_width = 7\n",
    "img_step = 1 # was 4 & had overfitting.  Trying 1 just to see...\n",
    "cur_base_name = None\n",
    "cropped_img_index = 0\n",
    "\n",
    "cropped_image_output_info = []\n",
    "\n",
    "for cur_score_info in training_info:\n",
    "    #print(\"================================================================================\")\n",
    "    #print(\"cur_score = \",cur_score_info['name'])\n",
    "    if cur_base_name == None or cur_base_name != cur_score_info['base']:\n",
    "        cur_base_name = cur_score_info['base']\n",
    "        print(f\"loading {cur_base_name}\")\n",
    "        notes = get_notes(cur_base_name)\n",
    "        note_index = 0\n",
    "    img_crop_height = cur_score_info['height']\n",
    "    sent_note = False\n",
    "    #cur_img =     score_file_name = f'../setup/{base_name}.png'\n",
    "    cur_img = Image.open('data/train2/' + cur_score_info['name'])\n",
    "    for img_x in range(0,cur_score_info['width'],img_step):\n",
    "        #print(cropped_img_index,\"crop\",cur_score_info['name'],\"to\",cur_score_info['x'] + img_x,end=\"\")\n",
    "        cropped_img_name = f'data/train3/crop_score_%05d.png'%(cropped_img_index)\n",
    "        cur_img.crop((img_x,                  0,\n",
    "                      img_x + img_crop_width, img_crop_height)).save(cropped_img_name) \n",
    "        cropped_img_index += 1\n",
    "        if note_index < len(notes):\n",
    "            n = notes[note_index]\n",
    "            nx = floor(float(n[3]))\n",
    "            if nx <= cur_score_info['x'] + img_x + img_crop_width//2 <= nx + note_width:\n",
    "                sent_note = True\n",
    "                #print(\":\",note_index,n)\n",
    "                # 67,6.000000,2.000000,316.145720,57.260594\n",
    "                # note, beat, length, x, y.  Just want to save note & length at the moment\n",
    "                # length=1=quarter note.  have 16th notes too.  multiply by 4\n",
    "                # we need the notes from -1,0,1..127 to map to 1..130 so that we leave room\n",
    "                # for the 0=\"none\" value\n",
    "                cropped_image_output_info.append([int(n[0])+2,int(float(n[2])*4)])\n",
    "            else:\n",
    "                #print(\": no note\")\n",
    "                cropped_image_output_info.append([0,0])\n",
    "                if sent_note:\n",
    "                    sent_note = False\n",
    "                    note_index += 1\n",
    "        else:\n",
    "            #print(\": no note\")\n",
    "            cropped_image_output_info.append([0,0])\n",
    "            \n",
    "print(\"saved %d crop_score images\"%(cropped_img_index))\n",
    "print(\"saving json info file.\")\n",
    "with open(f\"data/train3/crop_score_info.json\", 'w') as outfile:\n",
    "    json.dump(cropped_image_output_info, outfile, indent = 2)"
   ]
  },
  {
   "cell_type": "code",
   "execution_count": 10,
   "metadata": {},
   "outputs": [
    {
     "name": "stdout",
     "output_type": "stream",
     "text": [
      "total=44748 train=26850 valid=8949 test=8949\n"
     ]
    }
   ],
   "source": [
    "# move files into train/validation/test dirs\n",
    "all_files  = glob('data/train3/crop_score_*.png')\n",
    "num_images = len(all_files)\n",
    "num_valid  = int(0.2*num_images)\n",
    "num_test   = int(0.2*num_images)\n",
    "num_train  = num_images-num_valid-num_test\n",
    "print(\"total=%d train=%d valid=%d test=%d\"%(num_images,num_train,num_valid,num_test))\n",
    "# shuffle the files & then put them into new spots on the tree\n",
    "# BUT, make sure to move mask & score files \n",
    "all_files  = np.random.permutation(all_files)\n",
    "for i in range(num_valid): \n",
    "    old_file = all_files[i]\n",
    "    new_file = old_file.replace(\"train\",\"valid\")\n",
    "    os.rename(old_file, new_file)\n",
    "for i in range(num_valid,num_valid+num_test): \n",
    "    old_file = all_files[i]\n",
    "    new_file = old_file.replace(\"train\",\"test\")\n",
    "    os.rename(old_file, new_file)\n"
   ]
  },
  {
   "cell_type": "code",
   "execution_count": 8,
   "metadata": {
    "collapsed": true
   },
   "outputs": [],
   "source": [
    "# older things..."
   ]
  },
  {
   "cell_type": "code",
   "execution_count": 9,
   "metadata": {},
   "outputs": [
    {
     "data": {
      "text/plain": [
       "(array([12484,   288,  1216,     0,  1736,     0,     0,     0,   560,\n",
       "            0,     0,     0,     0,     0,     0,   512]),\n",
       " array([  0.,   1.,   2.,   3.,   4.,   5.,   6.,   7.,   8.,   9.,  10.,\n",
       "         11.,  12.,  13.,  14.,  15.,  16.]))"
      ]
     },
     "execution_count": 9,
     "metadata": {},
     "output_type": "execute_result"
    }
   ],
   "source": [
    "# how many bins do we need for the note lengths?\n",
    "ii = np.array(cropped_image_output_info)\n",
    "np.histogram(ii[:,1],bins=16)"
   ]
  },
  {
   "cell_type": "code",
   "execution_count": 15,
   "metadata": {},
   "outputs": [
    {
     "data": {
      "text/plain": [
       "(array([12484,   208,     0,     0,     0,     0,     0,     0,     0,\n",
       "            0,     0,     0,     0,     0,     0,     0,     0,     0,\n",
       "            0,     0,     0,     0,     0,     0,     0,     0,     0,\n",
       "            0,     0,     0,     0,     0,     0,     0,     0,     0,\n",
       "            0,     0,     0,     0,     0,     0,     0,     0,     0,\n",
       "            0,     0,     0,     0,     0,     0,     0,     0,     0,\n",
       "            0,     0,     0,     0,     0,     8,     8,     8,   160,\n",
       "          216,   160,   216,   176,   176,   216,   192,   216,   144,\n",
       "          216,   112,   112,   216,   112,   216,   112,   112,   216,\n",
       "          112,   216,   112,   216,   112,    16]),\n",
       " array([  0.,   1.,   2.,   3.,   4.,   5.,   6.,   7.,   8.,   9.,  10.,\n",
       "         11.,  12.,  13.,  14.,  15.,  16.,  17.,  18.,  19.,  20.,  21.,\n",
       "         22.,  23.,  24.,  25.,  26.,  27.,  28.,  29.,  30.,  31.,  32.,\n",
       "         33.,  34.,  35.,  36.,  37.,  38.,  39.,  40.,  41.,  42.,  43.,\n",
       "         44.,  45.,  46.,  47.,  48.,  49.,  50.,  51.,  52.,  53.,  54.,\n",
       "         55.,  56.,  57.,  58.,  59.,  60.,  61.,  62.,  63.,  64.,  65.,\n",
       "         66.,  67.,  68.,  69.,  70.,  71.,  72.,  73.,  74.,  75.,  76.,\n",
       "         77.,  78.,  79.,  80.,  81.,  82.,  83.,  84.,  85.,  86.,  87.]))"
      ]
     },
     "execution_count": 15,
     "metadata": {},
     "output_type": "execute_result"
    }
   ],
   "source": [
    "# how many bins do we need for the notes?\n",
    "ii = np.array(cropped_image_output_info)\n",
    "np.histogram(ii[:,0],bins=87) # full range is 0...129 or 130 units"
   ]
  },
  {
   "cell_type": "code",
   "execution_count": 61,
   "metadata": {},
   "outputs": [
    {
     "data": {
      "text/plain": [
       "{'base': 'twinkle',\n",
       " 'height': 120,\n",
       " 'name': 'strip_score_twinkle_00.png',\n",
       " 'width': 684,\n",
       " 'x': 94,\n",
       " 'y': -11}"
      ]
     },
     "execution_count": 61,
     "metadata": {},
     "output_type": "execute_result"
    }
   ],
   "source": [
    "training_info[-2]"
   ]
  },
  {
   "cell_type": "code",
   "execution_count": 146,
   "metadata": {},
   "outputs": [
    {
     "data": {
      "image/png": "[encoded data removed]",
      "text/plain": [
       "<PIL.PngImagePlugin.PngImageFile image mode=L size=684x120 at 0x7F37E1B304E0>"
      ]
     },
     "execution_count": 146,
     "metadata": {},
     "output_type": "execute_result"
    }
   ],
   "source": [
    "im = Image.open('data/train2/'+training_info[-2]['name'])\n",
    "im"
   ]
  },
  {
   "cell_type": "code",
   "execution_count": 63,
   "metadata": {},
   "outputs": [
    {
     "data": {
      "image/png": "[encoded data removed]",
      "text/plain": [
       "<PIL.Image.Image image mode=L size=48x120 at 0x7F37E1A214A8>"
      ]
     },
     "execution_count": 63,
     "metadata": {},
     "output_type": "execute_result"
    }
   ],
   "source": [
    "# first note is \n",
    "# note,60,0.000000,1.000000,151.638656,70.544111\n",
    "im.crop(((151-94)-16,0,(151-94)+32,120))"
   ]
  },
  {
   "cell_type": "code",
   "execution_count": 64,
   "metadata": {},
   "outputs": [
    {
     "data": {
      "image/png": "[encoded data removed]",
      "text/plain": [
       "<PIL.Image.Image image mode=L size=48x120 at 0x7F381409AA90>"
      ]
     },
     "execution_count": 64,
     "metadata": {},
     "output_type": "execute_result"
    }
   ],
   "source": [
    "# 7th note is half note\n",
    "#note,67,6.000000,2.000000,316.145720,57.260594\n",
    "im.crop(((316-94)-16,0,(316-94)+32,120))"
   ]
  },
  {
   "cell_type": "code",
   "execution_count": 130,
   "metadata": {},
   "outputs": [
    {
     "data": {
      "image/png": "[encoded data removed]",
      "text/plain": [
       "<PIL.PngImagePlugin.PngImageFile image mode=L size=684x126 at 0x7F37E1B062B0>"
      ]
     },
     "execution_count": 130,
     "metadata": {},
     "output_type": "execute_result"
    }
   ],
   "source": [
    "Image.open('data/train2/strip_score_chromatic_00.png')"
   ]
  },
  {
   "cell_type": "code",
   "execution_count": 131,
   "metadata": {},
   "outputs": [
    {
     "name": "stdout",
     "output_type": "stream",
     "text": [
      "11 [57, 4]\n",
      "12 [57, 4]\n",
      "16 [58, 4]\n",
      "17 [58, 4]\n",
      "21 [59, 4]\n"
     ]
    }
   ],
   "source": [
    "howmany = 5\n",
    "for i in range(len(cropped_image_output_info)):\n",
    "    if cropped_image_output_info[i][0] > 0:\n",
    "        print(i, cropped_image_output_info[i])\n",
    "        howmany -= 1\n",
    "        if howmany == 0:\n",
    "            break\n",
    "#print(i)"
   ]
  },
  {
   "cell_type": "code",
   "execution_count": 134,
   "metadata": {},
   "outputs": [
    {
     "data": {
      "text/plain": [
       "[[0, 0], [0, 0], [66, 2], [66, 2], [0, 0]]"
      ]
     },
     "execution_count": 134,
     "metadata": {},
     "output_type": "execute_result"
    }
   ],
   "source": [
    "cropped_image_output_info[1715:1720]"
   ]
  },
  {
   "cell_type": "code",
   "execution_count": 135,
   "metadata": {},
   "outputs": [
    {
     "data": {
      "image/png": "[encoded data removed]",
      "text/plain": [
       "<PIL.PngImagePlugin.PngImageFile image mode=L size=32x118 at 0x7F37E1AA63C8>"
      ]
     },
     "execution_count": 135,
     "metadata": {},
     "output_type": "execute_result"
    }
   ],
   "source": [
    "Image.open('data/train3/crop_score_%05d.png'%(1717))"
   ]
  },
  {
   "cell_type": "code",
   "execution_count": 5,
   "metadata": {
    "collapsed": true
   },
   "outputs": [],
   "source": [
    "# remains of earlier iterations..."
   ]
  },
  {
   "cell_type": "code",
   "execution_count": 7,
   "metadata": {},
   "outputs": [
    {
     "data": {
      "image/png": "[encoded data removed]",
      "text/plain": [
       "<PIL.Image.Image image mode=L size=718x120 at 0x7F65D1F0E898>"
      ]
     },
     "execution_count": 7,
     "metadata": {},
     "output_type": "execute_result"
    }
   ],
   "source": [
    "score_image = get_score_image('gen_two')\n",
    "out_path = 'data/train'\n",
    "(x,y,w,h) = rects[-1]\n",
    "score_image.crop((x,y,x+w,y+h))#.save()"
   ]
  },
  {
   "cell_type": "code",
   "execution_count": 9,
   "metadata": {},
   "outputs": [
    {
     "name": "stdout",
     "output_type": "stream",
     "text": [
      "good_regions = 12\n"
     ]
    },
    {
     "data": {
      "image/png": "[encoded data removed]",
      "text/plain": [
       "<matplotlib.figure.Figure at 0x7f65d157b128>"
      ]
     },
     "metadata": {},
     "output_type": "display_data"
    }
   ],
   "source": [
    "total_pixels, mask_labels, num_labels = get_labels(f\"data/results/pred_mask_gen_two.png\")\n",
    "rects = get_rects(total_pixels, mask_labels)\n",
    "#    \n",
    "fig,ax = plt.subplots(1,figsize=(16,23))\n",
    "ax.imshow(mask_labels)#,vmin=32,vmax=568) #cmap=\"Greys\",\n",
    "for (x,y,w,h) in rects:\n",
    "    ax.add_patch(patches.Rectangle((x,y),w,h,linewidth=1,edgecolor='r',facecolor='none'))\n",
    "plt.show()"
   ]
  },
  {
   "cell_type": "code",
   "execution_count": 11,
   "metadata": {},
   "outputs": [
    {
     "data": {
      "image/png": "[encoded data removed]",
      "text/plain": [
       "<matplotlib.figure.Figure at 0x7f65d14d0320>"
      ]
     },
     "metadata": {},
     "output_type": "display_data"
    }
   ],
   "source": [
    "# playing with histograms & found had to zoom in to see spots using valuese > 0 and < 255.\n",
    "# used this to create myclamp\n",
    "mask_image = Image.open(\"data/results/pred_mask_gen_two.png\").convert('L')\n",
    "mask_array = np.reshape(np.asarray(mask_image),(mask_image.height*mask_image.width))\n",
    "#mask_array = np.clip(mask_array*1.0,0,255).astype('uint8')\n",
    "mask_array = my_threshold(mask_array)\n",
    "plt.hist(mask_array,bins=256)# = mask_array*2\n",
    "plt.ylim((0,100))\n",
    "plt.show()"
   ]
  },
  {
   "cell_type": "code",
   "execution_count": 12,
   "metadata": {
    "scrolled": false
   },
   "outputs": [
    {
     "data": {
      "image/png": "[encoded data removed]",
      "text/plain": [
       "<matplotlib.figure.Figure at 0x7f65d125d588>"
      ]
     },
     "metadata": {},
     "output_type": "display_data"
    }
   ],
   "source": [
    "fig,ax = plt.subplots(1,figsize=(16,23))\n",
    "ax.imshow(mask_labels)#,vmin=32,vmax=568) #cmap=\"Greys\",\n",
    "mask_props = measure.regionprops(mask_labels)\n",
    "ave_h = 0\n",
    "num_good_labels = 0\n",
    "for i in range(num_labels):\n",
    "    if mask_props[i].area > total_pixels*0.005:\n",
    "        (y0,x0,y1,x1) = mask_props[i].bbox\n",
    "        h = (y1-y0)\n",
    "        ave_h += h\n",
    "        num_good_labels += 1\n",
    "ave_h /= num_good_labels\n",
    "ave_h2 = ave_h/2\n",
    "for i in range(num_labels):\n",
    "    if mask_props[i].area > total_pixels*0.005:\n",
    "        (y0,x0,y1,x1) = mask_props[i].bbox\n",
    "        yc,xc = mask_props[i].centroid\n",
    "        #m1,b1 = np.polyfit(mask_props[i].coords[:,0],mask_props[i].coords[:,1],1)\n",
    "        #print(i,x0,y0,x1,y1,m1,b1,(y1+y0)/2)\n",
    "        h = (y1-y0)\n",
    "        h2 = h/2\n",
    "        ax.add_patch(patches.Rectangle((x0,yc-h2),(x1-x0),h,linewidth=1,edgecolor='w',facecolor='none'))\n",
    "        ax.add_patch(patches.Rectangle((x0,yc-ave_h2),(x1-x0),ave_h,linewidth=1,edgecolor='r',facecolor='none'))\n",
    "plt.show()\n",
    "        "
   ]
  },
  {
   "cell_type": "code",
   "execution_count": null,
   "metadata": {
    "collapsed": true
   },
   "outputs": [],
   "source": []
  }
 ],
 "metadata": {
  "kernelspec": {
   "display_name": "Python 3",
   "language": "python",
   "name": "python3"
  },
  "language_info": {
   "codemirror_mode": {
    "name": "ipython",
    "version": 3
   },
   "file_extension": ".py",
   "mimetype": "text/x-python",
   "name": "python",
   "nbconvert_exporter": "python",
   "pygments_lexer": "ipython3",
   "version": "3.6.4"
  }
 },
 "nbformat": 4,
 "nbformat_minor": 2
}
