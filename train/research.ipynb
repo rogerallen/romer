{
 "cells": [
  {
   "cell_type": "code",
   "execution_count": 1,
   "metadata": {
    "collapsed": true
   },
   "outputs": [],
   "source": [
    "%matplotlib inline\n",
    "import matplotlib.pyplot as plt\n",
    "import numpy as np\n",
    "from PIL import Image\n",
    "from skimage import measure, color, io"
   ]
  },
  {
   "cell_type": "code",
   "execution_count": 2,
   "metadata": {
    "collapsed": true
   },
   "outputs": [],
   "source": [
    "base_name = 'gen_two'\n",
    "score_file_name = f'../data/{base_name}.png'\n",
    "mask_file_name = f'../data/{base_name}_mask.png'\n",
    "rotation_deg = 0 #-1.3"
   ]
  },
  {
   "cell_type": "code",
   "execution_count": 3,
   "metadata": {
    "collapsed": true
   },
   "outputs": [],
   "source": [
    "# alpha_composite score image.  Have to do this in RGB, then final-convert to grey.\n",
    "score_image = Image.open(score_file_name)\n",
    "score_image = score_image.rotate(rotation_deg)\n",
    "background = Image.new('RGBA', score_image.size, (255,255,255))\n",
    "score_image = Image.alpha_composite(background,score_image)\n",
    "score_image = score_image.convert('L')"
   ]
  },
  {
   "cell_type": "code",
   "execution_count": 4,
   "metadata": {},
   "outputs": [
    {
     "name": "stdout",
     "output_type": "stream",
     "text": [
      "(1123, 794) 0 105\n"
     ]
    }
   ],
   "source": [
    "# deal with image via PIL...\n",
    "if True:\n",
    "    mask_image = Image.open(mask_file_name).convert('L')\n",
    "    # let's rotate it a bit...\n",
    "    mask_image = mask_image.rotate(rotation_deg)\n",
    "    mask_array = np.reshape(np.asarray(mask_image),(mask_image.height,mask_image.width))\n",
    "else:\n",
    "    # Or try skimage (will convert to 0-1.0 float)\n",
    "    mask_array = color.rgb2gray(io.imread(mask_file_name)) * 255\n",
    "\n",
    "print(mask_array.shape,np.min(mask_array),np.max(mask_array))"
   ]
  },
  {
   "cell_type": "code",
   "execution_count": 5,
   "metadata": {},
   "outputs": [
    {
     "name": "stdout",
     "output_type": "stream",
     "text": [
      "(1123, 794) 12\n"
     ]
    }
   ],
   "source": [
    "# label individual regions\n",
    "mask_labels, num_labels = measure.label(mask_array,return_num=True,background=0.0,connectivity=2)\n",
    "print(mask_labels.shape,num_labels)"
   ]
  },
  {
   "cell_type": "code",
   "execution_count": 6,
   "metadata": {},
   "outputs": [
    {
     "data": {
      "image/png": "[encoded data removed]",
      "text/plain": [
       "<matplotlib.figure.Figure at 0x7fd748dacb00>"
      ]
     },
     "metadata": {},
     "output_type": "display_data"
    }
   ],
   "source": [
    "plt.imshow(mask_labels,cmap=\"gray\")\n",
    "plt.show()"
   ]
  },
  {
   "cell_type": "code",
   "execution_count": 7,
   "metadata": {},
   "outputs": [
    {
     "name": "stdout",
     "output_type": "stream",
     "text": [
      "0 94 39 755 65 1.6074296867e-16 52.0 52.0\n",
      "1 38 118 755 145 -2.29391178027e-16 131.5 131.5\n",
      "2 38 198 755 225 -2.5806507528e-16 211.5 211.5\n",
      "3 38 278 755 304 -5.84001353923e-16 291.0 291.0\n",
      "4 38 358 755 384 -4.67201083139e-16 371.0 371.0\n",
      "5 38 437 755 464 -1.14695589013e-16 450.5 450.5\n",
      "6 38 517 755 544 -6.8817353408e-16 530.5 530.5\n",
      "7 38 597 755 623 0.0 610.0 610.0\n",
      "8 38 677 755 703 -1.16800270785e-15 690.0 690.0\n",
      "9 38 756 755 783 -1.60573824619e-15 769.5 769.5\n",
      "10 38 836 755 863 -9.17564712106e-16 849.5 849.5\n",
      "11 38 916 755 942 1.05120243706e-15 929.0 929.0\n"
     ]
    }
   ],
   "source": [
    "# find extents and lines of best fit.\n",
    "regions = []\n",
    "for i in range(num_labels):\n",
    "    cur_ranges = np.where(mask_labels==i+1)\n",
    "    y0,x0 = cur_ranges[0][0],cur_ranges[1][0]\n",
    "    y1,x1 = cur_ranges[0][-1],cur_ranges[1][-1]\n",
    "    m1,b1 = np.polyfit(cur_ranges[1],cur_ranges[0],1)\n",
    "    print(i,x0,y0,x1,y1,m1,b1,(y1+y0)/2)\n",
    "    regions.append((x0,y0,x1,y1,m1,b1))"
   ]
  },
  {
   "cell_type": "code",
   "execution_count": 8,
   "metadata": {},
   "outputs": [
    {
     "name": "stdout",
     "output_type": "stream",
     "text": [
      "0 28.0 -14 160.0 118 132\n",
      "1 -28.5 65 104.5 198 133\n",
      "2 -28.5 145 104.5 278 133\n",
      "3 -29.0 224 105.0 358 134\n",
      "4 -28.0 305 104.0 437 132\n",
      "5 -28.5 384 104.5 517 133\n",
      "6 -28.5 464 104.5 597 133\n",
      "7 -29.0 543 105.0 677 134\n",
      "8 -28.0 624 104.0 756 132\n",
      "9 -28.5 703 104.5 836 133\n",
      "10 -28.5 783 104.5 916 133\n",
      "11 -28.0 863 104.0 995 132\n"
     ]
    }
   ],
   "source": [
    "#   -----XXXXXX------XXXXXX------XXXXXX------\n",
    "#              \\--------^-------/\n",
    "#              region to pass to NN\n",
    "image_regions = []\n",
    "for i in range(len(regions)):\n",
    "    h = regions[i][3] - regions[i][1]\n",
    "    if i < len(regions)-1:\n",
    "        dy = regions[i+1][1] - regions[i][3]\n",
    "    else:\n",
    "        dy = regions[i][1] - regions[i-1][3]\n",
    "    # create starting rectangle to send and center it\n",
    "    y0 = regions[i][1] - dy # can go < 0 or > height\n",
    "    y1 = regions[i][3] + dy \n",
    "    dy2 = y1 - y0\n",
    "    x0 = regions[i][0] - dy2/2\n",
    "    x1 = x0 + dy2\n",
    "    print(i,x0,y0,x1,y1,dy2)\n",
    "    image_regions.append((x0,y0,x1,y1))"
   ]
  },
  {
   "cell_type": "code",
   "execution_count": 9,
   "metadata": {},
   "outputs": [
    {
     "data": {
      "image/png": "[encoded data removed]",
      "text/plain": [
       "<PIL.Image.Image image mode=L size=64x64 at 0x7FD778762CF8>"
      ]
     },
     "execution_count": 9,
     "metadata": {},
     "output_type": "execute_result"
    }
   ],
   "source": [
    "nn_input_size = (64,64) # at this size, your really need ANTIALIAS.  \n",
    "ii = 5\n",
    "score_image.crop(image_regions[ii]).resize(nn_input_size,Image.ANTIALIAS)"
   ]
  },
  {
   "cell_type": "code",
   "execution_count": 10,
   "metadata": {},
   "outputs": [
    {
     "data": {
      "image/png": "[encoded data removed]",
      "text/plain": [
       "<PIL.Image.Image image mode=L size=64x64 at 0x7FD748CD26A0>"
      ]
     },
     "execution_count": 10,
     "metadata": {},
     "output_type": "execute_result"
    }
   ],
   "source": [
    "# compare without\n",
    "score_image.crop(image_regions[ii]).resize(nn_input_size)"
   ]
  },
  {
   "cell_type": "code",
   "execution_count": null,
   "metadata": {
    "collapsed": true
   },
   "outputs": [],
   "source": []
  },
  {
   "cell_type": "code",
   "execution_count": null,
   "metadata": {
    "collapsed": true
   },
   "outputs": [],
   "source": []
  }
 ],
 "metadata": {
  "kernelspec": {
   "display_name": "Python 3",
   "language": "python",
   "name": "python3"
  },
  "language_info": {
   "codemirror_mode": {
    "name": "ipython",
    "version": 3
   },
   "file_extension": ".py",
   "mimetype": "text/x-python",
   "name": "python",
   "nbconvert_exporter": "python",
   "pygments_lexer": "ipython3",
   "version": "3.6.1"
  }
 },
 "nbformat": 4,
 "nbformat_minor": 2
}
