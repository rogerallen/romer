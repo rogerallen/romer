{
 "cells": [
  {
   "cell_type": "markdown",
   "metadata": {},
   "source": [
    "Mask Model\n",
    "-------\n",
    "\n",
    "Basing this on the fast.ai Keras Tiramisu implementation of the One Hundred Layers Tiramisu as described in Simon Jegou et al.'s paper [The One Hundred Layers Tiramisu: Fully Convolutional DenseNets for Semantic Segmentation](https://arxiv.org/abs/1611.09326).\n",
    "\n",
    "This is heavily inspired by the code from the 2nd Fast.ai Deep Learning course here:\n",
    "https://github.com/fastai/courses/blob/master/deeplearning2/tiramisu-keras.ipynb\n",
    "\n",
    "I've updated it to Keras 2, but intend to rewrite it to make sure I understand it all."
   ]
  },
  {
   "cell_type": "code",
   "execution_count": 1,
   "metadata": {},
   "outputs": [
    {
     "name": "stderr",
     "output_type": "stream",
     "text": [
      "Using TensorFlow backend.\n"
     ]
    }
   ],
   "source": [
    "%matplotlib inline\n",
    "import bcolz\n",
    "import glob\n",
    "import keras\n",
    "from keras.models import Model\n",
    "from keras.layers import Input, Conv2D, BatchNormalization, Activation, Dropout, concatenate, Conv2DTranspose, Reshape\n",
    "from keras.regularizers import l2\n",
    "import numpy as np\n",
    "import os\n",
    "import random\n",
    "import threading\n",
    "import warnings\n",
    "warnings.filterwarnings(\"ignore\",category=DeprecationWarning)\n",
    "\n",
    "from PIL import Image\n",
    "import matplotlib.pyplot as plt"
   ]
  },
  {
   "cell_type": "code",
   "execution_count": 2,
   "metadata": {
    "collapsed": true
   },
   "outputs": [],
   "source": [
    "def load_array(fname):\n",
    "    return bcolz.open(fname)[:]\n",
    "\n",
    "# FIXME rename dropout p -> rate or dropout_rate\n",
    "\n",
    "def relu(x): \n",
    "    return Activation('relu')(x)\n",
    "def dropout(x, p): \n",
    "    return Dropout(p)(x) if p else x\n",
    "def bn(x): \n",
    "    return BatchNormalization(axis=-1)(x) # No longer can do mode=2\n",
    "def relu_bn(x): \n",
    "    return relu(bn(x))\n",
    "\n",
    "def conv(x, nf, sz, wd, p, stride=1):\n",
    "    x = Conv2D(nf, (sz, sz), \n",
    "               padding=\"same\", \n",
    "               kernel_initializer=\"he_uniform\",\n",
    "               strides=(stride,stride), \n",
    "               kernel_regularizer=l2(wd))(x)\n",
    "    return dropout(x, p)\n",
    "\n",
    "def conv_relu_bn(x, nf, sz=3, wd=0, p=0, stride=1):\n",
    "    return conv(relu_bn(x), nf, sz, wd=wd, p=p, stride=stride)\n",
    "\n",
    "def dense_block(n,x,growth_rate,p,wd):\n",
    "    added = []\n",
    "    for i in range(n):\n",
    "        b = conv_relu_bn(x, growth_rate, p=p, wd=wd)\n",
    "        x = concatenate([x, b])\n",
    "        added.append(b)\n",
    "    return x,added\n",
    "\n",
    "def transition_dn(x, p, wd):\n",
    "#     x = conv_relu_bn(x, x.get_shape().as_list()[-1], sz=1, p=p, wd=wd)\n",
    "#     return MaxPooling2D(strides=(2, 2))(x)\n",
    "    return conv_relu_bn(x, x.get_shape().as_list()[-1], sz=1, p=p, wd=wd, stride=2)\n",
    "\n",
    "def down_path(x, nb_layers, growth_rate, p, wd):\n",
    "    skips = []\n",
    "    for i,n in enumerate(nb_layers):\n",
    "        x,added = dense_block(n,x,growth_rate,p,wd)\n",
    "        skips.append(x)\n",
    "        x = transition_dn(x, p=p, wd=wd)\n",
    "    return skips, added\n",
    "\n",
    "def transition_up(added, wd=0):\n",
    "    x = concatenate(added)\n",
    "    _,r,c,ch = x.get_shape().as_list()\n",
    "    return Conv2DTranspose(ch, (3, 3), \n",
    "                           strides=(2, 2), \n",
    "                           padding=\"same\", \n",
    "                           kernel_initializer=\"he_uniform\", \n",
    "                           kernel_regularizer=l2(wd))(x)\n",
    "#     x = UpSampling2D()(x)\n",
    "#     return conv(x, ch, 2, wd, 0)\n",
    "\n",
    "def up_path(added, skips, nb_layers, growth_rate, p, wd):\n",
    "    for i,n in enumerate(nb_layers):\n",
    "        x = transition_up(added, wd)\n",
    "        x = concatenate([x,skips[i]])\n",
    "        x,added = dense_block(n,x,growth_rate,p,wd)\n",
    "    return x\n",
    "\n",
    "def reverse(a): \n",
    "    return list(reversed(a))\n",
    "\n",
    "def create_tiramisu(nb_classes, img_input, nb_dense_block=6,\n",
    "    growth_rate=16, nb_filter=48, nb_layers_per_block=5, p=None, wd=0):\n",
    "    \"\"\"\n",
    "    nb_classes: number of classes\n",
    "    img_input: tuple of shape (channels, rows, columns) or (rows, columns, channels)\n",
    "    depth: number or layers\n",
    "    nb_dense_block: number of dense blocks to add to end (generally = 3)\n",
    "    growth_rate: number of filters to add per dense block\n",
    "    nb_filter: initial number of filters\n",
    "    nb_layers_per_block: number of layers in each dense block.\n",
    "    If positive integer, a set number of layers per dense block.\n",
    "    If list, nb_layer is used as provided\n",
    "    p: dropout rate\n",
    "    wd: weight decay\n",
    "    \"\"\"\n",
    "\n",
    "    if type(nb_layers_per_block) is list or type(nb_layers_per_block) is tuple:\n",
    "        nb_layers = list(nb_layers_per_block)\n",
    "    else: \n",
    "        nb_layers = [nb_layers_per_block] * nb_dense_block\n",
    "\n",
    "    x = conv(img_input, nb_filter, 3, wd, 0)\n",
    "    skips,added = down_path(x, nb_layers, growth_rate, p, wd)\n",
    "    x = up_path(added, reverse(skips[:-1]), reverse(nb_layers[:-1]), growth_rate, p, wd)\n",
    "\n",
    "    x = conv(x, nb_classes, 1, wd, 0)\n",
    "    _,r,c,f = x.get_shape().as_list()\n",
    "    x = Reshape((-1, nb_classes))(x)\n",
    "    return Activation('softmax')(x)\n",
    "\n",
    "class image_generator(object):\n",
    "    def __init__(self, X, Y, batch_size, channels):\n",
    "        self.X  = X\n",
    "        self.Y  = Y\n",
    "        self.bs = batch_size\n",
    "        self.i  = 0\n",
    "    def __next__(self):\n",
    "        xs = self.X[self.i:self.i+self.bs]\n",
    "        ys = self.Y[self.i:self.i+self.bs]\n",
    "        ys = ys.reshape(len(ys),-1,channels) # convert 32,64,64,1 -> 32,4096,1\n",
    "        self.i = (self.i + self.bs) % self.X.shape[0]\n",
    "        return xs, ys"
   ]
  },
  {
   "cell_type": "markdown",
   "metadata": {},
   "source": [
    "Read in the training & validation images\n",
    "-------\n",
    "\n",
    "These are created via the mask_data_prep notebook\n",
    "\n",
    " - [ ] add testing of the test image set"
   ]
  },
  {
   "cell_type": "code",
   "execution_count": 3,
   "metadata": {
    "collapsed": true
   },
   "outputs": [],
   "source": [
    "# Remember to adjust 255 -> 1 on mask to convert it from a mask to a label\n",
    "# 0=background, 1=inside staff\n",
    "train_path = 'data/train'\n",
    "train_score_image_names = glob.glob(train_path+'/diced_score*png')\n",
    "train_mask_image_names = glob.glob(train_path+'/diced_mask*png')\n",
    "train_score_image_names.sort()\n",
    "train_mask_image_names.sort()\n",
    "train_score_images = np.stack([np.array(Image.open(fn)) for fn in train_score_image_names])\n",
    "train_mask_images = np.stack([np.array(Image.open(fn))//255 for fn in train_mask_image_names])\n",
    "train_score_images.shape = train_score_images.shape + (1,)\n",
    "train_mask_images.shape = train_mask_images.shape + (1,)\n",
    "assert(train_score_images.shape == train_mask_images.shape)\n",
    "num_train_images,rows,cols,channels = train_score_images.shape"
   ]
  },
  {
   "cell_type": "code",
   "execution_count": 4,
   "metadata": {
    "collapsed": true
   },
   "outputs": [],
   "source": [
    "valid_path = 'data/valid'\n",
    "valid_score_image_names = glob.glob(valid_path+'/diced_score*png')\n",
    "valid_mask_image_names = glob.glob(valid_path+'/diced_mask*png')\n",
    "valid_score_image_names.sort()\n",
    "valid_mask_image_names.sort()\n",
    "valid_score_images = np.stack([np.array(Image.open(fn)) for fn in valid_score_image_names])\n",
    "# adjust 255 -> 1 on mask\n",
    "valid_mask_images = np.stack([np.array(Image.open(fn))//255 for fn in valid_mask_image_names])\n",
    "valid_score_images.shape = valid_score_images.shape + (1,)\n",
    "valid_mask_images.shape = valid_mask_images.shape + (1,)\n",
    "assert(valid_score_images.shape == valid_mask_images.shape)\n",
    "num_valid_images,_,_,_ = valid_score_images.shape"
   ]
  },
  {
   "cell_type": "code",
   "execution_count": 5,
   "metadata": {},
   "outputs": [
    {
     "data": {
      "text/plain": [
       "(1754, 584, 64, 64, 1)"
      ]
     },
     "execution_count": 5,
     "metadata": {},
     "output_type": "execute_result"
    }
   ],
   "source": [
    "num_train_images, num_valid_images, rows, cols, channels"
   ]
  },
  {
   "cell_type": "code",
   "execution_count": 68,
   "metadata": {},
   "outputs": [
    {
     "data": {
      "text/plain": [
       "<matplotlib.image.AxesImage at 0x7fe1772d9f28>"
      ]
     },
     "execution_count": 68,
     "metadata": {},
     "output_type": "execute_result"
    },
    {
     "data": {
      "image/png": "[encoded data removed]",
      "text/plain": [
       "<matplotlib.figure.Figure at 0x7fe177304f60>"
      ]
     },
     "metadata": {},
     "output_type": "display_data"
    }
   ],
   "source": [
    "NNN=501\n",
    "plt.imshow(train_score_images[NNN].reshape(64,64),cmap=\"gray\")"
   ]
  },
  {
   "cell_type": "code",
   "execution_count": 69,
   "metadata": {},
   "outputs": [
    {
     "data": {
      "text/plain": [
       "<matplotlib.image.AxesImage at 0x7fe1771f3550>"
      ]
     },
     "execution_count": 69,
     "metadata": {},
     "output_type": "execute_result"
    },
    {
     "data": {
      "image/png": "[encoded data removed]",
      "text/plain": [
       "<matplotlib.figure.Figure at 0x7fe177271a90>"
      ]
     },
     "metadata": {},
     "output_type": "display_data"
    }
   ],
   "source": [
    "plt.imshow(train_mask_images[NNN].reshape(64,64),cmap=\"gray\")"
   ]
  },
  {
   "cell_type": "markdown",
   "metadata": {},
   "source": [
    "Make the Model & Do some Training\n",
    "-----\n",
    "\n",
    "Just a few epochs to see how things go."
   ]
  },
  {
   "cell_type": "code",
   "execution_count": 22,
   "metadata": {
    "collapsed": true
   },
   "outputs": [],
   "source": [
    "input_shape = (rows,cols,channels)\n",
    "batch_size  = 32\n",
    "num_epochs  = 20\n",
    "train_rate  = 1e-4\n",
    "num_labels  = 2 "
   ]
  },
  {
   "cell_type": "code",
   "execution_count": 23,
   "metadata": {
    "collapsed": true
   },
   "outputs": [],
   "source": [
    "train_generator = image_generator(train_score_images, train_mask_images, batch_size, channels)\n",
    "valid_generator = image_generator(valid_score_images, valid_mask_images, batch_size, channels)"
   ]
  },
  {
   "cell_type": "code",
   "execution_count": 24,
   "metadata": {
    "collapsed": true
   },
   "outputs": [],
   "source": [
    "image_input = Input(shape=input_shape)\n",
    "x = create_tiramisu(num_labels, image_input, \n",
    "                    nb_layers_per_block=[4,5,7,10,12,15], \n",
    "                    p=0.2, wd=1e-4)\n",
    "model = Model(image_input, x)\n",
    "model.compile(loss='sparse_categorical_crossentropy',\n",
    "              optimizer=keras.optimizers.RMSprop(train_rate), \n",
    "              metrics=[\"accuracy\"])"
   ]
  },
  {
   "cell_type": "code",
   "execution_count": 25,
   "metadata": {
    "scrolled": true
   },
   "outputs": [
    {
     "name": "stdout",
     "output_type": "stream",
     "text": [
      "Epoch 1/20\n",
      "38s - loss: 11.0899 - acc: 0.3514 - val_loss: 11.1410 - val_acc: 0.3294\n",
      "Epoch 2/20\n",
      "32s - loss: 10.9127 - acc: 0.3562 - val_loss: 10.9368 - val_acc: 0.3515\n",
      "Epoch 3/20\n",
      "32s - loss: 10.7670 - acc: 0.3621 - val_loss: 10.9091 - val_acc: 0.3532\n",
      "Epoch 4/20\n",
      "32s - loss: 10.6393 - acc: 0.3684 - val_loss: 7.6373 - val_acc: 0.5500\n",
      "Epoch 5/20\n",
      "31s - loss: 3.6307 - acc: 0.7933 - val_loss: 1.4512 - val_acc: 0.9345\n",
      "Epoch 6/20\n",
      "31s - loss: 1.2234 - acc: 0.9497 - val_loss: 0.8745 - val_acc: 0.9730\n",
      "Epoch 7/20\n",
      "32s - loss: 0.9837 - acc: 0.9659 - val_loss: 0.7437 - val_acc: 0.9817\n",
      "Epoch 8/20\n",
      "32s - loss: 0.8285 - acc: 0.9757 - val_loss: 0.7250 - val_acc: 0.9811\n",
      "Epoch 9/20\n",
      "31s - loss: 0.7660 - acc: 0.9796 - val_loss: 0.6584 - val_acc: 0.9861\n",
      "Epoch 10/20\n",
      "31s - loss: 0.7029 - acc: 0.9832 - val_loss: 0.6142 - val_acc: 0.9891\n",
      "Epoch 11/20\n",
      "31s - loss: 0.6489 - acc: 0.9869 - val_loss: 0.5900 - val_acc: 0.9905\n",
      "Epoch 12/20\n",
      "32s - loss: 0.6206 - acc: 0.9883 - val_loss: 0.6310 - val_acc: 0.9871\n",
      "Epoch 13/20\n",
      "31s - loss: 0.5986 - acc: 0.9898 - val_loss: 0.5452 - val_acc: 0.9929\n",
      "Epoch 14/20\n",
      "31s - loss: 0.5825 - acc: 0.9902 - val_loss: 0.5657 - val_acc: 0.9909\n",
      "Epoch 15/20\n",
      "31s - loss: 0.5607 - acc: 0.9915 - val_loss: 0.5438 - val_acc: 0.9917\n",
      "Epoch 16/20\n",
      "31s - loss: 0.5384 - acc: 0.9926 - val_loss: 0.5082 - val_acc: 0.9941\n",
      "Epoch 17/20\n",
      "30s - loss: 0.5221 - acc: 0.9934 - val_loss: 0.4810 - val_acc: 0.9960\n",
      "Epoch 18/20\n",
      "30s - loss: 0.5113 - acc: 0.9937 - val_loss: 0.4792 - val_acc: 0.9955\n",
      "Epoch 19/20\n",
      "30s - loss: 0.4960 - acc: 0.9944 - val_loss: 0.4742 - val_acc: 0.9957\n",
      "Epoch 20/20\n",
      "30s - loss: 0.4788 - acc: 0.9951 - val_loss: 0.4865 - val_acc: 0.9946\n"
     ]
    },
    {
     "data": {
      "text/plain": [
       "<keras.callbacks.History at 0x7fe210317668>"
      ]
     },
     "execution_count": 25,
     "metadata": {},
     "output_type": "execute_result"
    }
   ],
   "source": [
    "model.fit_generator(train_generator, \n",
    "                    num_train_images//batch_size, num_epochs, \n",
    "                    verbose=2,\n",
    "                    validation_data=valid_generator,\n",
    "                    validation_steps=num_valid_images//batch_size)\n"
   ]
  },
  {
   "cell_type": "markdown",
   "metadata": {},
   "source": [
    "Check results:\n",
    "----"
   ]
  },
  {
   "cell_type": "code",
   "execution_count": 41,
   "metadata": {
    "collapsed": true
   },
   "outputs": [],
   "source": [
    "NNN=503\n",
    "pred_result = model.predict(train_score_images[NNN:NNN+1])\n",
    "pred_result = pred_result.reshape(1,64,64,2)\n",
    "pred_zero,pred_one = pred_result[:,:,:,0], pred_result[:,:,:,1]"
   ]
  },
  {
   "cell_type": "markdown",
   "metadata": {},
   "source": [
    "*results were prettty good here, but didn't save those cells.*\n",
    "\n",
    "The edges were not straight so let's keep training... "
   ]
  },
  {
   "cell_type": "code",
   "execution_count": 44,
   "metadata": {
    "scrolled": true
   },
   "outputs": [
    {
     "name": "stdout",
     "output_type": "stream",
     "text": [
      "Epoch 1/20\n",
      "31s - loss: 0.4625 - acc: 0.9959 - val_loss: 0.4515 - val_acc: 0.9963\n",
      "Epoch 2/20\n",
      "30s - loss: 0.4586 - acc: 0.9957 - val_loss: 0.4457 - val_acc: 0.9961\n",
      "Epoch 3/20\n",
      "30s - loss: 0.4477 - acc: 0.9960 - val_loss: 0.4379 - val_acc: 0.9963\n",
      "Epoch 4/20\n",
      "30s - loss: 0.4336 - acc: 0.9966 - val_loss: 0.4149 - val_acc: 0.9976\n",
      "Epoch 5/20\n",
      "30s - loss: 0.4242 - acc: 0.9968 - val_loss: 0.4340 - val_acc: 0.9960\n",
      "Epoch 6/20\n",
      "30s - loss: 0.4149 - acc: 0.9970 - val_loss: 0.4179 - val_acc: 0.9963\n",
      "Epoch 7/20\n",
      "30s - loss: 0.4035 - acc: 0.9973 - val_loss: 0.3970 - val_acc: 0.9975\n",
      "Epoch 8/20\n",
      "30s - loss: 0.4025 - acc: 0.9969 - val_loss: 0.3875 - val_acc: 0.9980\n",
      "Epoch 9/20\n",
      "30s - loss: 0.3836 - acc: 0.9979 - val_loss: 0.3819 - val_acc: 0.9980\n",
      "Epoch 10/20\n",
      "30s - loss: 0.3825 - acc: 0.9973 - val_loss: 0.3820 - val_acc: 0.9975\n",
      "Epoch 11/20\n",
      "30s - loss: 0.3739 - acc: 0.9975 - val_loss: 0.3827 - val_acc: 0.9969\n",
      "Epoch 12/20\n",
      "30s - loss: 0.3608 - acc: 0.9982 - val_loss: 0.3682 - val_acc: 0.9972\n",
      "Epoch 13/20\n",
      "30s - loss: 0.3558 - acc: 0.9979 - val_loss: 0.3494 - val_acc: 0.9983\n",
      "Epoch 14/20\n",
      "30s - loss: 0.3475 - acc: 0.9981 - val_loss: 0.3509 - val_acc: 0.9976\n",
      "Epoch 15/20\n",
      "30s - loss: 0.3373 - acc: 0.9983 - val_loss: 0.3414 - val_acc: 0.9976\n",
      "Epoch 16/20\n",
      "30s - loss: 0.3278 - acc: 0.9984 - val_loss: 0.3402 - val_acc: 0.9972\n",
      "Epoch 17/20\n",
      "30s - loss: 0.3187 - acc: 0.9987 - val_loss: 0.4000 - val_acc: 0.9915\n",
      "Epoch 18/20\n",
      "30s - loss: 0.3124 - acc: 0.9985 - val_loss: 0.3106 - val_acc: 0.9986\n",
      "Epoch 19/20\n",
      "30s - loss: 0.3054 - acc: 0.9986 - val_loss: 0.3239 - val_acc: 0.9968\n",
      "Epoch 20/20\n",
      "30s - loss: 0.2966 - acc: 0.9988 - val_loss: 0.2986 - val_acc: 0.9984\n"
     ]
    },
    {
     "data": {
      "text/plain": [
       "<keras.callbacks.History at 0x7fe1f40f2ba8>"
      ]
     },
     "execution_count": 44,
     "metadata": {},
     "output_type": "execute_result"
    }
   ],
   "source": [
    "train_rate = 1e-5\n",
    "num_epochs = 20\n",
    "model.optimizer=keras.optimizers.RMSprop(train_rate, decay=1-0.9995)\n",
    "model.fit_generator(train_generator, \n",
    "                    num_train_images//batch_size, num_epochs, \n",
    "                    verbose=2,\n",
    "                    validation_data=valid_generator,\n",
    "                    validation_steps=num_valid_images//batch_size)"
   ]
  },
  {
   "cell_type": "code",
   "execution_count": 71,
   "metadata": {
    "collapsed": true
   },
   "outputs": [],
   "source": [
    "NNN=505\n",
    "pred_result = model.predict(train_score_images[NNN:NNN+1])\n",
    "pred_result = pred_result.reshape(1,64,64,2)\n",
    "pred_zero,pred_one = pred_result[:,:,:,0], pred_result[:,:,:,1]"
   ]
  },
  {
   "cell_type": "code",
   "execution_count": 72,
   "metadata": {},
   "outputs": [
    {
     "data": {
      "text/plain": [
       "<matplotlib.image.AxesImage at 0x7fe177122160>"
      ]
     },
     "execution_count": 72,
     "metadata": {},
     "output_type": "execute_result"
    },
    {
     "data": {
      "image/png": "[encoded data removed]",
      "text/plain": [
       "<matplotlib.figure.Figure at 0x7fe17713b0b8>"
      ]
     },
     "metadata": {},
     "output_type": "display_data"
    }
   ],
   "source": [
    "plt.imshow(train_score_images[NNN].reshape(64,64),cmap=\"gray\")"
   ]
  },
  {
   "cell_type": "code",
   "execution_count": 73,
   "metadata": {},
   "outputs": [
    {
     "data": {
      "text/plain": [
       "<matplotlib.image.AxesImage at 0x7fe17703b710>"
      ]
     },
     "execution_count": 73,
     "metadata": {},
     "output_type": "execute_result"
    },
    {
     "data": {
      "image/png": "[encoded data removed]",
      "text/plain": [
       "<matplotlib.figure.Figure at 0x7fe1770b1828>"
      ]
     },
     "metadata": {},
     "output_type": "display_data"
    }
   ],
   "source": [
    "plt.imshow(pred_one.reshape(64,64),cmap=\"gray\")"
   ]
  },
  {
   "cell_type": "markdown",
   "metadata": {},
   "source": [
    "Nice Results\n",
    "------------\n",
    "\n",
    "Save those weights, but this wasn't much effort so let's keep going."
   ]
  },
  {
   "cell_type": "code",
   "execution_count": 56,
   "metadata": {
    "collapsed": true
   },
   "outputs": [],
   "source": [
    "#!mkdir data/results\n",
    "model.save_weights('data/results/mask_weights_171011_1.h5')"
   ]
  },
  {
   "cell_type": "code",
   "execution_count": 74,
   "metadata": {
    "scrolled": true
   },
   "outputs": [
    {
     "name": "stdout",
     "output_type": "stream",
     "text": [
      "Epoch 1/20\n",
      "31s - loss: 0.2922 - acc: 0.9985 - val_loss: 0.2895 - val_acc: 0.9986\n",
      "Epoch 2/20\n",
      "30s - loss: 0.2829 - acc: 0.9989 - val_loss: 0.2914 - val_acc: 0.9980\n",
      "Epoch 3/20\n",
      "30s - loss: 0.2782 - acc: 0.9988 - val_loss: 0.3041 - val_acc: 0.9955\n",
      "Epoch 4/20\n",
      "30s - loss: 0.2725 - acc: 0.9986 - val_loss: 0.2792 - val_acc: 0.9976\n",
      "Epoch 5/20\n",
      "30s - loss: 0.2667 - acc: 0.9988 - val_loss: 0.2778 - val_acc: 0.9978\n",
      "Epoch 6/20\n",
      "30s - loss: 0.2609 - acc: 0.9989 - val_loss: 0.2765 - val_acc: 0.9972\n",
      "Epoch 7/20\n",
      "30s - loss: 0.2538 - acc: 0.9989 - val_loss: 0.2627 - val_acc: 0.9977\n",
      "Epoch 8/20\n",
      "30s - loss: 0.2443 - acc: 0.9992 - val_loss: 0.2606 - val_acc: 0.9970\n",
      "Epoch 9/20\n",
      "30s - loss: 0.2394 - acc: 0.9989 - val_loss: 0.2541 - val_acc: 0.9974\n",
      "Epoch 10/20\n",
      "30s - loss: 0.2323 - acc: 0.9991 - val_loss: 0.2521 - val_acc: 0.9970\n",
      "Epoch 11/20\n",
      "30s - loss: 0.2271 - acc: 0.9991 - val_loss: 0.2255 - val_acc: 0.9990\n",
      "Epoch 12/20\n",
      "30s - loss: 0.2175 - acc: 0.9993 - val_loss: 0.2165 - val_acc: 0.9990\n",
      "Epoch 13/20\n",
      "30s - loss: 0.2135 - acc: 0.9990 - val_loss: 0.2154 - val_acc: 0.9984\n",
      "Epoch 14/20\n",
      "30s - loss: 0.2048 - acc: 0.9993 - val_loss: 0.2158 - val_acc: 0.9975\n",
      "Epoch 15/20\n",
      "30s - loss: 0.1983 - acc: 0.9992 - val_loss: 0.2135 - val_acc: 0.9973\n",
      "Epoch 16/20\n",
      "30s - loss: 0.1922 - acc: 0.9993 - val_loss: 0.1921 - val_acc: 0.9990\n",
      "Epoch 17/20\n",
      "30s - loss: 0.1877 - acc: 0.9992 - val_loss: 0.1899 - val_acc: 0.9986\n",
      "Epoch 18/20\n",
      "30s - loss: 0.1804 - acc: 0.9993 - val_loss: 0.1824 - val_acc: 0.9984\n",
      "Epoch 19/20\n",
      "30s - loss: 0.1733 - acc: 0.9995 - val_loss: 0.1793 - val_acc: 0.9980\n",
      "Epoch 20/20\n",
      "30s - loss: 0.1721 - acc: 0.9988 - val_loss: 0.1696 - val_acc: 0.9989\n"
     ]
    },
    {
     "data": {
      "text/plain": [
       "<keras.callbacks.History at 0x7fe177216fd0>"
      ]
     },
     "execution_count": 74,
     "metadata": {},
     "output_type": "execute_result"
    }
   ],
   "source": [
    "train_rate = 1e-5\n",
    "num_epochs = 20\n",
    "model.optimizer=keras.optimizers.RMSprop(train_rate, decay=1-0.9995)\n",
    "model.fit_generator(train_generator, \n",
    "                    num_train_images//batch_size, num_epochs, \n",
    "                    verbose=2,\n",
    "                    validation_data=valid_generator,\n",
    "                    validation_steps=num_valid_images//batch_size)"
   ]
  },
  {
   "cell_type": "code",
   "execution_count": 210,
   "metadata": {
    "collapsed": true
   },
   "outputs": [],
   "source": [
    "model.save_weights('data/results/mask_weights_171011_2.h5')"
   ]
  },
  {
   "cell_type": "code",
   "execution_count": 83,
   "metadata": {
    "collapsed": true
   },
   "outputs": [],
   "source": [
    "NNN=1060\n",
    "pred_result = model.predict(train_score_images[NNN:NNN+1])\n",
    "pred_result = pred_result.reshape(1,64,64,2)\n",
    "pred_zero,pred_one = pred_result[:,:,:,0], pred_result[:,:,:,1]"
   ]
  },
  {
   "cell_type": "code",
   "execution_count": 84,
   "metadata": {},
   "outputs": [
    {
     "data": {
      "text/plain": [
       "<matplotlib.image.AxesImage at 0x7fe176d75208>"
      ]
     },
     "execution_count": 84,
     "metadata": {},
     "output_type": "execute_result"
    },
    {
     "data": {
      "image/png": "[encoded data removed]",
      "text/plain": [
       "<matplotlib.figure.Figure at 0x7fe176f32630>"
      ]
     },
     "metadata": {},
     "output_type": "display_data"
    }
   ],
   "source": [
    "plt.imshow(pred_one.reshape(64,64),cmap=\"gray\")"
   ]
  },
  {
   "cell_type": "markdown",
   "metadata": {},
   "source": [
    "Let's use model\n",
    "------\n",
    "\n",
    "Read in full image, dice it up, predict output for each bit, reassemble into a full image."
   ]
  },
  {
   "cell_type": "code",
   "execution_count": 211,
   "metadata": {},
   "outputs": [],
   "source": [
    "def get_image_names(base_name):\n",
    "    score_file_name = f'../data/{base_name}.png'\n",
    "    mask_file_name = f'../data/{base_name}_mask.png'\n",
    "    return score_file_name, mask_file_name\n",
    "\n",
    "def get_images(base_name):\n",
    "    score_file_name, mask_file_name = get_image_names(base_name)\n",
    "    mask_image = Image.open(mask_file_name).convert('L')\n",
    "    mask_image = Image.eval(mask_image, lambda x: x*10) # saturate the mask\n",
    "    score_image = Image.open(score_file_name)\n",
    "    background = Image.new('RGBA', score_image.size, (255,255,255))\n",
    "    score_image = Image.alpha_composite(background,score_image)\n",
    "    score_image = score_image.convert('L')\n",
    "    return score_image, mask_image"
   ]
  },
  {
   "cell_type": "code",
   "execution_count": 227,
   "metadata": {
    "collapsed": true
   },
   "outputs": [],
   "source": [
    "def get_input_prediction_tiles(input_image):\n",
    "    # cannot just send an image to predict.  We have to send the tiles\n",
    "    # pred_result = model.predict(score_image)\n",
    "    #   ValueError: Error when checking : expected input_1 to have shape (None, 64, 64, 1) \n",
    "    #   but got array with shape (1, 1123, 794, 1)\n",
    "    num_tiles = np.ceil(np.array([input_image.width/64,input_image.height/64]))\n",
    "    tot_tiles = int(num_tiles[0]*num_tiles[1])\n",
    "    input_tiles = np.zeros((tot_tiles,64,64,1),dtype='uint8')\n",
    "    i = 0\n",
    "    for iy in range(int(num_tiles[1])):\n",
    "        for ix in range(int(num_tiles[0])):\n",
    "            input_tiles[i] = np.array(score_image.crop([ix*64,iy*64,(ix+1)*64,(iy+1)*64])).reshape(64,64,1)\n",
    "            i += 1\n",
    "    return input_tiles\n",
    "\n",
    "def image_from_tiles(width,height,pred_tiles,pred_channel):\n",
    "    # reshape & collect a single channel plane to visualize\n",
    "    pred_tiles = pred_tiles.reshape(input_tiles.shape[0],64,64,2)\n",
    "    pred_one_tiles = pred_tiles[:,:,:,1]#pred_one = pred_one.reshape(int(num_tiles[0])*64,int(num_tiles[1])*64)\n",
    "    num_tiles = np.ceil(np.array([width/64,height/64]))\n",
    "    pred_one = Image.new('L', (int(num_tiles[0])*64,int(num_tiles[1])*64), (0,))\n",
    "    i = 0\n",
    "    for iy in range(int(num_tiles[1])):\n",
    "        for ix in range(int(num_tiles[0])):\n",
    "            pred_tile_image = Image.fromarray(np.uint8(pred_one_tiles[i]*255))\n",
    "            pred_one.paste(pred_tile_image, (ix*64,iy*64))\n",
    "            i += 1\n",
    "    return pred_one\n"
   ]
  },
  {
   "cell_type": "code",
   "execution_count": 228,
   "metadata": {
    "collapsed": true
   },
   "outputs": [],
   "source": [
    "score_image, mask_image = get_images('gen_two')\n",
    "input_tiles = get_input_prediction_tiles(score_image)\n",
    "pred_tiles = model.predict(input_tiles)\n",
    "pred_one = image_from_tiles(score_image.width, score_image.height, pred_tiles, 1)"
   ]
  },
  {
   "cell_type": "markdown",
   "metadata": {},
   "source": [
    "Visualize the output\n",
    "----------\n",
    "\n",
    "Look's likely to be acceptable!  There are definitely some glitches, but I think these are \n",
    "results that would work for finding the regions to focus on."
   ]
  },
  {
   "cell_type": "code",
   "execution_count": 241,
   "metadata": {},
   "outputs": [
    {
     "data": {
      "image/png": "[encoded data removed]",
      "text/plain": [
       "<PIL.Image.Image image mode=L size=832x1152 at 0x7FE175F4FB38>"
      ]
     },
     "execution_count": 241,
     "metadata": {},
     "output_type": "execute_result"
    }
   ],
   "source": [
    "pred_one"
   ]
  },
  {
   "cell_type": "code",
   "execution_count": 247,
   "metadata": {},
   "outputs": [
    {
     "data": {
      "image/png": "[encoded data removed]",
      "text/plain": [
       "<PIL.Image.Image image mode=L size=794x1123 at 0x7FE175EEA6A0>"
      ]
     },
     "execution_count": 247,
     "metadata": {},
     "output_type": "execute_result"
    }
   ],
   "source": [
    "# for comparison, look at either of these...\n",
    "#score_image\n",
    "mask_image"
   ]
  },
  {
   "cell_type": "code",
   "execution_count": 246,
   "metadata": {},
   "outputs": [
    {
     "data": {
      "text/plain": [
       "<matplotlib.image.AxesImage at 0x7fe175313828>"
      ]
     },
     "execution_count": 246,
     "metadata": {},
     "output_type": "execute_result"
    },
    {
     "data": {
      "image/png": "[encoded data removed]",
      "text/plain": [
       "<matplotlib.figure.Figure at 0x7fe1753ca5f8>"
      ]
     },
     "metadata": {},
     "output_type": "display_data"
    }
   ],
   "source": [
    "# just some debug snippets\n",
    "ix, iy = 10, 0\n",
    "img = np.array(score_image.crop([ix*64,iy*64,(ix+1)*64,(iy+1)*64])).reshape(64,64,1)\n",
    "plt.imshow(img.reshape(64,64),cmap=\"gray\")\n",
    "#img[0,:10]"
   ]
  },
  {
   "cell_type": "code",
   "execution_count": 245,
   "metadata": {},
   "outputs": [
    {
     "data": {
      "text/plain": [
       "<matplotlib.image.AxesImage at 0x7fe17537bbe0>"
      ]
     },
     "execution_count": 245,
     "metadata": {},
     "output_type": "execute_result"
    },
    {
     "data": {
      "image/png": "[encoded data removed]",
      "text/plain": [
       "<matplotlib.figure.Figure at 0x7fe1754c1828>"
      ]
     },
     "metadata": {},
     "output_type": "display_data"
    }
   ],
   "source": [
    "plt.imshow(input_tiles[10].reshape(64,64),cmap=\"gray\")"
   ]
  },
  {
   "cell_type": "code",
   "execution_count": null,
   "metadata": {
    "collapsed": true
   },
   "outputs": [],
   "source": []
  }
 ],
 "metadata": {
  "kernelspec": {
   "display_name": "Python 3",
   "language": "python",
   "name": "python3"
  },
  "language_info": {
   "codemirror_mode": {
    "name": "ipython",
    "version": 3
   },
   "file_extension": ".py",
   "mimetype": "text/x-python",
   "name": "python",
   "nbconvert_exporter": "python",
   "pygments_lexer": "ipython3",
   "version": "3.6.1"
  }
 },
 "nbformat": 4,
 "nbformat_minor": 2
}
