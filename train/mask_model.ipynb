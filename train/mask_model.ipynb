{
 "cells": [
  {
   "cell_type": "markdown",
   "metadata": {},
   "source": [
    "Mask Model\n",
    "-------\n",
    "\n",
    "Basing this on the fast.ai Keras Tiramisu implementation of the One Hundred Layers Tiramisu as described in Simon Jegou et al.'s paper [The One Hundred Layers Tiramisu: Fully Convolutional DenseNets for Semantic Segmentation](https://arxiv.org/abs/1611.09326).\n",
    "\n",
    "This is heavily inspired by the code from the 2nd Fast.ai Deep Learning course here:\n",
    "https://github.com/fastai/courses/blob/master/deeplearning2/tiramisu-keras.ipynb\n",
    "\n",
    "I've updated it to Keras 2 and have rewritten it to understand it."
   ]
  },
  {
   "cell_type": "code",
   "execution_count": 1,
   "metadata": {},
   "outputs": [
    {
     "name": "stderr",
     "output_type": "stream",
     "text": [
      "/home/rallen/anaconda3/envs/romer/lib/python3.6/site-packages/h5py/__init__.py:36: FutureWarning: Conversion of the second argument of issubdtype from `float` to `np.floating` is deprecated. In future, it will be treated as `np.float64 == np.dtype(float).type`.\n",
      "  from ._conv import register_converters as _register_converters\n",
      "Using TensorFlow backend.\n",
      "/home/rallen/anaconda3/envs/romer/lib/python3.6/importlib/_bootstrap.py:219: RuntimeWarning: compiletime version 3.5 of module 'tensorflow.python.framework.fast_tensor_util' does not match runtime version 3.6\n",
      "  return f(*args, **kwds)\n"
     ]
    }
   ],
   "source": [
    "%matplotlib inline\n",
    "#import bcolz\n",
    "import glob\n",
    "import keras\n",
    "from keras.models import Model\n",
    "from keras.layers import Input, Conv2D, BatchNormalization, Activation, Dropout, concatenate, Conv2DTranspose, Reshape\n",
    "from keras.regularizers import l2\n",
    "import numpy as np\n",
    "import os\n",
    "import random\n",
    "import threading\n",
    "import warnings\n",
    "warnings.filterwarnings(\"ignore\",category=DeprecationWarning)\n",
    "\n",
    "from PIL import Image\n",
    "import matplotlib.pyplot as plt\n",
    "\n",
    "from tiramisu import Tiramisu\n",
    "\n",
    "from train_utils import ExponentialLR, CyclicalCosineWithRestartsLR"
   ]
  },
  {
   "cell_type": "code",
   "execution_count": 2,
   "metadata": {},
   "outputs": [],
   "source": [
    "# removed earlier code that got xferred to Tiramisu model\n",
    "\n",
    "class image_generator(object):\n",
    "    def __init__(self, X, Y, batch_size, channels):\n",
    "        self.X  = X\n",
    "        self.Y  = Y\n",
    "        self.bs = batch_size\n",
    "        self.i  = 0\n",
    "    def __next__(self):\n",
    "        xs = self.X[self.i:self.i+self.bs]\n",
    "        ys = self.Y[self.i:self.i+self.bs]\n",
    "        ys = ys.reshape(len(ys),-1,channels) # convert 32,64,64,1 -> 32,4096,1\n",
    "        self.i = (self.i + self.bs) % self.X.shape[0]\n",
    "        return xs, ys"
   ]
  },
  {
   "cell_type": "markdown",
   "metadata": {},
   "source": [
    "Read in the training & validation images\n",
    "-------\n",
    "\n",
    "These are created via the mask_data_prep notebook\n"
   ]
  },
  {
   "cell_type": "code",
   "execution_count": 3,
   "metadata": {},
   "outputs": [],
   "source": [
    "# Remember to adjust 255 -> 1 on mask to convert it from a mask to a label\n",
    "# 0=background, 1=inside staff\n",
    "train_path = 'data/train'\n",
    "train_score_image_names = glob.glob(train_path+'/diced_score*png')\n",
    "train_mask_image_names = glob.glob(train_path+'/diced_mask*png')\n",
    "train_score_image_names.sort()\n",
    "train_mask_image_names.sort()\n",
    "train_score_images = np.stack([np.array(Image.open(fn)) for fn in train_score_image_names])\n",
    "train_mask_images = np.stack([np.array(Image.open(fn))//255 for fn in train_mask_image_names])\n",
    "train_score_images.shape = train_score_images.shape + (1,)\n",
    "train_mask_images.shape = train_mask_images.shape + (1,)\n",
    "assert(train_score_images.shape == train_mask_images.shape)\n",
    "num_train_images,rows,cols,channels = train_score_images.shape"
   ]
  },
  {
   "cell_type": "code",
   "execution_count": 4,
   "metadata": {},
   "outputs": [],
   "source": [
    "valid_path = 'data/valid'\n",
    "valid_score_image_names = glob.glob(valid_path+'/diced_score*png')\n",
    "valid_mask_image_names = glob.glob(valid_path+'/diced_mask*png')\n",
    "valid_score_image_names.sort()\n",
    "valid_mask_image_names.sort()\n",
    "valid_score_images = np.stack([np.array(Image.open(fn)) for fn in valid_score_image_names])\n",
    "# adjust 255 -> 1 on mask\n",
    "valid_mask_images = np.stack([np.array(Image.open(fn))//255 for fn in valid_mask_image_names])\n",
    "valid_score_images.shape = valid_score_images.shape + (1,)\n",
    "valid_mask_images.shape = valid_mask_images.shape + (1,)\n",
    "assert(valid_score_images.shape == valid_mask_images.shape)\n",
    "num_valid_images,_,_,_ = valid_score_images.shape"
   ]
  },
  {
   "cell_type": "code",
   "execution_count": 5,
   "metadata": {},
   "outputs": [
    {
     "data": {
      "text/plain": [
       "(21498, 2687, 64, 64, 1)"
      ]
     },
     "execution_count": 5,
     "metadata": {},
     "output_type": "execute_result"
    }
   ],
   "source": [
    "num_train_images, num_valid_images, rows, cols, channels"
   ]
  },
  {
   "cell_type": "code",
   "execution_count": 6,
   "metadata": {},
   "outputs": [
    {
     "data": {
      "text/plain": [
       "<matplotlib.image.AxesImage at 0x7fe5d7d225f8>"
      ]
     },
     "execution_count": 6,
     "metadata": {},
     "output_type": "execute_result"
    },
    {
     "data": {
      "image/png": "[encoded data removed]",
      "text/plain": [
       "<matplotlib.figure.Figure at 0x7fe5d7fee4a8>"
      ]
     },
     "metadata": {},
     "output_type": "display_data"
    }
   ],
   "source": [
    "NNN=501\n",
    "plt.imshow(train_score_images[NNN].reshape(64,64),cmap=\"gray\")"
   ]
  },
  {
   "cell_type": "code",
   "execution_count": 7,
   "metadata": {},
   "outputs": [
    {
     "data": {
      "text/plain": [
       "<matplotlib.image.AxesImage at 0x7fe5d7f7a2b0>"
      ]
     },
     "execution_count": 7,
     "metadata": {},
     "output_type": "execute_result"
    },
    {
     "data": {
      "image/png": "[encoded data removed]",
      "text/plain": [
       "<matplotlib.figure.Figure at 0x7fe5d7cd6630>"
      ]
     },
     "metadata": {},
     "output_type": "display_data"
    }
   ],
   "source": [
    "plt.imshow(train_mask_images[NNN].reshape(64,64),cmap=\"gray\")"
   ]
  },
  {
   "cell_type": "markdown",
   "metadata": {},
   "source": [
    "Make the Model & Do some Training\n",
    "-----\n",
    "\n",
    "Just a few epochs to see how things go."
   ]
  },
  {
   "cell_type": "markdown",
   "metadata": {},
   "source": [
    "Find the learning rate\n",
    "----"
   ]
  },
  {
   "cell_type": "code",
   "execution_count": 8,
   "metadata": {},
   "outputs": [],
   "source": [
    "input_shape = (rows,cols,channels)\n",
    "batch_size  = 128 # find biggest size that will run.  Now that we have LR finder\n",
    "num_epochs  = 1\n",
    "num_labels  = 2 \n",
    "train_rate  = 1e-4 # just a guess at this point"
   ]
  },
  {
   "cell_type": "code",
   "execution_count": 9,
   "metadata": {},
   "outputs": [],
   "source": [
    "train_generator = image_generator(train_score_images, train_mask_images, batch_size, channels)\n",
    "valid_generator = image_generator(valid_score_images, valid_mask_images, batch_size, channels)"
   ]
  },
  {
   "cell_type": "code",
   "execution_count": 22,
   "metadata": {},
   "outputs": [
    {
     "name": "stdout",
     "output_type": "stream",
     "text": [
      "Epoch 1/1\n",
      "167/167 [==============================] - 64s 382ms/step - loss: 1.7830 - acc: 0.7797 - val_loss: 33.5803 - val_acc: 0.7829\n"
     ]
    },
    {
     "data": {
      "text/plain": [
       "<keras.callbacks.History at 0x7fe4e18c1128>"
      ]
     },
     "execution_count": 22,
     "metadata": {},
     "output_type": "execute_result"
    }
   ],
   "source": [
    "model = Tiramisu(num_labels,\n",
    "                 input_shape,\n",
    "                 nb_layers_per_block=[2,3,4,5,6],#[4,5,7,10,12],\n",
    "                 initial_filter=24,#48\n",
    "                 bottleneck_layers=8,#16\n",
    "                 growth_rate=8,\n",
    "                 do_td_maxpool=False)\n",
    "model.compile(loss='sparse_categorical_crossentropy',\n",
    "              optimizer=keras.optimizers.RMSprop(train_rate), \n",
    "              metrics=[\"accuracy\"])\n",
    "lr = ExponentialLR(num_train_images//batch_size,1e-9,1.0)\n",
    "model.fit_generator(train_generator, \n",
    "                    num_train_images//batch_size, num_epochs, \n",
    "                    callbacks=[lr],\n",
    "                    #verbose=2,\n",
    "                    validation_data=valid_generator,\n",
    "                    validation_steps=num_valid_images//batch_size)\n"
   ]
  },
  {
   "cell_type": "code",
   "execution_count": 23,
   "metadata": {
    "scrolled": false
   },
   "outputs": [
    {
     "data": {
      "text/plain": [
       "(0, 5)"
      ]
     },
     "execution_count": 23,
     "metadata": {},
     "output_type": "execute_result"
    },
    {
     "data": {
      "image/png": "[encoded data removed]",
      "text/plain": [
       "<matplotlib.figure.Figure at 0x7fe4dfe62e80>"
      ]
     },
     "metadata": {},
     "output_type": "display_data"
    }
   ],
   "source": [
    "plt.semilogx(lr.history['lr'], lr.history['loss'])\n",
    "plt.ylim([0,5])"
   ]
  },
  {
   "cell_type": "code",
   "execution_count": 24,
   "metadata": {},
   "outputs": [
    {
     "data": {
      "text/plain": [
       "(0, 1)"
      ]
     },
     "execution_count": 24,
     "metadata": {},
     "output_type": "execute_result"
    },
    {
     "data": {
      "image/png": "[encoded data removed]",
      "text/plain": [
       "<matplotlib.figure.Figure at 0x7fe4d441a1d0>"
      ]
     },
     "metadata": {},
     "output_type": "display_data"
    }
   ],
   "source": [
    "A,B=40,130\n",
    "plt.semilogx(lr.history['lr'][A:B], lr.history['loss'][A:B])\n",
    "plt.ylim([0,1])\n",
    "# looks like 1e-3 is the winner.  Going to run again & see if it is still the case. Yep"
   ]
  },
  {
   "cell_type": "markdown",
   "metadata": {},
   "source": [
    "Cool, the above output pretty closely matches the below output so the code changes seem good.\n",
    "\n",
    "Continuing to adjust code... \n",
    "Wow, changing to separate dense_block_up/down makes big difference to runtime.\n",
    "now 22s/epoch & was 32s/epoch!  \n",
    "\n",
    "Comparison to original working code:\n",
    "```\n",
    "Epoch 1/20\n",
    "38s - loss: 11.0899 - acc: 0.3514 - val_loss: 11.1410 - val_acc: 0.3294\n",
    "Epoch 2/20\n",
    "32s - loss: 10.9127 - acc: 0.3562 - val_loss: 10.9368 - val_acc: 0.3515\n",
    "Epoch 3/20\n",
    "32s - loss: 10.7670 - acc: 0.3621 - val_loss: 10.9091 - val_acc: 0.3532\n",
    "Epoch 4/20\n",
    "32s - loss: 10.6393 - acc: 0.3684 - val_loss: 7.6373 - val_acc: 0.5500\n",
    "Epoch 5/20\n",
    "31s - loss: 3.6307 - acc: 0.7933 - val_loss: 1.4512 - val_acc: 0.9345\n",
    "Epoch 6/20\n",
    "31s - loss: 1.2234 - acc: 0.9497 - val_loss: 0.8745 - val_acc: 0.9730\n",
    "Epoch 7/20\n",
    "32s - loss: 0.9837 - acc: 0.9659 - val_loss: 0.7437 - val_acc: 0.9817\n",
    "Epoch 8/20\n",
    "32s - loss: 0.8285 - acc: 0.9757 - val_loss: 0.7250 - val_acc: 0.9811\n",
    "Epoch 9/20\n",
    "31s - loss: 0.7660 - acc: 0.9796 - val_loss: 0.6584 - val_acc: 0.9861\n",
    "Epoch 10/20\n",
    "31s - loss: 0.7029 - acc: 0.9832 - val_loss: 0.6142 - val_acc: 0.9891\n",
    "Epoch 11/20\n",
    "31s - loss: 0.6489 - acc: 0.9869 - val_loss: 0.5900 - val_acc: 0.9905\n",
    "Epoch 12/20\n",
    "32s - loss: 0.6206 - acc: 0.9883 - val_loss: 0.6310 - val_acc: 0.9871\n",
    "Epoch 13/20\n",
    "31s - loss: 0.5986 - acc: 0.9898 - val_loss: 0.5452 - val_acc: 0.9929\n",
    "Epoch 14/20\n",
    "31s - loss: 0.5825 - acc: 0.9902 - val_loss: 0.5657 - val_acc: 0.9909\n",
    "Epoch 15/20\n",
    "31s - loss: 0.5607 - acc: 0.9915 - val_loss: 0.5438 - val_acc: 0.9917\n",
    "Epoch 16/20\n",
    "31s - loss: 0.5384 - acc: 0.9926 - val_loss: 0.5082 - val_acc: 0.9941\n",
    "Epoch 17/20\n",
    "30s - loss: 0.5221 - acc: 0.9934 - val_loss: 0.4810 - val_acc: 0.9960\n",
    "Epoch 18/20\n",
    "30s - loss: 0.5113 - acc: 0.9937 - val_loss: 0.4792 - val_acc: 0.9955\n",
    "Epoch 19/20\n",
    "30s - loss: 0.4960 - acc: 0.9944 - val_loss: 0.4742 - val_acc: 0.9957\n",
    "Epoch 20/20\n",
    "30s - loss: 0.4788 - acc: 0.9951 - val_loss: 0.4865 - val_acc: 0.9946\n",
    "```"
   ]
  },
  {
   "cell_type": "markdown",
   "metadata": {},
   "source": [
    "Check results:\n",
    "----"
   ]
  },
  {
   "cell_type": "code",
   "execution_count": null,
   "metadata": {},
   "outputs": [],
   "source": [
    "NNN=503\n",
    "pred_result = model.predict(train_score_images[NNN:NNN+1])\n",
    "pred_result = pred_result.reshape(1,64,64,2)\n",
    "pred_zero,pred_one = pred_result[:,:,:,0], pred_result[:,:,:,1]"
   ]
  },
  {
   "cell_type": "code",
   "execution_count": null,
   "metadata": {},
   "outputs": [],
   "source": [
    "#plt.imshow(train_score_images[NNN].reshape(64,64),cmap=\"gray\")\n",
    "plt.imshow(pred_one.reshape(64,64),cmap=\"gray\")"
   ]
  },
  {
   "cell_type": "markdown",
   "metadata": {},
   "source": [
    "*results were prettty good here, but didn't save those cells.*\n",
    "\n",
    "The edges were not straight so let's keep training... "
   ]
  },
  {
   "cell_type": "code",
   "execution_count": null,
   "metadata": {
    "scrolled": true
   },
   "outputs": [],
   "source": [
    "train_rate = 1e-5\n",
    "num_epochs = 20\n",
    "model.optimizer=keras.optimizers.RMSprop(train_rate, decay=1-0.9995)\n",
    "model.fit_generator(train_generator, \n",
    "                    num_train_images//batch_size, num_epochs, \n",
    "                    verbose=2,\n",
    "                    validation_data=valid_generator,\n",
    "                    validation_steps=num_valid_images//batch_size)"
   ]
  },
  {
   "cell_type": "code",
   "execution_count": null,
   "metadata": {},
   "outputs": [],
   "source": [
    "NNN=505\n",
    "pred_result = model.predict(train_score_images[NNN:NNN+1])\n",
    "pred_result = pred_result.reshape(1,64,64,2)\n",
    "pred_zero,pred_one = pred_result[:,:,:,0], pred_result[:,:,:,1]"
   ]
  },
  {
   "cell_type": "code",
   "execution_count": null,
   "metadata": {},
   "outputs": [],
   "source": [
    "plt.imshow(train_score_images[NNN].reshape(64,64),cmap=\"gray\")"
   ]
  },
  {
   "cell_type": "code",
   "execution_count": null,
   "metadata": {},
   "outputs": [],
   "source": [
    "plt.imshow(pred_one.reshape(64,64),cmap=\"gray\")"
   ]
  },
  {
   "cell_type": "markdown",
   "metadata": {},
   "source": [
    "Nice Results\n",
    "------------\n",
    "\n",
    "Save those weights, but this wasn't much effort so let's keep going."
   ]
  },
  {
   "cell_type": "code",
   "execution_count": null,
   "metadata": {},
   "outputs": [],
   "source": [
    "#!mkdir data/results\n",
    "model.save_weights('data/results/mask_weights_171011_1.h5')"
   ]
  },
  {
   "cell_type": "code",
   "execution_count": null,
   "metadata": {
    "scrolled": true
   },
   "outputs": [],
   "source": [
    "train_rate = 1e-5\n",
    "num_epochs = 20\n",
    "model.optimizer=keras.optimizers.RMSprop(train_rate, decay=1-0.9995)\n",
    "model.fit_generator(train_generator, \n",
    "                    num_train_images//batch_size, num_epochs, \n",
    "                    verbose=2,\n",
    "                    validation_data=valid_generator,\n",
    "                    validation_steps=num_valid_images//batch_size)"
   ]
  },
  {
   "cell_type": "code",
   "execution_count": null,
   "metadata": {},
   "outputs": [],
   "source": [
    "model.save_weights('data/results/mask_weights_171011_2.h5')"
   ]
  },
  {
   "cell_type": "code",
   "execution_count": null,
   "metadata": {},
   "outputs": [],
   "source": [
    "NNN=1060\n",
    "pred_result = model.predict(train_score_images[NNN:NNN+1])\n",
    "pred_result = pred_result.reshape(1,64,64,2)\n",
    "pred_zero,pred_one = pred_result[:,:,:,0], pred_result[:,:,:,1]"
   ]
  },
  {
   "cell_type": "code",
   "execution_count": null,
   "metadata": {},
   "outputs": [],
   "source": [
    "plt.imshow(pred_one.reshape(64,64),cmap=\"gray\")"
   ]
  },
  {
   "cell_type": "markdown",
   "metadata": {},
   "source": [
    "Let's use model\n",
    "------\n",
    "\n",
    "Read in full image, dice it up, predict output for each bit, reassemble into a full image."
   ]
  },
  {
   "cell_type": "code",
   "execution_count": null,
   "metadata": {},
   "outputs": [],
   "source": [
    "def get_image_names(base_name):\n",
    "    score_file_name = f'../data/{base_name}.png'\n",
    "    mask_file_name = f'../data/{base_name}_mask.png'\n",
    "    return score_file_name, mask_file_name\n",
    "\n",
    "def get_images(base_name):\n",
    "    score_file_name, mask_file_name = get_image_names(base_name)\n",
    "    mask_image = Image.open(mask_file_name).convert('L')\n",
    "    mask_image = Image.eval(mask_image, lambda x: x*10) # saturate the mask\n",
    "    score_image = Image.open(score_file_name)\n",
    "    background = Image.new('RGBA', score_image.size, (255,255,255))\n",
    "    score_image = Image.alpha_composite(background,score_image)\n",
    "    score_image = score_image.convert('L')\n",
    "    return score_image, mask_image"
   ]
  },
  {
   "cell_type": "code",
   "execution_count": null,
   "metadata": {},
   "outputs": [],
   "source": [
    "def get_input_prediction_tiles(input_image):\n",
    "    # cannot just send an image to predict.  We have to send the tiles\n",
    "    # pred_result = model.predict(score_image)\n",
    "    #   ValueError: Error when checking : expected input_1 to have shape (None, 64, 64, 1) \n",
    "    #   but got array with shape (1, 1123, 794, 1)\n",
    "    num_tiles = np.ceil(np.array([input_image.width/64,input_image.height/64]))\n",
    "    tot_tiles = int(num_tiles[0]*num_tiles[1])\n",
    "    input_tiles = np.zeros((tot_tiles,64,64,1),dtype='uint8')\n",
    "    i = 0\n",
    "    for iy in range(int(num_tiles[1])):\n",
    "        for ix in range(int(num_tiles[0])):\n",
    "            input_tiles[i] = np.array(score_image.crop([ix*64,iy*64,(ix+1)*64,(iy+1)*64])).reshape(64,64,1)\n",
    "            i += 1\n",
    "    return input_tiles\n",
    "\n",
    "def image_from_tiles(width,height,pred_tiles,pred_channel):\n",
    "    # reshape & collect a single channel plane to visualize\n",
    "    pred_tiles = pred_tiles.reshape(input_tiles.shape[0],64,64,2)\n",
    "    pred_one_tiles = pred_tiles[:,:,:,1]#pred_one = pred_one.reshape(int(num_tiles[0])*64,int(num_tiles[1])*64)\n",
    "    num_tiles = np.ceil(np.array([width/64,height/64]))\n",
    "    pred_one = Image.new('L', (int(num_tiles[0])*64,int(num_tiles[1])*64), (0,))\n",
    "    i = 0\n",
    "    for iy in range(int(num_tiles[1])):\n",
    "        for ix in range(int(num_tiles[0])):\n",
    "            pred_tile_image = Image.fromarray(np.uint8(pred_one_tiles[i]*255))\n",
    "            pred_one.paste(pred_tile_image, (ix*64,iy*64))\n",
    "            i += 1\n",
    "    return pred_one\n"
   ]
  },
  {
   "cell_type": "code",
   "execution_count": null,
   "metadata": {},
   "outputs": [],
   "source": [
    "score_image, mask_image = get_images('gen_two')\n",
    "input_tiles = get_input_prediction_tiles(score_image)\n",
    "pred_tiles = model.predict(input_tiles)\n",
    "pred_one = image_from_tiles(score_image.width, score_image.height, pred_tiles, 1)"
   ]
  },
  {
   "cell_type": "markdown",
   "metadata": {},
   "source": [
    "Visualize the output\n",
    "----------\n",
    "\n",
    "Look's likely to be acceptable!  There are definitely some glitches, but I think these are \n",
    "results that would work for finding the regions to focus on."
   ]
  },
  {
   "cell_type": "code",
   "execution_count": null,
   "metadata": {},
   "outputs": [],
   "source": [
    "pred_one"
   ]
  },
  {
   "cell_type": "code",
   "execution_count": null,
   "metadata": {},
   "outputs": [],
   "source": [
    "# for comparison, look at either of these...\n",
    "#score_image\n",
    "mask_image"
   ]
  },
  {
   "cell_type": "code",
   "execution_count": null,
   "metadata": {},
   "outputs": [],
   "source": [
    "# just some debug snippets\n",
    "ix, iy = 10, 0\n",
    "img = np.array(score_image.crop([ix*64,iy*64,(ix+1)*64,(iy+1)*64])).reshape(64,64,1)\n",
    "plt.imshow(img.reshape(64,64),cmap=\"gray\")\n",
    "#img[0,:10]"
   ]
  },
  {
   "cell_type": "code",
   "execution_count": null,
   "metadata": {},
   "outputs": [],
   "source": [
    "plt.imshow(input_tiles[10].reshape(64,64),cmap=\"gray\")"
   ]
  },
  {
   "cell_type": "code",
   "execution_count": null,
   "metadata": {},
   "outputs": [],
   "source": []
  }
 ],
 "metadata": {
  "kernelspec": {
   "display_name": "Python 3",
   "language": "python",
   "name": "python3"
  },
  "language_info": {
   "codemirror_mode": {
    "name": "ipython",
    "version": 3
   },
   "file_extension": ".py",
   "mimetype": "text/x-python",
   "name": "python",
   "nbconvert_exporter": "python",
   "pygments_lexer": "ipython3",
   "version": "3.6.4"
  }
 },
 "nbformat": 4,
 "nbformat_minor": 2
}
