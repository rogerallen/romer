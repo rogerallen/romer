{
 "cells": [
  {
   "cell_type": "markdown",
   "metadata": {},
   "source": [
    "Mask Model\n",
    "-------\n",
    "\n",
    "Basing this on the fast.ai Keras Tiramisu implementation of the One Hundred Layers Tiramisu as described in Simon Jegou et al.'s paper [The One Hundred Layers Tiramisu: Fully Convolutional DenseNets for Semantic Segmentation](https://arxiv.org/abs/1611.09326).\n",
    "\n",
    "This is heavily inspired by the code from the 2nd Fast.ai Deep Learning course here:\n",
    "https://github.com/fastai/courses/blob/master/deeplearning2/tiramisu-keras.ipynb\n",
    "\n",
    "I've updated it to Keras 2 and have rewritten it to understand it."
   ]
  },
  {
   "cell_type": "code",
   "execution_count": 2,
   "metadata": {},
   "outputs": [
    {
     "name": "stderr",
     "output_type": "stream",
     "text": [
      "Using TensorFlow backend.\n",
      "/home/rallen/anaconda3/envs/dl/lib/python3.6/importlib/_bootstrap.py:219: RuntimeWarning: compiletime version 3.5 of module 'tensorflow.python.framework.fast_tensor_util' does not match runtime version 3.6\n",
      "  return f(*args, **kwds)\n"
     ]
    }
   ],
   "source": [
    "%matplotlib inline\n",
    "#import bcolz\n",
    "import glob\n",
    "import keras\n",
    "from keras.models import Model\n",
    "from keras.layers import Input, Conv2D, BatchNormalization, Activation, Dropout, concatenate, Conv2DTranspose, Reshape\n",
    "from keras.regularizers import l2\n",
    "import numpy as np\n",
    "import os\n",
    "import random\n",
    "import threading\n",
    "import warnings\n",
    "warnings.filterwarnings(\"ignore\",category=DeprecationWarning)\n",
    "\n",
    "from PIL import Image\n",
    "import matplotlib.pyplot as plt"
   ]
  },
  {
   "cell_type": "code",
   "execution_count": 3,
   "metadata": {
    "collapsed": true
   },
   "outputs": [],
   "source": [
    "def dense_block_down(x,nb_layers,growth_rate,p,wd):\n",
    "    \"\"\"See Figure 2 from th paper. A dense_block has nb_layers of 'Layer' blocks.  This function \n",
    "    takes in an input x, and returns two output variants: a modified x and a 'added' variable.  \n",
    "    Note in Figure 1 where the down path has a post-DB concat to the x input and the up connection does not.  \n",
    "    x becomes a concatenation of x and the intermediate layer outputs: [x,a,a',a'',a''',...] and \n",
    "    'added' variable is concatenated layer of only the layer outputs [a,a',a'',a''',...] \n",
    "    So this allows this one bit of code to work for both down and up connections.  \n",
    "    \n",
    "    Each layer is a described in Table 1 of the paper.  Batch Norm, ReLU, 3x3 Conv, Dropout (p=0.2)\n",
    "    \n",
    "    This seems like something we don't need to be so tricky about.  It could \n",
    "    be eating more memory than is necessary to make both variables.  \n",
    "    But at the moment I don't know how to code keeping \n",
    "    an input to this function unmodified to \"go around\" this dense_block.\n",
    "    \"\"\"\n",
    "    for i in range(nb_layers):\n",
    "        a = BatchNormalization(axis=-1)(x)\n",
    "        a = Activation('relu')(a)\n",
    "        a = Conv2D(growth_rate, (3, 3),\n",
    "                   padding=\"same\", kernel_initializer=\"he_uniform\", \n",
    "                   kernel_regularizer=l2(wd))(a)\n",
    "        a = Dropout(p)(a) if p else a\n",
    "        x = concatenate([x, a])\n",
    "    return x\n",
    "\n",
    "def dense_block_up(x,nb_layers,growth_rate,p,wd):\n",
    "    \"\"\"FIXME\n",
    "    \"\"\"\n",
    "    for i in range(nb_layers):\n",
    "        a = BatchNormalization(axis=-1)(x)\n",
    "        a = Activation('relu')(a)\n",
    "        a = Conv2D(growth_rate, (3, 3),\n",
    "                   padding=\"same\", kernel_initializer=\"he_uniform\", \n",
    "                   kernel_regularizer=l2(wd))(a)\n",
    "        a = Dropout(p)(a) if p else a\n",
    "        x = concatenate([x, a])\n",
    "        if i == 0:\n",
    "            added = a\n",
    "        else:\n",
    "            added = concatenate([added,a]) \n",
    "    return added\n",
    "\n",
    "def transition_down(x, p, wd, do_maxpool):\n",
    "    \"\"\"See Table 1 for the Transition Down block.  Similar to the Layer \n",
    "    in the DenseBlock, but slightly different with 1x1 Conv and 2x2 MaxPooling.\n",
    "    Jeremy Howard's fast.ai code did not use MaxPooling, but rather just 2x strides,\n",
    "    so allow for control of this via do_maxpool.\"\"\"\n",
    "    nb_filter = x.get_shape().as_list()[-1]\n",
    "    conv_stride = 1 if do_maxpool else 2\n",
    "    x = BatchNormalization(axis=-1)(x)\n",
    "    x = Activation('relu')(x)\n",
    "    x = Conv2D(nb_filter, (1, 1),\n",
    "               padding=\"same\", kernel_initializer=\"he_uniform\", \n",
    "               strides=(conv_stride, conv_stride),\n",
    "               kernel_regularizer=l2(wd))(x)\n",
    "    x = Dropout(p)(x) if p else x\n",
    "    x = MaxPooling2D()(x) if do_maxpool else x\n",
    "    return x\n",
    "\n",
    "def transition_up(added, wd=0):\n",
    "    \"\"\"See Table 1 for the transition up block. A 3x3 Transposed Conv with stride=2.\"\"\"\n",
    "    _,r,c,ch = added.get_shape().as_list()\n",
    "    x = Conv2DTranspose(ch, (3, 3), \n",
    "                        strides=(2, 2), \n",
    "                        padding=\"same\", \n",
    "                        kernel_initializer=\"he_uniform\", \n",
    "                        kernel_regularizer=l2(wd))(added)\n",
    "    return x\n",
    "\n",
    "def create_tiramisu_model(nb_classes, img_input, nb_layers_per_block, \n",
    "                          initial_filter=48, bottleneck_filter=15, growth_rate=16, \n",
    "                          do_td_maxpool=True, p=0.2, wd=1e-4):\n",
    "    \"\"\"create_tiramisu_model:\n",
    "    inputs:\n",
    "      nb_classes: number of output classes to classify\n",
    "      img_input: tuple of shape (channels, rows, columns) or (rows, columns, channels)\n",
    "          that should match your K.image_data_format() == 'channels_first' setting.\n",
    "      nb_layers_per_block: \n",
    "          items in list are number of layers in each dense block (not including bottleneck)\n",
    "          e.g. [4,5,7,10,12] to match the paper.  Note that the last entry in the list \n",
    "          doesn't produce skips and the up path won't mirror it.\n",
    "      initial_filter: number of filters in initial 3x3 Conv (48 per paper)\n",
    "      bottleneck_filter: number of filters in bottleneck stage (15 per paper)\n",
    "      growth_rate: number of filters to add per dense block (12 or 16 per paper)\n",
    "      do_td_maxpool: Jeremy Howard says \n",
    "      p: dropout rate or None for no Dropout() (0.2 per paper)\n",
    "      wd: weight decay (1e-4 per paper)\n",
    "    output:\n",
    "      Tiramisu Keras Model\n",
    "    \"\"\"\n",
    "\n",
    "    assert type(nb_layers_per_block) == list\n",
    "    \n",
    "    # initial 3x3 Convolution\n",
    "    x = Conv2D(initial_filter, (3, 3), padding=\"same\", \n",
    "               kernel_initializer=\"he_uniform\", \n",
    "               kernel_regularizer=l2(wd))(img_input)\n",
    " \n",
    "    # Down Path: DenseBlocks + TransitionDowns\n",
    "    skips = []\n",
    "    for nb_layers in nb_layers_per_block:\n",
    "        x = dense_block_down(x, nb_layers, growth_rate, p, wd)\n",
    "        skips.append(x)\n",
    "        x = transition_down(x, p, wd, do_td_maxpool)\n",
    "    \n",
    "    # Bottleneck\n",
    "    added = dense_block_up(x, nb_layers, growth_rate, p, wd)\n",
    "    \n",
    "    # Up Path: TransitionUp + DenseBlocks\n",
    "    skips = list(reversed(skips))\n",
    "    nb_layers_per_block = list(reversed(nb_layers_per_block))\n",
    "    for i,nb_layers in enumerate(nb_layers_per_block):\n",
    "        x = transition_up(added, wd)\n",
    "        x = concatenate([x,skips[i]])\n",
    "        added = dense_block_up(x, nb_layers, growth_rate, p, wd)\n",
    "    \n",
    "    # final 1x1 Convolution & Softmax\n",
    "    x = Conv2D(nb_classes, (1, 1), padding=\"same\", \n",
    "               kernel_initializer=\"he_uniform\", \n",
    "               kernel_regularizer=l2(wd))(x)\n",
    "    x = Reshape((-1, nb_classes))(x)\n",
    "    x = Activation('softmax')(x)\n",
    "    return x\n",
    "\n",
    "class image_generator(object):\n",
    "    def __init__(self, X, Y, batch_size, channels):\n",
    "        self.X  = X\n",
    "        self.Y  = Y\n",
    "        self.bs = batch_size\n",
    "        self.i  = 0\n",
    "    def __next__(self):\n",
    "        xs = self.X[self.i:self.i+self.bs]\n",
    "        ys = self.Y[self.i:self.i+self.bs]\n",
    "        ys = ys.reshape(len(ys),-1,channels) # convert 32,64,64,1 -> 32,4096,1\n",
    "        self.i = (self.i + self.bs) % self.X.shape[0]\n",
    "        return xs, ys"
   ]
  },
  {
   "cell_type": "markdown",
   "metadata": {},
   "source": [
    "Read in the training & validation images\n",
    "-------\n",
    "\n",
    "These are created via the mask_data_prep notebook\n",
    "\n",
    " - [ ] FIXME add testing of the test image set"
   ]
  },
  {
   "cell_type": "code",
   "execution_count": 4,
   "metadata": {
    "collapsed": true
   },
   "outputs": [],
   "source": [
    "# Remember to adjust 255 -> 1 on mask to convert it from a mask to a label\n",
    "# 0=background, 1=inside staff\n",
    "train_path = 'data/train'\n",
    "train_score_image_names = glob.glob(train_path+'/diced_score*png')\n",
    "train_mask_image_names = glob.glob(train_path+'/diced_mask*png')\n",
    "train_score_image_names.sort()\n",
    "train_mask_image_names.sort()\n",
    "train_score_images = np.stack([np.array(Image.open(fn)) for fn in train_score_image_names])\n",
    "train_mask_images = np.stack([np.array(Image.open(fn))//255 for fn in train_mask_image_names])\n",
    "train_score_images.shape = train_score_images.shape + (1,)\n",
    "train_mask_images.shape = train_mask_images.shape + (1,)\n",
    "assert(train_score_images.shape == train_mask_images.shape)\n",
    "num_train_images,rows,cols,channels = train_score_images.shape"
   ]
  },
  {
   "cell_type": "code",
   "execution_count": 5,
   "metadata": {
    "collapsed": true
   },
   "outputs": [],
   "source": [
    "valid_path = 'data/valid'\n",
    "valid_score_image_names = glob.glob(valid_path+'/diced_score*png')\n",
    "valid_mask_image_names = glob.glob(valid_path+'/diced_mask*png')\n",
    "valid_score_image_names.sort()\n",
    "valid_mask_image_names.sort()\n",
    "valid_score_images = np.stack([np.array(Image.open(fn)) for fn in valid_score_image_names])\n",
    "# adjust 255 -> 1 on mask\n",
    "valid_mask_images = np.stack([np.array(Image.open(fn))//255 for fn in valid_mask_image_names])\n",
    "valid_score_images.shape = valid_score_images.shape + (1,)\n",
    "valid_mask_images.shape = valid_mask_images.shape + (1,)\n",
    "assert(valid_score_images.shape == valid_mask_images.shape)\n",
    "num_valid_images,_,_,_ = valid_score_images.shape"
   ]
  },
  {
   "cell_type": "code",
   "execution_count": 6,
   "metadata": {},
   "outputs": [
    {
     "data": {
      "text/plain": [
       "(1780, 592, 64, 64, 1)"
      ]
     },
     "execution_count": 6,
     "metadata": {},
     "output_type": "execute_result"
    }
   ],
   "source": [
    "num_train_images, num_valid_images, rows, cols, channels"
   ]
  },
  {
   "cell_type": "code",
   "execution_count": 7,
   "metadata": {},
   "outputs": [
    {
     "data": {
      "text/plain": [
       "<matplotlib.image.AxesImage at 0x7fc4bcddbc88>"
      ]
     },
     "execution_count": 7,
     "metadata": {},
     "output_type": "execute_result"
    },
    {
     "data": {
      "image/png": "[encoded data removed]",
      "text/plain": [
       "<matplotlib.figure.Figure at 0x7fc4bce86908>"
      ]
     },
     "metadata": {},
     "output_type": "display_data"
    }
   ],
   "source": [
    "NNN=501\n",
    "plt.imshow(train_score_images[NNN].reshape(64,64),cmap=\"gray\")"
   ]
  },
  {
   "cell_type": "code",
   "execution_count": 8,
   "metadata": {},
   "outputs": [
    {
     "data": {
      "text/plain": [
       "<matplotlib.image.AxesImage at 0x7fc45eff7eb8>"
      ]
     },
     "execution_count": 8,
     "metadata": {},
     "output_type": "execute_result"
    },
    {
     "data": {
      "image/png": "[encoded data removed]",
      "text/plain": [
       "<matplotlib.figure.Figure at 0x7fc45f087080>"
      ]
     },
     "metadata": {},
     "output_type": "display_data"
    }
   ],
   "source": [
    "plt.imshow(train_mask_images[NNN].reshape(64,64),cmap=\"gray\")"
   ]
  },
  {
   "cell_type": "markdown",
   "metadata": {},
   "source": [
    "Make the Model & Do some Training\n",
    "-----\n",
    "\n",
    "Just a few epochs to see how things go."
   ]
  },
  {
   "cell_type": "code",
   "execution_count": 12,
   "metadata": {
    "collapsed": true
   },
   "outputs": [],
   "source": [
    "input_shape = (rows,cols,channels)\n",
    "batch_size  = 32\n",
    "num_epochs  = 20\n",
    "train_rate  = 1e-4\n",
    "num_labels  = 2 "
   ]
  },
  {
   "cell_type": "code",
   "execution_count": 13,
   "metadata": {
    "collapsed": true
   },
   "outputs": [],
   "source": [
    "train_generator = image_generator(train_score_images, train_mask_images, batch_size, channels)\n",
    "valid_generator = image_generator(valid_score_images, valid_mask_images, batch_size, channels)"
   ]
  },
  {
   "cell_type": "code",
   "execution_count": 14,
   "metadata": {
    "collapsed": true
   },
   "outputs": [],
   "source": [
    "image_input = Input(shape=input_shape)\n",
    "x = create_tiramisu_model(num_labels, image_input, \n",
    "                          nb_layers_per_block=[4,5,7,10,12],\n",
    "                          initial_filter=48, bottleneck_filter=15, growth_rate=16,\n",
    "                          do_td_maxpool=False,\n",
    "                          p=0.2, wd=1e-4)\n",
    "model = Model(image_input, x)\n",
    "model.compile(loss='sparse_categorical_crossentropy',\n",
    "              optimizer=keras.optimizers.RMSprop(train_rate), \n",
    "              metrics=[\"accuracy\"])"
   ]
  },
  {
   "cell_type": "code",
   "execution_count": 15,
   "metadata": {
    "scrolled": false
   },
   "outputs": [
    {
     "name": "stdout",
     "output_type": "stream",
     "text": [
      "Epoch 1/20\n",
      "27s - loss: 10.9791 - acc: 0.3546 - val_loss: 11.1092 - val_acc: 0.3333\n",
      "Epoch 2/20\n",
      "21s - loss: 10.8090 - acc: 0.3604 - val_loss: 10.8976 - val_acc: 0.3557\n",
      "Epoch 3/20\n",
      "21s - loss: 4.6621 - acc: 0.7248 - val_loss: 1.7459 - val_acc: 0.9168\n",
      "Epoch 4/20\n",
      "21s - loss: 1.3639 - acc: 0.9400 - val_loss: 1.0072 - val_acc: 0.9670\n",
      "Epoch 5/20\n",
      "21s - loss: 1.0288 - acc: 0.9647 - val_loss: 0.9839 - val_acc: 0.9678\n",
      "Epoch 6/20\n",
      "21s - loss: 0.8998 - acc: 0.9738 - val_loss: 1.1267 - val_acc: 0.9592\n",
      "Epoch 7/20\n",
      "22s - loss: 0.8331 - acc: 0.9785 - val_loss: 0.8773 - val_acc: 0.9754\n",
      "Epoch 8/20\n",
      "21s - loss: 0.7574 - acc: 0.9834 - val_loss: 0.8637 - val_acc: 0.9764\n",
      "Epoch 9/20\n",
      "21s - loss: 0.7468 - acc: 0.9836 - val_loss: 0.7920 - val_acc: 0.9804\n",
      "Epoch 10/20\n",
      "21s - loss: 0.6923 - acc: 0.9871 - val_loss: 0.6926 - val_acc: 0.9868\n",
      "Epoch 11/20\n",
      "21s - loss: 0.6632 - acc: 0.9888 - val_loss: 0.6956 - val_acc: 0.9865\n",
      "Epoch 12/20\n",
      "21s - loss: 0.6291 - acc: 0.9908 - val_loss: 0.7147 - val_acc: 0.9841\n",
      "Epoch 13/20\n",
      "21s - loss: 0.6066 - acc: 0.9917 - val_loss: 0.6175 - val_acc: 0.9907\n",
      "Epoch 14/20\n",
      "22s - loss: 0.6092 - acc: 0.9914 - val_loss: 0.5900 - val_acc: 0.9926\n",
      "Epoch 15/20\n",
      "21s - loss: 0.5871 - acc: 0.9923 - val_loss: 0.5874 - val_acc: 0.9917\n",
      "Epoch 16/20\n",
      "21s - loss: 0.5659 - acc: 0.9934 - val_loss: 0.5931 - val_acc: 0.9907\n",
      "Epoch 17/20\n",
      "21s - loss: 0.5484 - acc: 0.9942 - val_loss: 0.5464 - val_acc: 0.9940\n",
      "Epoch 18/20\n",
      "21s - loss: 0.5338 - acc: 0.9946 - val_loss: 0.5293 - val_acc: 0.9947\n",
      "Epoch 19/20\n",
      "21s - loss: 0.5278 - acc: 0.9947 - val_loss: 0.5509 - val_acc: 0.9926\n",
      "Epoch 20/20\n",
      "21s - loss: 0.5069 - acc: 0.9956 - val_loss: 0.5032 - val_acc: 0.9956\n"
     ]
    },
    {
     "data": {
      "text/plain": [
       "<keras.callbacks.History at 0x7fc75f4975f8>"
      ]
     },
     "execution_count": 15,
     "metadata": {},
     "output_type": "execute_result"
    }
   ],
   "source": [
    "model.fit_generator(train_generator, \n",
    "                    num_train_images//batch_size, num_epochs, \n",
    "                    verbose=2,\n",
    "                    validation_data=valid_generator,\n",
    "                    validation_steps=num_valid_images//batch_size)\n"
   ]
  },
  {
   "cell_type": "markdown",
   "metadata": {},
   "source": [
    "Cool, the above output pretty closely matches the below output so the code changes seem good.\n",
    "\n",
    "Continuing to adjust code... \n",
    "Wow, changing to separate dense_block_up/down makes big difference to runtime.\n",
    "now 22s/epoch & was 32s/epoch!  \n",
    "\n",
    "Comparison to original working code:\n",
    "```\n",
    "Epoch 1/20\n",
    "38s - loss: 11.0899 - acc: 0.3514 - val_loss: 11.1410 - val_acc: 0.3294\n",
    "Epoch 2/20\n",
    "32s - loss: 10.9127 - acc: 0.3562 - val_loss: 10.9368 - val_acc: 0.3515\n",
    "Epoch 3/20\n",
    "32s - loss: 10.7670 - acc: 0.3621 - val_loss: 10.9091 - val_acc: 0.3532\n",
    "Epoch 4/20\n",
    "32s - loss: 10.6393 - acc: 0.3684 - val_loss: 7.6373 - val_acc: 0.5500\n",
    "Epoch 5/20\n",
    "31s - loss: 3.6307 - acc: 0.7933 - val_loss: 1.4512 - val_acc: 0.9345\n",
    "Epoch 6/20\n",
    "31s - loss: 1.2234 - acc: 0.9497 - val_loss: 0.8745 - val_acc: 0.9730\n",
    "Epoch 7/20\n",
    "32s - loss: 0.9837 - acc: 0.9659 - val_loss: 0.7437 - val_acc: 0.9817\n",
    "Epoch 8/20\n",
    "32s - loss: 0.8285 - acc: 0.9757 - val_loss: 0.7250 - val_acc: 0.9811\n",
    "Epoch 9/20\n",
    "31s - loss: 0.7660 - acc: 0.9796 - val_loss: 0.6584 - val_acc: 0.9861\n",
    "Epoch 10/20\n",
    "31s - loss: 0.7029 - acc: 0.9832 - val_loss: 0.6142 - val_acc: 0.9891\n",
    "Epoch 11/20\n",
    "31s - loss: 0.6489 - acc: 0.9869 - val_loss: 0.5900 - val_acc: 0.9905\n",
    "Epoch 12/20\n",
    "32s - loss: 0.6206 - acc: 0.9883 - val_loss: 0.6310 - val_acc: 0.9871\n",
    "Epoch 13/20\n",
    "31s - loss: 0.5986 - acc: 0.9898 - val_loss: 0.5452 - val_acc: 0.9929\n",
    "Epoch 14/20\n",
    "31s - loss: 0.5825 - acc: 0.9902 - val_loss: 0.5657 - val_acc: 0.9909\n",
    "Epoch 15/20\n",
    "31s - loss: 0.5607 - acc: 0.9915 - val_loss: 0.5438 - val_acc: 0.9917\n",
    "Epoch 16/20\n",
    "31s - loss: 0.5384 - acc: 0.9926 - val_loss: 0.5082 - val_acc: 0.9941\n",
    "Epoch 17/20\n",
    "30s - loss: 0.5221 - acc: 0.9934 - val_loss: 0.4810 - val_acc: 0.9960\n",
    "Epoch 18/20\n",
    "30s - loss: 0.5113 - acc: 0.9937 - val_loss: 0.4792 - val_acc: 0.9955\n",
    "Epoch 19/20\n",
    "30s - loss: 0.4960 - acc: 0.9944 - val_loss: 0.4742 - val_acc: 0.9957\n",
    "Epoch 20/20\n",
    "30s - loss: 0.4788 - acc: 0.9951 - val_loss: 0.4865 - val_acc: 0.9946\n",
    "```"
   ]
  },
  {
   "cell_type": "markdown",
   "metadata": {},
   "source": [
    "Check results:\n",
    "----"
   ]
  },
  {
   "cell_type": "code",
   "execution_count": null,
   "metadata": {
    "collapsed": true
   },
   "outputs": [],
   "source": [
    "NNN=503\n",
    "pred_result = model.predict(train_score_images[NNN:NNN+1])\n",
    "pred_result = pred_result.reshape(1,64,64,2)\n",
    "pred_zero,pred_one = pred_result[:,:,:,0], pred_result[:,:,:,1]"
   ]
  },
  {
   "cell_type": "code",
   "execution_count": null,
   "metadata": {
    "collapsed": true
   },
   "outputs": [],
   "source": [
    "#plt.imshow(train_score_images[NNN].reshape(64,64),cmap=\"gray\")\n",
    "plt.imshow(pred_one.reshape(64,64),cmap=\"gray\")"
   ]
  },
  {
   "cell_type": "markdown",
   "metadata": {},
   "source": [
    "*results were prettty good here, but didn't save those cells.*\n",
    "\n",
    "The edges were not straight so let's keep training... "
   ]
  },
  {
   "cell_type": "code",
   "execution_count": null,
   "metadata": {
    "collapsed": true,
    "scrolled": true
   },
   "outputs": [],
   "source": [
    "train_rate = 1e-5\n",
    "num_epochs = 20\n",
    "model.optimizer=keras.optimizers.RMSprop(train_rate, decay=1-0.9995)\n",
    "model.fit_generator(train_generator, \n",
    "                    num_train_images//batch_size, num_epochs, \n",
    "                    verbose=2,\n",
    "                    validation_data=valid_generator,\n",
    "                    validation_steps=num_valid_images//batch_size)"
   ]
  },
  {
   "cell_type": "code",
   "execution_count": null,
   "metadata": {
    "collapsed": true
   },
   "outputs": [],
   "source": [
    "NNN=505\n",
    "pred_result = model.predict(train_score_images[NNN:NNN+1])\n",
    "pred_result = pred_result.reshape(1,64,64,2)\n",
    "pred_zero,pred_one = pred_result[:,:,:,0], pred_result[:,:,:,1]"
   ]
  },
  {
   "cell_type": "code",
   "execution_count": null,
   "metadata": {
    "collapsed": true
   },
   "outputs": [],
   "source": [
    "plt.imshow(train_score_images[NNN].reshape(64,64),cmap=\"gray\")"
   ]
  },
  {
   "cell_type": "code",
   "execution_count": null,
   "metadata": {
    "collapsed": true
   },
   "outputs": [],
   "source": [
    "plt.imshow(pred_one.reshape(64,64),cmap=\"gray\")"
   ]
  },
  {
   "cell_type": "markdown",
   "metadata": {},
   "source": [
    "Nice Results\n",
    "------------\n",
    "\n",
    "Save those weights, but this wasn't much effort so let's keep going."
   ]
  },
  {
   "cell_type": "code",
   "execution_count": null,
   "metadata": {
    "collapsed": true
   },
   "outputs": [],
   "source": [
    "#!mkdir data/results\n",
    "model.save_weights('data/results/mask_weights_171011_1.h5')"
   ]
  },
  {
   "cell_type": "code",
   "execution_count": null,
   "metadata": {
    "collapsed": true,
    "scrolled": true
   },
   "outputs": [],
   "source": [
    "train_rate = 1e-5\n",
    "num_epochs = 20\n",
    "model.optimizer=keras.optimizers.RMSprop(train_rate, decay=1-0.9995)\n",
    "model.fit_generator(train_generator, \n",
    "                    num_train_images//batch_size, num_epochs, \n",
    "                    verbose=2,\n",
    "                    validation_data=valid_generator,\n",
    "                    validation_steps=num_valid_images//batch_size)"
   ]
  },
  {
   "cell_type": "code",
   "execution_count": null,
   "metadata": {
    "collapsed": true
   },
   "outputs": [],
   "source": [
    "model.save_weights('data/results/mask_weights_171011_2.h5')"
   ]
  },
  {
   "cell_type": "code",
   "execution_count": null,
   "metadata": {
    "collapsed": true
   },
   "outputs": [],
   "source": [
    "NNN=1060\n",
    "pred_result = model.predict(train_score_images[NNN:NNN+1])\n",
    "pred_result = pred_result.reshape(1,64,64,2)\n",
    "pred_zero,pred_one = pred_result[:,:,:,0], pred_result[:,:,:,1]"
   ]
  },
  {
   "cell_type": "code",
   "execution_count": null,
   "metadata": {
    "collapsed": true
   },
   "outputs": [],
   "source": [
    "plt.imshow(pred_one.reshape(64,64),cmap=\"gray\")"
   ]
  },
  {
   "cell_type": "markdown",
   "metadata": {},
   "source": [
    "Let's use model\n",
    "------\n",
    "\n",
    "Read in full image, dice it up, predict output for each bit, reassemble into a full image."
   ]
  },
  {
   "cell_type": "code",
   "execution_count": null,
   "metadata": {
    "collapsed": true
   },
   "outputs": [],
   "source": [
    "def get_image_names(base_name):\n",
    "    score_file_name = f'../data/{base_name}.png'\n",
    "    mask_file_name = f'../data/{base_name}_mask.png'\n",
    "    return score_file_name, mask_file_name\n",
    "\n",
    "def get_images(base_name):\n",
    "    score_file_name, mask_file_name = get_image_names(base_name)\n",
    "    mask_image = Image.open(mask_file_name).convert('L')\n",
    "    mask_image = Image.eval(mask_image, lambda x: x*10) # saturate the mask\n",
    "    score_image = Image.open(score_file_name)\n",
    "    background = Image.new('RGBA', score_image.size, (255,255,255))\n",
    "    score_image = Image.alpha_composite(background,score_image)\n",
    "    score_image = score_image.convert('L')\n",
    "    return score_image, mask_image"
   ]
  },
  {
   "cell_type": "code",
   "execution_count": null,
   "metadata": {
    "collapsed": true
   },
   "outputs": [],
   "source": [
    "def get_input_prediction_tiles(input_image):\n",
    "    # cannot just send an image to predict.  We have to send the tiles\n",
    "    # pred_result = model.predict(score_image)\n",
    "    #   ValueError: Error when checking : expected input_1 to have shape (None, 64, 64, 1) \n",
    "    #   but got array with shape (1, 1123, 794, 1)\n",
    "    num_tiles = np.ceil(np.array([input_image.width/64,input_image.height/64]))\n",
    "    tot_tiles = int(num_tiles[0]*num_tiles[1])\n",
    "    input_tiles = np.zeros((tot_tiles,64,64,1),dtype='uint8')\n",
    "    i = 0\n",
    "    for iy in range(int(num_tiles[1])):\n",
    "        for ix in range(int(num_tiles[0])):\n",
    "            input_tiles[i] = np.array(score_image.crop([ix*64,iy*64,(ix+1)*64,(iy+1)*64])).reshape(64,64,1)\n",
    "            i += 1\n",
    "    return input_tiles\n",
    "\n",
    "def image_from_tiles(width,height,pred_tiles,pred_channel):\n",
    "    # reshape & collect a single channel plane to visualize\n",
    "    pred_tiles = pred_tiles.reshape(input_tiles.shape[0],64,64,2)\n",
    "    pred_one_tiles = pred_tiles[:,:,:,1]#pred_one = pred_one.reshape(int(num_tiles[0])*64,int(num_tiles[1])*64)\n",
    "    num_tiles = np.ceil(np.array([width/64,height/64]))\n",
    "    pred_one = Image.new('L', (int(num_tiles[0])*64,int(num_tiles[1])*64), (0,))\n",
    "    i = 0\n",
    "    for iy in range(int(num_tiles[1])):\n",
    "        for ix in range(int(num_tiles[0])):\n",
    "            pred_tile_image = Image.fromarray(np.uint8(pred_one_tiles[i]*255))\n",
    "            pred_one.paste(pred_tile_image, (ix*64,iy*64))\n",
    "            i += 1\n",
    "    return pred_one\n"
   ]
  },
  {
   "cell_type": "code",
   "execution_count": null,
   "metadata": {
    "collapsed": true
   },
   "outputs": [],
   "source": [
    "score_image, mask_image = get_images('gen_two')\n",
    "input_tiles = get_input_prediction_tiles(score_image)\n",
    "pred_tiles = model.predict(input_tiles)\n",
    "pred_one = image_from_tiles(score_image.width, score_image.height, pred_tiles, 1)"
   ]
  },
  {
   "cell_type": "markdown",
   "metadata": {},
   "source": [
    "Visualize the output\n",
    "----------\n",
    "\n",
    "Look's likely to be acceptable!  There are definitely some glitches, but I think these are \n",
    "results that would work for finding the regions to focus on."
   ]
  },
  {
   "cell_type": "code",
   "execution_count": null,
   "metadata": {
    "collapsed": true
   },
   "outputs": [],
   "source": [
    "pred_one"
   ]
  },
  {
   "cell_type": "code",
   "execution_count": null,
   "metadata": {
    "collapsed": true
   },
   "outputs": [],
   "source": [
    "# for comparison, look at either of these...\n",
    "#score_image\n",
    "mask_image"
   ]
  },
  {
   "cell_type": "code",
   "execution_count": null,
   "metadata": {
    "collapsed": true
   },
   "outputs": [],
   "source": [
    "# just some debug snippets\n",
    "ix, iy = 10, 0\n",
    "img = np.array(score_image.crop([ix*64,iy*64,(ix+1)*64,(iy+1)*64])).reshape(64,64,1)\n",
    "plt.imshow(img.reshape(64,64),cmap=\"gray\")\n",
    "#img[0,:10]"
   ]
  },
  {
   "cell_type": "code",
   "execution_count": null,
   "metadata": {
    "collapsed": true
   },
   "outputs": [],
   "source": [
    "plt.imshow(input_tiles[10].reshape(64,64),cmap=\"gray\")"
   ]
  },
  {
   "cell_type": "code",
   "execution_count": null,
   "metadata": {
    "collapsed": true
   },
   "outputs": [],
   "source": []
  }
 ],
 "metadata": {
  "kernelspec": {
   "display_name": "Python 3",
   "language": "python",
   "name": "python3"
  },
  "language_info": {
   "codemirror_mode": {
    "name": "ipython",
    "version": 3
   },
   "file_extension": ".py",
   "mimetype": "text/x-python",
   "name": "python",
   "nbconvert_exporter": "python",
   "pygments_lexer": "ipython3",
   "version": "3.6.3"
  }
 },
 "nbformat": 4,
 "nbformat_minor": 2
}
