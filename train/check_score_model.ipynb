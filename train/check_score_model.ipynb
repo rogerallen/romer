{
 "cells": [
  {
   "cell_type": "code",
   "execution_count": 42,
   "metadata": {},
   "outputs": [],
   "source": [
    "%matplotlib inline\n",
    "import matplotlib.pyplot as plt\n",
    "import numpy as np\n",
    "from PIL import Image\n",
    "from keras.models import model_from_json\n",
    "from keras.optimizers import RMSprop \n",
    "\n",
    "import json\n",
    "import csv"
   ]
  },
  {
   "cell_type": "code",
   "execution_count": 2,
   "metadata": {
    "collapsed": true
   },
   "outputs": [],
   "source": [
    "notes_model_file   = 'data/results/note_model_180114.json'\n",
    "notes_weights_file = 'data/results/note_mask_weights_180114_120637.h5'\n",
    "with open(notes_model_file,\"r\") as f:\n",
    "    json_string = f.read()\n",
    "notes_model = model_from_json(json_string)\n",
    "notes_model.load_weights(notes_weights_file)"
   ]
  },
  {
   "cell_type": "code",
   "execution_count": 3,
   "metadata": {
    "collapsed": true
   },
   "outputs": [],
   "source": [
    "length_model_file   = 'data/results/length_model_180114.json'\n",
    "length_weights_file = 'data/results/length_mask_weights_180114_120637.h5'\n",
    "with open(length_model_file,\"r\") as f:\n",
    "    json_string = f.read()\n",
    "length_model = model_from_json(json_string)\n",
    "length_model.load_weights(length_weights_file)"
   ]
  },
  {
   "cell_type": "code",
   "execution_count": 71,
   "metadata": {},
   "outputs": [],
   "source": [
    "def get_notes(base_name):\n",
    "    notes = []\n",
    "    with open(f'../setup/{base_name}.rmf') as csvfile:\n",
    "        for row in csv.reader(csvfile):\n",
    "            if row[0] == 'note':\n",
    "                notes.append(row[1:])  \n",
    "    return notes\n",
    "\n",
    "def get_notes_lengths(note_pred,length_pred):\n",
    "    assert(note_pred.shape[0] == length_pred.shape[0])\n",
    "    num_preds = note_pred.shape[0]\n",
    "    notes_lengths = []\n",
    "    for i in range(num_preds):\n",
    "        note_class = note_pred[i].argmax()\n",
    "        length_class = length_pred[i].argmax()\n",
    "        note_confidence = note_pred[i,note_class]\n",
    "        #if note_confidence > 0.99:\n",
    "        #    note_confidence = \"high\"\n",
    "        #elif note_confidence > 0.8:\n",
    "        #    note_confidence = \"med\"\n",
    "        #else:\n",
    "        #    note_confidence = \"low\"\n",
    "        note_index = note_class-2\n",
    "        note_name = \"C C# D D# E F F# G G# A A# B\".split()[note_index % 12]\n",
    "        note_octave = int(note_index/12) - 2\n",
    "        if note_index == -2:\n",
    "            note_name = 'X'\n",
    "            note_octave = 0\n",
    "        elif note_index == -1:\n",
    "            note_name = 'R'\n",
    "            note_octave = 0\n",
    "        length_confidence = length_pred[i,length_class]\n",
    "        #if length_confidence > 0.99:\n",
    "        #    length_confidence = \"high\"\n",
    "        #elif length_confidence > 0.8:\n",
    "        #    length_confidence = \"med\"\n",
    "        #else:\n",
    "        #    length_confidence = \"low\"\n",
    "        length = length_class/4\n",
    "        if note_index == -2 and note_confidence > 0.8:#note_confidence != \"low\":\n",
    "            continue # no note\n",
    "        notes_lengths.append([i,\n",
    "                              (note_index,note_name,note_octave,note_confidence),\n",
    "                              (length, length_confidence)])\n",
    "    return notes_lengths\n",
    "\n",
    "def find_best_sample(cur):\n",
    "    num_samples = len(cur)\n",
    "    if num_samples > 0:\n",
    "        conf = np.zeros(num_samples)\n",
    "        for i,c in enumerate(cur):\n",
    "            conf[i] = c[0][-1]\n",
    "        mci = conf.argmax()\n",
    "        return (cur[mci][0][0],cur[mci][1][0])\n",
    "    return (None, None)\n",
    "\n",
    "def refine_notes_lengths(raw_notes_lengths):\n",
    "    notes_lengths = []\n",
    "    cur = []\n",
    "    last_index = -100\n",
    "    for x in raw_notes_lengths:\n",
    "        if x[0] == last_index + 1:\n",
    "            cur.append(x[1:])\n",
    "        else:\n",
    "            (n,l) = find_best_sample(cur)\n",
    "            if n:\n",
    "                notes_lengths.append((n,l))\n",
    "            cur = []\n",
    "        last_index = x[0]\n",
    "    (n, l) = find_best_sample(cur)\n",
    "    if n:\n",
    "        notes_lengths.append((n,l))\n",
    "    return notes_lengths\n",
    "\n",
    "def get_crop_inputs(cur_score_info):\n",
    "    img_crop_width = 32\n",
    "    img_step = 2\n",
    "    img_crop_height = int(cur_score_info['height'])\n",
    "    img_count = cur_score_info['width']//img_step\n",
    "    cur_img = Image.open('data/train2/' + cur_score_info['name'])\n",
    "    cur_crop_inputs = np.zeros((img_count,img_crop_height,img_crop_width,1),dtype='uint8')\n",
    "    for i in range(img_count):\n",
    "        img_x = i*img_step\n",
    "        cur_crop_img = cur_img.crop((img_x, 0, img_x + img_crop_width, img_crop_height))\n",
    "        cur_crop_inputs[i] = np.array(cur_crop_img).reshape(img_crop_height,img_crop_width,1)\n",
    "    return cur_crop_inputs \n",
    "\n",
    "# FIXME output to file\n",
    "def output_rmf(outfile,notes_lengths):\n",
    "    print(\"writing output to:\",outfile)\n",
    "    with open(outfile,'w') as f:\n",
    "        cur_beat = 0.0\n",
    "        #print(notes_lengths)\n",
    "        for (n,l) in notes_lengths:\n",
    "            print(\"note,%d,%f,%f\"%(n,cur_beat,l),file=f)\n",
    "            cur_beat += l\n"
   ]
  },
  {
   "cell_type": "code",
   "execution_count": 72,
   "metadata": {
    "scrolled": false
   },
   "outputs": [
    {
     "name": "stdout",
     "output_type": "stream",
     "text": [
      "strip_score_chromatic_00.png\n",
      "strip_score_gen_one_00.png\n",
      "writing output to: data/results/chromatic.rmf\n",
      "strip_score_gen_one_01.png\n",
      "strip_score_gen_one_02.png\n",
      "strip_score_gen_one_03.png\n",
      "strip_score_gen_one_04.png\n",
      "strip_score_gen_one_05.png\n",
      "strip_score_gen_one_06.png\n",
      "strip_score_gen_one_07.png\n",
      "strip_score_gen_two_00.png\n",
      "writing output to: data/results/gen_one.rmf\n",
      "strip_score_gen_two_01.png\n",
      "strip_score_gen_two_02.png\n",
      "strip_score_gen_two_03.png\n",
      "strip_score_gen_two_04.png\n",
      "strip_score_gen_two_05.png\n",
      "strip_score_gen_two_06.png\n",
      "strip_score_gen_two_07.png\n",
      "strip_score_gen_two_08.png\n",
      "strip_score_gen_two_09.png\n",
      "strip_score_gen_two_10.png\n",
      "strip_score_gen_two_11.png\n",
      "strip_score_twinkle_00.png\n",
      "writing output to: data/results/gen_two.rmf\n",
      "strip_score_twinkle_01.png\n",
      "writing output to: data/results/twinkle.rmf\n"
     ]
    }
   ],
   "source": [
    "with open(f\"data/train2/strip_score_info.json\", 'r') as infile:\n",
    "    score_info = json.load(infile)\n",
    "    \n",
    "last_base_name = \"\"\n",
    "score_notes_lengths = {}\n",
    "target_notes_lengths = {}\n",
    "for cur_score_info in score_info:\n",
    "    print(cur_score_info['name'])\n",
    "    cur_base_name = cur_score_info['base']\n",
    "    if cur_base_name != last_base_name:\n",
    "        if len(score_notes_lengths.get(last_base_name,[])) > 0:\n",
    "            rmf_filename = \"data/results/%s.rmf\"%(last_base_name)\n",
    "            output_rmf(rmf_filename,score_notes_lengths[last_base_name]) # FIXME\n",
    "        score_notes_lengths[cur_base_name] = []\n",
    "        target_notes_lengths[cur_base_name] = get_notes(cur_base_name)\n",
    "        last_base_name = cur_base_name\n",
    "    cur_crop_inputs = get_crop_inputs(cur_score_info)\n",
    "    # predict\n",
    "    note_preds   = notes_model.predict(cur_crop_inputs)\n",
    "    length_preds = length_model.predict(cur_crop_inputs)\n",
    "    raw = get_notes_lengths(note_preds,length_preds)\n",
    "    nl = refine_notes_lengths(raw)\n",
    "    #print(\"x\",nl)\n",
    "    score_notes_lengths[cur_base_name].extend(nl)\n",
    "rmf_filename = \"data/results/%s.rmf\"%(last_base_name)\n",
    "output_rmf(rmf_filename,score_notes_lengths[last_base_name])"
   ]
  },
  {
   "cell_type": "code",
   "execution_count": 62,
   "metadata": {
    "collapsed": true
   },
   "outputs": [],
   "source": [
    "# Debug below here"
   ]
  },
  {
   "cell_type": "code",
   "execution_count": 73,
   "metadata": {},
   "outputs": [],
   "source": [
    "cur_score_info = score_info[0]\n",
    "cur_crop_inputs = get_crop_inputs(cur_score_info)\n",
    "note_preds = notes_model.predict(cur_crop_inputs)\n",
    "length_preds = length_model.predict(cur_crop_inputs)\n",
    "raw = get_notes_lengths(note_preds,length_preds)\n",
    "nl = refine_notes_lengths(raw)"
   ]
  },
  {
   "cell_type": "code",
   "execution_count": 74,
   "metadata": {},
   "outputs": [
    {
     "data": {
      "image/png": "[encoded data removed]",
      "text/plain": [
       "<PIL.Image.Image image mode=L size=32x120 at 0x7F02D6F221D0>"
      ]
     },
     "execution_count": 74,
     "metadata": {},
     "output_type": "execute_result"
    }
   ],
   "source": [
    "I=-15#41#-31 # -15\n",
    "Image.fromarray(cur_crop_inputs[I].reshape(120,32))"
   ]
  },
  {
   "cell_type": "code",
   "execution_count": 75,
   "metadata": {},
   "outputs": [
    {
     "data": {
      "text/plain": [
       "(85, 0.99539113)"
      ]
     },
     "execution_count": 75,
     "metadata": {},
     "output_type": "execute_result"
    }
   ],
   "source": [
    "i = note_preds[I].argmax()\n",
    "i-2,note_preds[I][i]"
   ]
  },
  {
   "cell_type": "code",
   "execution_count": 76,
   "metadata": {},
   "outputs": [
    {
     "data": {
      "text/plain": [
       "(1.0, 0.99975854)"
      ]
     },
     "execution_count": 76,
     "metadata": {},
     "output_type": "execute_result"
    }
   ],
   "source": [
    "i = length_preds[I].argmax()\n",
    "i/4,length_preds[I][i]"
   ]
  },
  {
   "cell_type": "code",
   "execution_count": 77,
   "metadata": {},
   "outputs": [
    {
     "data": {
      "text/plain": [
       "<matplotlib.image.AxesImage at 0x7f02d6ecfb00>"
      ]
     },
     "execution_count": 77,
     "metadata": {},
     "output_type": "execute_result"
    },
    {
     "data": {
      "image/png": "[encoded data removed]",
      "text/plain": [
       "<matplotlib.figure.Figure at 0x7f02d6fbf630>"
      ]
     },
     "metadata": {},
     "output_type": "display_data"
    }
   ],
   "source": [
    "plt.imshow(note_preds, aspect='auto')"
   ]
  },
  {
   "cell_type": "code",
   "execution_count": 78,
   "metadata": {},
   "outputs": [
    {
     "data": {
      "text/plain": [
       "[[21, (57, 'A', 2, 0.99964261), (1.0, 0.99990356)],\n",
       " [22, (57, 'A', 2, 0.99994445), (1.0, 0.99999785)],\n",
       " [23, (57, 'A', 2, 0.99993217), (1.0, 0.99981505)],\n",
       " [24, (57, 'A', 2, 0.99992454), (1.0, 0.99999249)],\n",
       " [32, (75, 'D#', 4, 0.81811202), (1.0, 0.99365306)],\n",
       " [33, (58, 'A#', 2, 0.93456286), (1.0, 0.99997592)],\n",
       " [34, (75, 'D#', 4, 0.9044168), (1.0, 0.99978298)],\n",
       " [35, (75, 'D#', 4, 0.94055599), (1.0, 0.99898773)],\n",
       " [41, (59, 'B', 2, 0.9969843), (1.0, 0.99998605)],\n",
       " [42, (59, 'B', 2, 0.99852705), (1.0, 0.99999845)],\n",
       " [43, (59, 'B', 2, 0.99814856), (1.0, 0.99999905)],\n",
       " [44, (59, 'B', 2, 0.98962295), (1.0, 0.99999511)],\n",
       " [50, (60, 'C', 3, 0.99683458), (1.0, 0.9999994)],\n",
       " [51, (60, 'C', 3, 0.99993277), (1.0, 1.0)],\n",
       " [52, (60, 'C', 3, 0.99979943), (1.0, 1.0)],\n",
       " [53, (60, 'C', 3, 0.99999785), (1.0, 1.0)],\n",
       " [67, (61, 'C#', 3, 0.99999356), (1.0, 0.99999499)],\n",
       " [68, (61, 'C#', 3, 0.99999654), (1.0, 1.0)],\n",
       " [69, (61, 'C#', 3, 0.99999845), (1.0, 0.99999905)],\n",
       " [70, (61, 'C#', 3, 0.99999571), (1.0, 0.99999964)],\n",
       " [76, (62, 'D', 3, 0.99999988), (1.0, 0.99991965)],\n",
       " [77, (62, 'D', 3, 0.99999785), (1.0, 0.99998116)],\n",
       " [78, (62, 'D', 3, 0.99999893), (1.0, 0.99999976)],\n",
       " [79, (62, 'D', 3, 0.99993074), (1.0, 0.9999969)],\n",
       " [87, (63, 'D#', 3, 0.99999571), (1.0, 0.9999404)],\n",
       " [88, (63, 'D#', 3, 0.99999642), (1.0, 0.99999321)],\n",
       " [89, (63, 'D#', 3, 0.99998486), (1.0, 0.99999774)],\n",
       " [90, (63, 'D#', 3, 0.99999726), (1.0, 0.99999022)],\n",
       " [96, (64, 'E', 3, 0.99997079), (1.0, 0.99999928)],\n",
       " [97, (64, 'E', 3, 0.99987745), (1.0, 0.99999988)],\n",
       " [98, (64, 'E', 3, 0.9999882), (1.0, 0.99999917)],\n",
       " [99, (64, 'E', 3, 0.99999738), (1.0, 1.0)],\n",
       " [109, (65, 'F', 3, 0.99971181), (1.0, 0.99917978)],\n",
       " [110, (65, 'F', 3, 0.99885368), (1.0, 0.99963462)],\n",
       " [111, (65, 'F', 3, 0.9999913), (1.0, 0.99982005)],\n",
       " [112, (65, 'F', 3, 0.99992728), (1.0, 0.99999917)],\n",
       " [120, (66, 'F#', 3, 1.0), (1.0, 0.9999975)],\n",
       " [121, (66, 'F#', 3, 0.99999881), (1.0, 0.99999726)],\n",
       " [122, (66, 'F#', 3, 0.99999988), (1.0, 0.99999917)],\n",
       " [123, (66, 'F#', 3, 0.99990606), (1.0, 0.99997437)],\n",
       " [129, (67, 'G', 3, 1.0), (1.0, 0.99999976)],\n",
       " [130, (67, 'G', 3, 1.0), (1.0, 0.99999988)],\n",
       " [131, (67, 'G', 3, 1.0), (1.0, 1.0)],\n",
       " [132, (67, 'G', 3, 1.0), (1.0, 0.99999964)],\n",
       " [139, (68, 'G#', 3, 0.79349095), (0.0, 0.90062356)],\n",
       " [140, (68, 'G#', 3, 0.99999976), (1.0, 1.0)],\n",
       " [141, (68, 'G#', 3, 0.99999976), (1.0, 1.0)],\n",
       " [142, (68, 'G#', 3, 0.99999964), (1.0, 1.0)],\n",
       " [143, (68, 'G#', 3, 0.98050904), (1.0, 0.9999733)],\n",
       " [152, (69, 'A', 3, 0.99997914), (1.0, 0.9999994)],\n",
       " [153, (69, 'A', 3, 0.99858296), (1.0, 1.0)],\n",
       " [154, (69, 'A', 3, 0.99953151), (1.0, 0.99999964)],\n",
       " [155, (69, 'A', 3, 0.99996519), (1.0, 1.0)],\n",
       " [163, (70, 'A#', 3, 0.99936694), (1.0, 0.99999523)],\n",
       " [164, (70, 'A#', 3, 0.99999106), (1.0, 0.99994326)],\n",
       " [165, (70, 'A#', 3, 0.99999869), (1.0, 0.99999988)],\n",
       " [166, (70, 'A#', 3, 0.99998641), (1.0, 0.99993527)],\n",
       " [172, (71, 'B', 3, 1.0), (1.0, 0.99999976)],\n",
       " [173, (71, 'B', 3, 1.0), (1.0, 0.99999988)],\n",
       " [174, (71, 'B', 3, 1.0), (1.0, 0.99999988)],\n",
       " [175, (71, 'B', 3, 1.0), (1.0, 1.0)],\n",
       " [182, (72, 'C', 4, 0.99999571), (1.0, 0.99999821)],\n",
       " [183, (72, 'C', 4, 0.99999642), (1.0, 0.99999976)],\n",
       " [184, (72, 'C', 4, 0.99999952), (1.0, 1.0)],\n",
       " [185, (72, 'C', 4, 0.99998736), (1.0, 1.0)],\n",
       " [197, (73, 'C#', 4, 0.99999976), (1.0, 0.96913427)],\n",
       " [198, (73, 'C#', 4, 0.99999869), (1.0, 0.99947613)],\n",
       " [199, (73, 'C#', 4, 0.99999821), (1.0, 0.9999994)],\n",
       " [200, (73, 'C#', 4, 0.99999154), (1.0, 0.99999976)],\n",
       " [206, (74, 'D', 4, 0.99954969), (1.0, 0.99983752)],\n",
       " [207, (74, 'D', 4, 0.99999952), (1.0, 0.99999797)],\n",
       " [208, (74, 'D', 4, 0.99999988), (1.0, 0.99999988)],\n",
       " [209, (74, 'D', 4, 0.99999988), (1.0, 0.99999905)],\n",
       " [217, (75, 'D#', 4, 0.98156559), (1.0, 0.99999273)],\n",
       " [218, (75, 'D#', 4, 0.99990916), (1.0, 0.9999994)],\n",
       " [219, (75, 'D#', 4, 0.99947017), (1.0, 0.99999976)],\n",
       " [220, (75, 'D#', 4, 0.99395174), (1.0, 0.99999928)],\n",
       " [226, (76, 'E', 4, 0.99998856), (1.0, 1.0)],\n",
       " [227, (76, 'E', 4, 0.99999905), (1.0, 1.0)],\n",
       " [228, (76, 'E', 4, 0.99999976), (1.0, 0.99999976)],\n",
       " [229, (76, 'E', 4, 0.99999905), (1.0, 0.99999988)],\n",
       " [238, (77, 'F', 4, 0.99989629), (1.0, 0.9999975)],\n",
       " [239, (77, 'F', 4, 0.99999559), (1.0, 0.99999869)],\n",
       " [240, (77, 'F', 4, 0.92808485), (1.0, 0.99991)],\n",
       " [241, (77, 'F', 4, 0.99959737), (1.0, 0.99992275)],\n",
       " [249, (78, 'F#', 4, 1.0), (1.0, 1.0)],\n",
       " [250, (78, 'F#', 4, 0.99999833), (1.0, 0.99999952)],\n",
       " [251, (78, 'F#', 4, 0.99999988), (1.0, 0.99999976)],\n",
       " [252, (78, 'F#', 4, 0.99999821), (1.0, 0.99999595)],\n",
       " [258, (79, 'G', 4, 0.99999166), (1.0, 0.99999666)],\n",
       " [259, (79, 'G', 4, 0.99999857), (1.0, 0.99999845)],\n",
       " [260, (79, 'G', 4, 0.99999976), (1.0, 0.99999988)],\n",
       " [261, (79, 'G', 4, 0.9999994), (1.0, 0.99999952)],\n",
       " [269, (80, 'G#', 4, 0.99999022), (1.0, 0.99999988)],\n",
       " [270, (80, 'G#', 4, 0.99999893), (1.0, 0.99999642)],\n",
       " [271, (80, 'G#', 4, 0.99996805), (1.0, 0.99999547)],\n",
       " [272, (80, 'G#', 4, 0.9973852), (1.0, 0.99998462)],\n",
       " [281, (81, 'A', 4, 0.99999869), (1.0, 1.0)],\n",
       " [282, (81, 'A', 4, 1.0), (1.0, 0.99999952)],\n",
       " [283, (81, 'A', 4, 1.0), (1.0, 0.99999738)],\n",
       " [284, (81, 'A', 4, 0.99994421), (1.0, 0.99977833)],\n",
       " [292, (82, 'A#', 4, 0.99999869), (1.0, 0.99998856)],\n",
       " [293, (82, 'A#', 4, 0.9999975), (1.0, 0.99999309)],\n",
       " [294, (82, 'A#', 4, 1.0), (1.0, 0.99999595)],\n",
       " [295, (82, 'A#', 4, 0.99999869), (1.0, 0.99999774)],\n",
       " [301, (83, 'B', 4, 0.99999976), (1.0, 0.99999321)],\n",
       " [302, (83, 'B', 4, 0.99999964), (1.0, 0.99999619)],\n",
       " [303, (83, 'B', 4, 0.99999976), (1.0, 0.99999988)],\n",
       " [304, (83, 'B', 4, 0.99999797), (1.0, 0.99999857)],\n",
       " [310, (84, 'C', 5, 0.99841857), (1.0, 0.99999642)],\n",
       " [311, (84, 'C', 5, 0.99566829), (1.0, 0.99998581)],\n",
       " [312, (84, 'C', 5, 0.99781978), (1.0, 0.99999821)],\n",
       " [313, (84, 'C', 5, 0.99876022), (1.0, 0.99999893)],\n",
       " [326, (85, 'C#', 5, 0.99973458), (1.0, 0.99997842)],\n",
       " [327, (85, 'C#', 5, 0.99539113), (1.0, 0.99975854)],\n",
       " [328, (85, 'C#', 5, 0.99942636), (1.0, 0.99999714)],\n",
       " [329, (85, 'C#', 5, 0.99853683), (1.0, 0.99992156)]]"
      ]
     },
     "execution_count": 78,
     "metadata": {},
     "output_type": "execute_result"
    }
   ],
   "source": [
    "raw"
   ]
  },
  {
   "cell_type": "code",
   "execution_count": 79,
   "metadata": {},
   "outputs": [
    {
     "data": {
      "text/plain": [
       "[(57, 1.0),\n",
       " (75, 1.0),\n",
       " (59, 1.0),\n",
       " (60, 1.0),\n",
       " (61, 1.0),\n",
       " (62, 1.0),\n",
       " (63, 1.0),\n",
       " (64, 1.0),\n",
       " (65, 1.0),\n",
       " (66, 1.0),\n",
       " (67, 1.0),\n",
       " (68, 1.0),\n",
       " (69, 1.0),\n",
       " (70, 1.0),\n",
       " (71, 1.0),\n",
       " (72, 1.0),\n",
       " (73, 1.0),\n",
       " (74, 1.0),\n",
       " (75, 1.0),\n",
       " (76, 1.0),\n",
       " (77, 1.0),\n",
       " (78, 1.0),\n",
       " (79, 1.0),\n",
       " (80, 1.0),\n",
       " (81, 1.0),\n",
       " (82, 1.0),\n",
       " (83, 1.0),\n",
       " (84, 1.0),\n",
       " (85, 1.0)]"
      ]
     },
     "execution_count": 79,
     "metadata": {},
     "output_type": "execute_result"
    }
   ],
   "source": [
    "nl"
   ]
  },
  {
   "cell_type": "code",
   "execution_count": null,
   "metadata": {
    "collapsed": true
   },
   "outputs": [],
   "source": []
  }
 ],
 "metadata": {
  "kernelspec": {
   "display_name": "Python 3",
   "language": "python",
   "name": "python3"
  },
  "language_info": {
   "codemirror_mode": {
    "name": "ipython",
    "version": 3
   },
   "file_extension": ".py",
   "mimetype": "text/x-python",
   "name": "python",
   "nbconvert_exporter": "python",
   "pygments_lexer": "ipython3",
   "version": "3.6.3"
  }
 },
 "nbformat": 4,
 "nbformat_minor": 2
}
