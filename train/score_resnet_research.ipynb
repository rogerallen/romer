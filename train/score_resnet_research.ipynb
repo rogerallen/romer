{
 "cells": [
  {
   "cell_type": "code",
   "execution_count": 1,
   "metadata": {},
   "outputs": [
    {
     "name": "stderr",
     "output_type": "stream",
     "text": [
      "Using TensorFlow backend.\n",
      "/home/rallen/anaconda3/envs/dl/lib/python3.6/importlib/_bootstrap.py:219: RuntimeWarning: compiletime version 3.5 of module 'tensorflow.python.framework.fast_tensor_util' does not match runtime version 3.6\n",
      "  return f(*args, **kwds)\n"
     ]
    }
   ],
   "source": [
    "%matplotlib inline\n",
    "#from keras.applications.resnet50 import ResNet50\n",
    "# not using keras version since it cannot have an input size < 197x197.  Might also require 3-channel color.\n",
    "import keras\n",
    "from keras.optimizers import RMSprop\n",
    "from keras.utils import np_utils\n",
    "import resnet\n",
    "from glob import glob\n",
    "import numpy as np\n",
    "import os\n",
    "import random\n",
    "from PIL import Image\n",
    "import matplotlib.pyplot as plt\n",
    "import json"
   ]
  },
  {
   "cell_type": "code",
   "execution_count": 2,
   "metadata": {},
   "outputs": [
    {
     "name": "stdout",
     "output_type": "stream",
     "text": [
      "channels_last\n",
      "tf\n"
     ]
    }
   ],
   "source": [
    "#K.image_data_format()\n",
    "print(keras.backend.image_data_format())\n",
    "print(keras.backend.image_dim_ordering())"
   ]
  },
  {
   "cell_type": "code",
   "execution_count": 3,
   "metadata": {},
   "outputs": [
    {
     "data": {
      "text/plain": [
       "(2553, 120, 32, 1)"
      ]
     },
     "execution_count": 3,
     "metadata": {},
     "output_type": "execute_result"
    }
   ],
   "source": [
    "train_path = 'data/train3'\n",
    "train_input_image_names = glob(train_path+'/crop_score*png')\n",
    "train_input_image_names.sort()\n",
    "train_input_images = np.stack([np.array(Image.open(fn)) for fn in train_input_image_names])\n",
    "train_input_images.shape = train_input_images.shape + (1,)\n",
    "num_train_images,rows,cols,channels = train_input_images.shape\n",
    "num_train_images,rows,cols,channels"
   ]
  },
  {
   "cell_type": "code",
   "execution_count": 4,
   "metadata": {},
   "outputs": [
    {
     "data": {
      "text/plain": [
       "(851, 120, 32, 1)"
      ]
     },
     "execution_count": 4,
     "metadata": {},
     "output_type": "execute_result"
    }
   ],
   "source": [
    "valid_path = 'data/valid3'\n",
    "valid_input_image_names = glob(valid_path+'/crop_score*png')\n",
    "valid_input_image_names.sort()\n",
    "valid_input_images = np.stack([np.array(Image.open(fn)) for fn in valid_input_image_names])\n",
    "valid_input_images.shape = valid_input_images.shape + (1,)\n",
    "num_valid_images,rows,cols,channels = valid_input_images.shape\n",
    "num_valid_images,rows,cols,channels"
   ]
  },
  {
   "cell_type": "code",
   "execution_count": 9,
   "metadata": {
    "collapsed": true
   },
   "outputs": [],
   "source": [
    "results_json = 'data/train3/crop_score_info.json'\n",
    "with open(results_json,'r') as f:\n",
    "    results = json.load(f)"
   ]
  },
  {
   "cell_type": "code",
   "execution_count": 10,
   "metadata": {
    "collapsed": true
   },
   "outputs": [],
   "source": [
    "train_indices = []\n",
    "for train_name in train_input_image_names:\n",
    "    index = int(train_name.split('.')[0].split('_')[-1])\n",
    "    train_indices.append(index)\n",
    "valid_indices = []\n",
    "for valid_name in valid_input_image_names:\n",
    "    index = int(valid_name.split('.')[0].split('_')[-1])\n",
    "    valid_indices.append(index)\n",
    "#train_indices[:20],valid_indices[:20]"
   ]
  },
  {
   "cell_type": "code",
   "execution_count": 11,
   "metadata": {
    "collapsed": true
   },
   "outputs": [],
   "source": [
    "notes = np.zeros(128+1,dtype=np.int32)\n",
    "lengths = np.zeros(16+1,dtype=np.int32)\n",
    "for ti in train_indices:\n",
    "    r = results[ti] # [84, 4] = \n",
    "    notes[r[0]] += 1\n",
    "    lengths[r[1]] += 1"
   ]
  },
  {
   "cell_type": "code",
   "execution_count": 12,
   "metadata": {
    "collapsed": true
   },
   "outputs": [],
   "source": [
    "# HMM, realizing that MULTIPLE classes of output (note + length) are not \n",
    "# easily mapped here...going to need to look at this harder.  For now\n",
    "# let's just try to see if we can make due with 2 different models.\n",
    "#np.concatenate([lengths,notes])\n",
    "#NUM_CATEGORIES=128+1 + 16+1\n",
    "NUM_CATEGORIES=128+1 \n",
    "NUM_CATEGORIES1=16+1\n",
    "#train_results = np.zeros([len(train_indices),NUM_CATEGORIES],dtype=np.float32)\n",
    "train_results = np.zeros(len(train_indices),dtype=np.float32)\n",
    "train_results1 = np.zeros(len(train_indices),dtype=np.float32)\n",
    "i = 0\n",
    "for ti in train_indices:\n",
    "    r = results[ti]\n",
    "    #train_results[i,16+1+r[0]] = 1.0 # set note value\n",
    "    #train_results[i,r[1]] = 1.0 # set duration value\n",
    "    train_results[i] = r[0]\n",
    "    train_results1[i] = r[1]\n",
    "    i += 1\n",
    "train_results = np_utils.to_categorical(train_results,NUM_CATEGORIES)\n",
    "train_results1 = np_utils.to_categorical(train_results1,NUM_CATEGORIES1)"
   ]
  },
  {
   "cell_type": "code",
   "execution_count": 14,
   "metadata": {},
   "outputs": [
    {
     "data": {
      "text/plain": [
       "((2553, 129), (2553, 17))"
      ]
     },
     "execution_count": 14,
     "metadata": {},
     "output_type": "execute_result"
    }
   ],
   "source": [
    "train_results.shape, train_results1.shape"
   ]
  },
  {
   "cell_type": "code",
   "execution_count": 15,
   "metadata": {
    "collapsed": true
   },
   "outputs": [],
   "source": [
    "#valid_results = np.zeros([len(valid_indices),128+1 + 16+1],dtype=np.float32)\n",
    "valid_results = np.zeros(len(valid_indices),dtype=np.float32)\n",
    "valid_results1 = np.zeros(len(valid_indices),dtype=np.float32)\n",
    "i = 0\n",
    "for ti in valid_indices:\n",
    "    r = results[ti]\n",
    "    #valid_results[i,16+1+r[0]] = 1.0 # set note value\n",
    "    #valid_results[i,r[1]] = 1.0 # set duration value\n",
    "    valid_results[i] = r[0]\n",
    "    valid_results1[i] = r[1]\n",
    "    i += 1\n",
    "valid_results = np_utils.to_categorical(valid_results,NUM_CATEGORIES)\n",
    "valid_results1 = np_utils.to_categorical(valid_results1,NUM_CATEGORIES1)"
   ]
  },
  {
   "cell_type": "code",
   "execution_count": 16,
   "metadata": {},
   "outputs": [
    {
     "data": {
      "text/plain": [
       "(array([ 0.,  0.,  0.,  0.,  0.,  0.,  0.,  0.,  0.,  0.,  0.,  0.,  0.,\n",
       "         0.,  0.,  0.,  0.,  0.,  0.,  0.,  0.,  0.,  0.,  0.,  0.,  0.,\n",
       "         0.,  0.,  0.,  0.,  0.,  0.,  0.,  0.,  0.,  0.,  0.,  0.,  0.,\n",
       "         0.,  0.,  0.,  0.,  0.,  0.,  0.,  0.,  0.,  0.,  0.,  0.,  0.,\n",
       "         0.,  0.,  0.,  0.,  0.,  0.,  0.,  0.,  0.,  0.,  0.,  0.,  0.,\n",
       "         0.,  0.,  0.,  0.,  0.,  0.,  0.,  0.,  0.,  0.,  0.,  0.,  0.,\n",
       "         0.,  0.,  0.,  0.,  0.,  0.,  1.,  0.,  0.,  0.,  0.,  0.,  0.,\n",
       "         0.,  0.,  0.,  0.,  0.,  0.,  0.,  0.,  0.,  0.,  0.,  0.,  0.,\n",
       "         0.,  0.,  0.,  0.,  0.,  0.,  0.,  0.,  0.,  0.,  0.,  0.,  0.,\n",
       "         0.,  0.,  0.,  0.,  0.,  0.,  0.,  0.,  0.,  0.,  0.,  0.]),\n",
       " array([ 0.,  0.,  0.,  0.,  1.,  0.,  0.,  0.,  0.,  0.,  0.,  0.,  0.,\n",
       "         0.,  0.,  0.,  0.]))"
      ]
     },
     "execution_count": 16,
     "metadata": {},
     "output_type": "execute_result"
    }
   ],
   "source": [
    "train_results[100], train_results1[100]"
   ]
  },
  {
   "cell_type": "code",
   "execution_count": 17,
   "metadata": {
    "collapsed": true
   },
   "outputs": [],
   "source": [
    "class score_generator(object):\n",
    "    \"\"\"X should be list of score images, Y should be a list of score results.  \n",
    "    Both should be the same length.\"\"\"\n",
    "    def __init__(self, X, Y, batch_size, channels):\n",
    "        self.X  = X\n",
    "        self.Y  = Y\n",
    "        self.bs = batch_size\n",
    "        self.channels = channels\n",
    "        self.i  = 0\n",
    "    def __next__(self):\n",
    "        xs = self.X[self.i:self.i+self.bs]\n",
    "        ys = self.Y[self.i:self.i+self.bs]\n",
    "        #ys = ys.reshape(len(ys),-1,1)\n",
    "        self.i = (self.i + self.bs) % self.X.shape[0]\n",
    "        return xs, ys"
   ]
  },
  {
   "cell_type": "code",
   "execution_count": 18,
   "metadata": {
    "collapsed": true
   },
   "outputs": [],
   "source": [
    "batch_size = 32\n",
    "train_generator = score_generator(train_input_images, train_results, batch_size, channels)\n",
    "valid_generator = score_generator(valid_input_images, valid_results, batch_size, channels)\n",
    "train_generator1 = score_generator(train_input_images, train_results1, batch_size, channels)\n",
    "valid_generator1 = score_generator(valid_input_images, valid_results1, batch_size, channels)"
   ]
  },
  {
   "cell_type": "code",
   "execution_count": 19,
   "metadata": {
    "collapsed": true
   },
   "outputs": [],
   "source": [
    "#model = resnet.ResnetBuilder.build_resnet_18((64, 64, 1), 128) # Total params: 11,444,288\n",
    "#model = resnet.ResnetBuilder.build_resnet_34((64, 64, 1), 128) # Total params: 21,563,584\n",
    "#model = resnet.ResnetBuilder.build_resnet_50((64, 64, 1), 128) # Total params: 24,025,920\n",
    "image_shape = (rows,cols,channels)\n",
    "model = resnet.ResnetBuilder.build_resnet_18(image_shape, NUM_CATEGORIES)\n",
    "model1 = resnet.ResnetBuilder.build_resnet_18(image_shape, NUM_CATEGORIES1)"
   ]
  },
  {
   "cell_type": "code",
   "execution_count": 20,
   "metadata": {
    "scrolled": true
   },
   "outputs": [
    {
     "name": "stdout",
     "output_type": "stream",
     "text": [
      "__________________________________________________________________________________________________\n",
      "Layer (type)                    Output Shape         Param #     Connected to                     \n",
      "==================================================================================================\n",
      "input_1 (InputLayer)            (None, 120, 32, 1)   0                                            \n",
      "__________________________________________________________________________________________________\n",
      "conv2d_1 (Conv2D)               (None, 60, 16, 64)   3200        input_1[0][0]                    \n",
      "__________________________________________________________________________________________________\n",
      "batch_normalization_1 (BatchNor (None, 60, 16, 64)   256         conv2d_1[0][0]                   \n",
      "__________________________________________________________________________________________________\n",
      "activation_1 (Activation)       (None, 60, 16, 64)   0           batch_normalization_1[0][0]      \n",
      "__________________________________________________________________________________________________\n",
      "max_pooling2d_1 (MaxPooling2D)  (None, 30, 8, 64)    0           activation_1[0][0]               \n",
      "__________________________________________________________________________________________________\n",
      "conv2d_2 (Conv2D)               (None, 30, 8, 64)    36928       max_pooling2d_1[0][0]            \n",
      "__________________________________________________________________________________________________\n",
      "batch_normalization_2 (BatchNor (None, 30, 8, 64)    256         conv2d_2[0][0]                   \n",
      "__________________________________________________________________________________________________\n",
      "activation_2 (Activation)       (None, 30, 8, 64)    0           batch_normalization_2[0][0]      \n",
      "__________________________________________________________________________________________________\n",
      "conv2d_3 (Conv2D)               (None, 30, 8, 64)    36928       activation_2[0][0]               \n",
      "__________________________________________________________________________________________________\n",
      "add_1 (Add)                     (None, 30, 8, 64)    0           max_pooling2d_1[0][0]            \n",
      "                                                                 conv2d_3[0][0]                   \n",
      "__________________________________________________________________________________________________\n",
      "batch_normalization_3 (BatchNor (None, 30, 8, 64)    256         add_1[0][0]                      \n",
      "__________________________________________________________________________________________________\n",
      "activation_3 (Activation)       (None, 30, 8, 64)    0           batch_normalization_3[0][0]      \n",
      "__________________________________________________________________________________________________\n",
      "conv2d_4 (Conv2D)               (None, 30, 8, 64)    36928       activation_3[0][0]               \n",
      "__________________________________________________________________________________________________\n",
      "batch_normalization_4 (BatchNor (None, 30, 8, 64)    256         conv2d_4[0][0]                   \n",
      "__________________________________________________________________________________________________\n",
      "activation_4 (Activation)       (None, 30, 8, 64)    0           batch_normalization_4[0][0]      \n",
      "__________________________________________________________________________________________________\n",
      "conv2d_5 (Conv2D)               (None, 30, 8, 64)    36928       activation_4[0][0]               \n",
      "__________________________________________________________________________________________________\n",
      "add_2 (Add)                     (None, 30, 8, 64)    0           add_1[0][0]                      \n",
      "                                                                 conv2d_5[0][0]                   \n",
      "__________________________________________________________________________________________________\n",
      "batch_normalization_5 (BatchNor (None, 30, 8, 64)    256         add_2[0][0]                      \n",
      "__________________________________________________________________________________________________\n",
      "activation_5 (Activation)       (None, 30, 8, 64)    0           batch_normalization_5[0][0]      \n",
      "__________________________________________________________________________________________________\n",
      "conv2d_6 (Conv2D)               (None, 15, 4, 128)   73856       activation_5[0][0]               \n",
      "__________________________________________________________________________________________________\n",
      "batch_normalization_6 (BatchNor (None, 15, 4, 128)   512         conv2d_6[0][0]                   \n",
      "__________________________________________________________________________________________________\n",
      "activation_6 (Activation)       (None, 15, 4, 128)   0           batch_normalization_6[0][0]      \n",
      "__________________________________________________________________________________________________\n",
      "conv2d_8 (Conv2D)               (None, 15, 4, 128)   8320        add_2[0][0]                      \n",
      "__________________________________________________________________________________________________\n",
      "conv2d_7 (Conv2D)               (None, 15, 4, 128)   147584      activation_6[0][0]               \n",
      "__________________________________________________________________________________________________\n",
      "add_3 (Add)                     (None, 15, 4, 128)   0           conv2d_8[0][0]                   \n",
      "                                                                 conv2d_7[0][0]                   \n",
      "__________________________________________________________________________________________________\n",
      "batch_normalization_7 (BatchNor (None, 15, 4, 128)   512         add_3[0][0]                      \n",
      "__________________________________________________________________________________________________\n",
      "activation_7 (Activation)       (None, 15, 4, 128)   0           batch_normalization_7[0][0]      \n",
      "__________________________________________________________________________________________________\n",
      "conv2d_9 (Conv2D)               (None, 15, 4, 128)   147584      activation_7[0][0]               \n",
      "__________________________________________________________________________________________________\n",
      "batch_normalization_8 (BatchNor (None, 15, 4, 128)   512         conv2d_9[0][0]                   \n",
      "__________________________________________________________________________________________________\n",
      "activation_8 (Activation)       (None, 15, 4, 128)   0           batch_normalization_8[0][0]      \n",
      "__________________________________________________________________________________________________\n",
      "conv2d_10 (Conv2D)              (None, 15, 4, 128)   147584      activation_8[0][0]               \n",
      "__________________________________________________________________________________________________\n",
      "add_4 (Add)                     (None, 15, 4, 128)   0           add_3[0][0]                      \n",
      "                                                                 conv2d_10[0][0]                  \n",
      "__________________________________________________________________________________________________\n",
      "batch_normalization_9 (BatchNor (None, 15, 4, 128)   512         add_4[0][0]                      \n",
      "__________________________________________________________________________________________________\n",
      "activation_9 (Activation)       (None, 15, 4, 128)   0           batch_normalization_9[0][0]      \n",
      "__________________________________________________________________________________________________\n",
      "conv2d_11 (Conv2D)              (None, 8, 2, 256)    295168      activation_9[0][0]               \n",
      "__________________________________________________________________________________________________\n",
      "batch_normalization_10 (BatchNo (None, 8, 2, 256)    1024        conv2d_11[0][0]                  \n",
      "__________________________________________________________________________________________________\n",
      "activation_10 (Activation)      (None, 8, 2, 256)    0           batch_normalization_10[0][0]     \n",
      "__________________________________________________________________________________________________\n",
      "conv2d_13 (Conv2D)              (None, 8, 2, 256)    33024       add_4[0][0]                      \n",
      "__________________________________________________________________________________________________\n",
      "conv2d_12 (Conv2D)              (None, 8, 2, 256)    590080      activation_10[0][0]              \n",
      "__________________________________________________________________________________________________\n",
      "add_5 (Add)                     (None, 8, 2, 256)    0           conv2d_13[0][0]                  \n",
      "                                                                 conv2d_12[0][0]                  \n",
      "__________________________________________________________________________________________________\n",
      "batch_normalization_11 (BatchNo (None, 8, 2, 256)    1024        add_5[0][0]                      \n",
      "__________________________________________________________________________________________________\n",
      "activation_11 (Activation)      (None, 8, 2, 256)    0           batch_normalization_11[0][0]     \n",
      "__________________________________________________________________________________________________\n",
      "conv2d_14 (Conv2D)              (None, 8, 2, 256)    590080      activation_11[0][0]              \n",
      "__________________________________________________________________________________________________\n",
      "batch_normalization_12 (BatchNo (None, 8, 2, 256)    1024        conv2d_14[0][0]                  \n",
      "__________________________________________________________________________________________________\n",
      "activation_12 (Activation)      (None, 8, 2, 256)    0           batch_normalization_12[0][0]     \n",
      "__________________________________________________________________________________________________\n",
      "conv2d_15 (Conv2D)              (None, 8, 2, 256)    590080      activation_12[0][0]              \n",
      "__________________________________________________________________________________________________\n",
      "add_6 (Add)                     (None, 8, 2, 256)    0           add_5[0][0]                      \n",
      "                                                                 conv2d_15[0][0]                  \n",
      "__________________________________________________________________________________________________\n",
      "batch_normalization_13 (BatchNo (None, 8, 2, 256)    1024        add_6[0][0]                      \n",
      "__________________________________________________________________________________________________\n",
      "activation_13 (Activation)      (None, 8, 2, 256)    0           batch_normalization_13[0][0]     \n",
      "__________________________________________________________________________________________________\n",
      "conv2d_16 (Conv2D)              (None, 4, 1, 512)    1180160     activation_13[0][0]              \n",
      "__________________________________________________________________________________________________\n",
      "batch_normalization_14 (BatchNo (None, 4, 1, 512)    2048        conv2d_16[0][0]                  \n",
      "__________________________________________________________________________________________________\n",
      "activation_14 (Activation)      (None, 4, 1, 512)    0           batch_normalization_14[0][0]     \n",
      "__________________________________________________________________________________________________\n",
      "conv2d_18 (Conv2D)              (None, 4, 1, 512)    131584      add_6[0][0]                      \n",
      "__________________________________________________________________________________________________\n",
      "conv2d_17 (Conv2D)              (None, 4, 1, 512)    2359808     activation_14[0][0]              \n",
      "__________________________________________________________________________________________________\n",
      "add_7 (Add)                     (None, 4, 1, 512)    0           conv2d_18[0][0]                  \n",
      "                                                                 conv2d_17[0][0]                  \n",
      "__________________________________________________________________________________________________\n",
      "batch_normalization_15 (BatchNo (None, 4, 1, 512)    2048        add_7[0][0]                      \n",
      "__________________________________________________________________________________________________\n",
      "activation_15 (Activation)      (None, 4, 1, 512)    0           batch_normalization_15[0][0]     \n",
      "__________________________________________________________________________________________________\n",
      "conv2d_19 (Conv2D)              (None, 4, 1, 512)    2359808     activation_15[0][0]              \n",
      "__________________________________________________________________________________________________\n",
      "batch_normalization_16 (BatchNo (None, 4, 1, 512)    2048        conv2d_19[0][0]                  \n",
      "__________________________________________________________________________________________________\n",
      "activation_16 (Activation)      (None, 4, 1, 512)    0           batch_normalization_16[0][0]     \n",
      "__________________________________________________________________________________________________\n",
      "conv2d_20 (Conv2D)              (None, 4, 1, 512)    2359808     activation_16[0][0]              \n",
      "__________________________________________________________________________________________________\n",
      "add_8 (Add)                     (None, 4, 1, 512)    0           add_7[0][0]                      \n",
      "                                                                 conv2d_20[0][0]                  \n",
      "__________________________________________________________________________________________________\n",
      "batch_normalization_17 (BatchNo (None, 4, 1, 512)    2048        add_8[0][0]                      \n",
      "__________________________________________________________________________________________________\n",
      "activation_17 (Activation)      (None, 4, 1, 512)    0           batch_normalization_17[0][0]     \n",
      "__________________________________________________________________________________________________\n",
      "average_pooling2d_1 (AveragePoo (None, 1, 1, 512)    0           activation_17[0][0]              \n",
      "__________________________________________________________________________________________________\n",
      "flatten_1 (Flatten)             (None, 512)          0           average_pooling2d_1[0][0]        \n",
      "__________________________________________________________________________________________________\n",
      "dense_1 (Dense)                 (None, 129)          66177       flatten_1[0][0]                  \n",
      "==================================================================================================\n",
      "Total params: 11,247,233\n",
      "Trainable params: 11,239,425\n",
      "Non-trainable params: 7,808\n",
      "__________________________________________________________________________________________________\n"
     ]
    }
   ],
   "source": [
    "model.summary()"
   ]
  },
  {
   "cell_type": "code",
   "execution_count": 22,
   "metadata": {
    "collapsed": true
   },
   "outputs": [],
   "source": [
    "train_rate  = 1e-4\n",
    "model.compile(loss='categorical_crossentropy',\n",
    "              optimizer=RMSprop(train_rate),\n",
    "              metrics=[\"accuracy\"])\n",
    "model1.compile(loss='categorical_crossentropy',\n",
    "              optimizer=RMSprop(train_rate),\n",
    "              metrics=[\"accuracy\"])"
   ]
  },
  {
   "cell_type": "code",
   "execution_count": 23,
   "metadata": {},
   "outputs": [
    {
     "name": "stdout",
     "output_type": "stream",
     "text": [
      "Epoch 1/25\n",
      " - 6s - loss: 3.2588 - acc: 0.6420 - val_loss: 12.9004 - val_acc: 0.0793\n",
      "Epoch 2/25\n",
      " - 3s - loss: 1.3116 - acc: 0.8666 - val_loss: 2.3767 - val_acc: 0.6650\n",
      "Epoch 3/25\n",
      " - 3s - loss: 0.8469 - acc: 0.9499 - val_loss: 2.3740 - val_acc: 0.6824\n",
      "Epoch 4/25\n",
      " - 3s - loss: 0.6547 - acc: 0.9877 - val_loss: 0.8089 - val_acc: 0.9314\n",
      "Epoch 5/25\n",
      " - 3s - loss: 0.5969 - acc: 0.9937 - val_loss: 0.7518 - val_acc: 0.9487\n",
      "Epoch 6/25\n",
      " - 3s - loss: 0.5644 - acc: 0.9968 - val_loss: 0.7009 - val_acc: 0.9466\n",
      "Epoch 7/25\n",
      " - 3s - loss: 0.5382 - acc: 0.9976 - val_loss: 0.6867 - val_acc: 0.9470\n",
      "Epoch 8/25\n",
      " - 3s - loss: 0.5162 - acc: 0.9988 - val_loss: 0.6801 - val_acc: 0.9470\n",
      "Epoch 9/25\n",
      " - 3s - loss: 0.4840 - acc: 1.0000 - val_loss: 0.6761 - val_acc: 0.9388\n",
      "Epoch 10/25\n",
      " - 3s - loss: 0.4493 - acc: 1.0000 - val_loss: 0.6816 - val_acc: 0.9235\n",
      "Epoch 11/25\n",
      " - 3s - loss: 0.4272 - acc: 0.9980 - val_loss: 0.6308 - val_acc: 0.9309\n",
      "Epoch 12/25\n",
      " - 3s - loss: 0.3961 - acc: 0.9988 - val_loss: 0.6725 - val_acc: 0.9228\n",
      "Epoch 13/25\n",
      " - 3s - loss: 0.3428 - acc: 0.9992 - val_loss: 0.7501 - val_acc: 0.8755\n",
      "Epoch 14/25\n",
      " - 3s - loss: 0.3195 - acc: 0.9988 - val_loss: 0.5046 - val_acc: 0.9428\n",
      "Epoch 15/25\n",
      " - 3s - loss: 0.3133 - acc: 0.9996 - val_loss: 0.5117 - val_acc: 0.9493\n",
      "Epoch 16/25\n",
      " - 3s - loss: 0.3003 - acc: 0.9988 - val_loss: 0.4882 - val_acc: 0.9448\n",
      "Epoch 17/25\n",
      " - 3s - loss: 0.2785 - acc: 1.0000 - val_loss: 0.6435 - val_acc: 0.9127\n",
      "Epoch 18/25\n",
      " - 3s - loss: 0.2456 - acc: 0.9996 - val_loss: 0.6254 - val_acc: 0.9062\n",
      "Epoch 19/25\n",
      " - 3s - loss: 0.2414 - acc: 0.9988 - val_loss: 0.5379 - val_acc: 0.9287\n",
      "Epoch 20/25\n",
      " - 3s - loss: 0.2367 - acc: 0.9968 - val_loss: 0.4323 - val_acc: 0.9484\n",
      "Epoch 21/25\n",
      " - 3s - loss: 0.2368 - acc: 0.9980 - val_loss: 0.4197 - val_acc: 0.9488\n",
      "Epoch 22/25\n",
      " - 3s - loss: 0.2308 - acc: 0.9988 - val_loss: 0.5459 - val_acc: 0.9207\n",
      "Epoch 23/25\n",
      " - 3s - loss: 0.2253 - acc: 0.9996 - val_loss: 0.4075 - val_acc: 0.9613\n",
      "Epoch 24/25\n",
      " - 3s - loss: 0.2266 - acc: 0.9976 - val_loss: 0.5371 - val_acc: 0.9351\n",
      "Epoch 25/25\n",
      " - 3s - loss: 0.2168 - acc: 0.9992 - val_loss: 0.5376 - val_acc: 0.9231\n"
     ]
    },
    {
     "data": {
      "text/plain": [
       "<keras.callbacks.History at 0x7f190c92da58>"
      ]
     },
     "execution_count": 23,
     "metadata": {},
     "output_type": "execute_result"
    }
   ],
   "source": [
    "num_epochs = 25\n",
    "model.fit_generator(train_generator,\n",
    "                    num_train_images//batch_size, num_epochs,\n",
    "                    verbose=2,\n",
    "                    validation_data=valid_generator,\n",
    "                    validation_steps=num_valid_images//batch_size)"
   ]
  },
  {
   "cell_type": "code",
   "execution_count": 24,
   "metadata": {},
   "outputs": [
    {
     "name": "stdout",
     "output_type": "stream",
     "text": [
      "Epoch 1/25\n",
      " - 5s - loss: 2.0661 - acc: 0.6938 - val_loss: 2.5125 - val_acc: 0.5252\n",
      "Epoch 2/25\n",
      " - 3s - loss: 1.0301 - acc: 0.8856 - val_loss: 1.0938 - val_acc: 0.8685\n",
      "Epoch 3/25\n",
      " - 3s - loss: 0.7916 - acc: 0.9352 - val_loss: 1.0568 - val_acc: 0.8485\n",
      "Epoch 4/25\n",
      " - 3s - loss: 0.6717 - acc: 0.9652 - val_loss: 0.8511 - val_acc: 0.9001\n",
      "Epoch 5/25\n",
      " - 3s - loss: 0.6106 - acc: 0.9826 - val_loss: 0.8976 - val_acc: 0.9022\n",
      "Epoch 6/25\n",
      " - 3s - loss: 0.5730 - acc: 0.9901 - val_loss: 0.9278 - val_acc: 0.8894\n",
      "Epoch 7/25\n",
      " - 3s - loss: 0.5564 - acc: 0.9937 - val_loss: 0.7854 - val_acc: 0.9149\n",
      "Epoch 8/25\n",
      " - 3s - loss: 0.5356 - acc: 0.9988 - val_loss: 0.8740 - val_acc: 0.8892\n",
      "Epoch 9/25\n",
      " - 3s - loss: 0.5177 - acc: 0.9988 - val_loss: 0.7681 - val_acc: 0.9302\n",
      "Epoch 10/25\n",
      " - 3s - loss: 0.5013 - acc: 0.9972 - val_loss: 0.7751 - val_acc: 0.9222\n",
      "Epoch 11/25\n",
      " - 3s - loss: 0.4917 - acc: 0.9980 - val_loss: 0.7230 - val_acc: 0.9333\n",
      "Epoch 12/25\n",
      " - 3s - loss: 0.4768 - acc: 1.0000 - val_loss: 0.7396 - val_acc: 0.9349\n",
      "Epoch 13/25\n",
      " - 3s - loss: 0.4673 - acc: 0.9984 - val_loss: 0.8082 - val_acc: 0.9228\n",
      "Epoch 14/25\n",
      " - 3s - loss: 0.4552 - acc: 0.9988 - val_loss: 0.7638 - val_acc: 0.9209\n",
      "Epoch 15/25\n",
      " - 3s - loss: 0.4338 - acc: 0.9996 - val_loss: 0.6559 - val_acc: 0.9407\n",
      "Epoch 16/25\n",
      " - 3s - loss: 0.4013 - acc: 0.9992 - val_loss: 0.6852 - val_acc: 0.9276\n",
      "Epoch 17/25\n",
      " - 3s - loss: 0.3851 - acc: 0.9988 - val_loss: 0.5993 - val_acc: 0.9352\n",
      "Epoch 18/25\n",
      " - 3s - loss: 0.3738 - acc: 0.9988 - val_loss: 0.6149 - val_acc: 0.9411\n",
      "Epoch 19/25\n",
      " - 3s - loss: 0.3616 - acc: 0.9996 - val_loss: 0.5894 - val_acc: 0.9468\n",
      "Epoch 20/25\n",
      " - 3s - loss: 0.3575 - acc: 0.9984 - val_loss: 0.6092 - val_acc: 0.9312\n",
      "Epoch 21/25\n",
      " - 3s - loss: 0.3432 - acc: 0.9996 - val_loss: 0.6875 - val_acc: 0.9317\n",
      "Epoch 22/25\n",
      " - 3s - loss: 0.3307 - acc: 1.0000 - val_loss: 0.5932 - val_acc: 0.9331\n",
      "Epoch 23/25\n",
      " - 3s - loss: 0.3126 - acc: 1.0000 - val_loss: 0.7503 - val_acc: 0.8753\n",
      "Epoch 24/25\n",
      " - 4s - loss: 0.3088 - acc: 0.9976 - val_loss: 0.5933 - val_acc: 0.9363\n",
      "Epoch 25/25\n",
      " - 3s - loss: 0.2955 - acc: 0.9996 - val_loss: 0.7053 - val_acc: 0.8877\n"
     ]
    },
    {
     "data": {
      "text/plain": [
       "<keras.callbacks.History at 0x7f190a09a4a8>"
      ]
     },
     "execution_count": 24,
     "metadata": {},
     "output_type": "execute_result"
    }
   ],
   "source": [
    "model1.fit_generator(train_generator1,\n",
    "                    num_train_images//batch_size, num_epochs,\n",
    "                    verbose=2,\n",
    "                    validation_data=valid_generator1,\n",
    "                    validation_steps=num_valid_images//batch_size)"
   ]
  },
  {
   "cell_type": "code",
   "execution_count": 26,
   "metadata": {},
   "outputs": [
    {
     "data": {
      "text/plain": [
       "(851, 120, 32, 1)"
      ]
     },
     "execution_count": 26,
     "metadata": {},
     "output_type": "execute_result"
    }
   ],
   "source": [
    "test_path = 'data/test3'\n",
    "test_input_image_names = glob(test_path+'/crop_score*png')\n",
    "test_input_image_names.sort()\n",
    "test_input_images = np.stack([np.array(Image.open(fn)) for fn in test_input_image_names])\n",
    "test_input_images.shape = test_input_images.shape + (1,)\n",
    "num_test_images,rows,cols,channels = test_input_images.shape\n",
    "num_test_images,rows,cols,channels"
   ]
  },
  {
   "cell_type": "code",
   "execution_count": 27,
   "metadata": {
    "collapsed": true
   },
   "outputs": [],
   "source": [
    "test_indices = []\n",
    "for test_name in test_input_image_names:\n",
    "    index = int(test_name.split('.')[0].split('_')[-1])\n",
    "    test_indices.append(index)"
   ]
  },
  {
   "cell_type": "code",
   "execution_count": 28,
   "metadata": {
    "collapsed": true
   },
   "outputs": [],
   "source": [
    "test_results = np.zeros(len(test_indices),dtype=np.float32)\n",
    "test_results1 = np.zeros(len(test_indices),dtype=np.float32)\n",
    "i = 0\n",
    "for ti in test_indices:\n",
    "    r = results[ti]\n",
    "    test_results[i] = r[0]\n",
    "    test_results1[i] = r[1]\n",
    "    i += 1\n",
    "test_results = np_utils.to_categorical(test_results,NUM_CATEGORIES)\n",
    "test_results1 = np_utils.to_categorical(test_results1,NUM_CATEGORIES1)"
   ]
  },
  {
   "cell_type": "code",
   "execution_count": 29,
   "metadata": {
    "collapsed": true
   },
   "outputs": [],
   "source": [
    "test_generator = score_generator(test_input_images, test_results, batch_size, channels)\n",
    "test_generator1 = score_generator(test_input_images, test_results1, batch_size, channels)"
   ]
  },
  {
   "cell_type": "code",
   "execution_count": 30,
   "metadata": {},
   "outputs": [
    {
     "data": {
      "text/plain": [
       "[0.53414876071306372, 0.92427884615384615]"
      ]
     },
     "execution_count": 30,
     "metadata": {},
     "output_type": "execute_result"
    }
   ],
   "source": [
    "model.evaluate_generator(test_generator,steps=num_test_images//batch_size)"
   ]
  },
  {
   "cell_type": "code",
   "execution_count": 32,
   "metadata": {},
   "outputs": [
    {
     "data": {
      "text/plain": [
       "[0.73374332773234241, 0.87789987753599119]"
      ]
     },
     "execution_count": 32,
     "metadata": {},
     "output_type": "execute_result"
    }
   ],
   "source": [
    "model1.evaluate_generator(test_generator1,steps=num_test_images//batch_size)"
   ]
  },
  {
   "cell_type": "code",
   "execution_count": 33,
   "metadata": {
    "collapsed": true
   },
   "outputs": [],
   "source": [
    "# not bad!  Definitely overfitting going on, but to be expected with not a huge amount of training data."
   ]
  },
  {
   "cell_type": "code",
   "execution_count": null,
   "metadata": {
    "collapsed": true
   },
   "outputs": [],
   "source": []
  }
 ],
 "metadata": {
  "kernelspec": {
   "display_name": "Python 3",
   "language": "python",
   "name": "python3"
  },
  "language_info": {
   "codemirror_mode": {
    "name": "ipython",
    "version": 3
   },
   "file_extension": ".py",
   "mimetype": "text/x-python",
   "name": "python",
   "nbconvert_exporter": "python",
   "pygments_lexer": "ipython3",
   "version": "3.6.3"
  }
 },
 "nbformat": 4,
 "nbformat_minor": 2
}
