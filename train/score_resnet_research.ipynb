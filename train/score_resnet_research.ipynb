{
 "cells": [
  {
   "cell_type": "code",
   "execution_count": 1,
   "metadata": {},
   "outputs": [
    {
     "name": "stderr",
     "output_type": "stream",
     "text": [
      "/home/rallen/anaconda3/envs/romer/lib/python3.6/site-packages/h5py/__init__.py:36: FutureWarning: Conversion of the second argument of issubdtype from `float` to `np.floating` is deprecated. In future, it will be treated as `np.float64 == np.dtype(float).type`.\n",
      "  from ._conv import register_converters as _register_converters\n",
      "Using TensorFlow backend.\n",
      "/home/rallen/anaconda3/envs/romer/lib/python3.6/importlib/_bootstrap.py:219: RuntimeWarning: compiletime version 3.5 of module 'tensorflow.python.framework.fast_tensor_util' does not match runtime version 3.6\n",
      "  return f(*args, **kwds)\n"
     ]
    }
   ],
   "source": [
    "%matplotlib inline\n",
    "import keras\n",
    "from keras.optimizers import RMSprop\n",
    "from keras.utils import np_utils\n",
    "from glob import glob\n",
    "import numpy as np\n",
    "import os\n",
    "import random\n",
    "from PIL import Image\n",
    "import matplotlib.pyplot as plt\n",
    "import json\n",
    "\n",
    "#from keras.applications.resnet50 import ResNet50\n",
    "# not using keras version since it cannot have an input size < 197x197.  Might also require 3-channel color.\n",
    "# found one online & modifying for my purposes\n",
    "import resnet\n",
    "\n",
    "from train_utils import ExponentialLR, CyclicalCosineWithRestartsLR"
   ]
  },
  {
   "cell_type": "code",
   "execution_count": 2,
   "metadata": {},
   "outputs": [
    {
     "data": {
      "text/plain": [
       "(69464, 120, 32, 1)"
      ]
     },
     "execution_count": 2,
     "metadata": {},
     "output_type": "execute_result"
    }
   ],
   "source": [
    "train_path = 'data/train3'\n",
    "train_input_image_names = glob(train_path+'/crop_score*png')\n",
    "train_input_image_names.sort()\n",
    "train_input_images = np.stack([np.array(Image.open(fn)) for fn in train_input_image_names])\n",
    "train_input_images.shape = train_input_images.shape + (1,)\n",
    "num_train_images,rows,cols,channels = train_input_images.shape\n",
    "num_train_images,rows,cols,channels"
   ]
  },
  {
   "cell_type": "code",
   "execution_count": 3,
   "metadata": {},
   "outputs": [
    {
     "data": {
      "text/plain": [
       "(8682, 120, 32, 1)"
      ]
     },
     "execution_count": 3,
     "metadata": {},
     "output_type": "execute_result"
    }
   ],
   "source": [
    "valid_path = 'data/valid3'\n",
    "valid_input_image_names = glob(valid_path+'/crop_score*png')\n",
    "valid_input_image_names.sort()\n",
    "valid_input_images = np.stack([np.array(Image.open(fn)) for fn in valid_input_image_names])\n",
    "valid_input_images.shape = valid_input_images.shape + (1,)\n",
    "num_valid_images,rows,cols,channels = valid_input_images.shape\n",
    "num_valid_images,rows,cols,channels"
   ]
  },
  {
   "cell_type": "code",
   "execution_count": 4,
   "metadata": {},
   "outputs": [],
   "source": [
    "results_json = 'data/train3/crop_score_info.json'\n",
    "with open(results_json,'r') as f:\n",
    "    results = json.load(f)\n",
    "# array of values.  each one is: pitch, length, key"
   ]
  },
  {
   "cell_type": "code",
   "execution_count": 5,
   "metadata": {},
   "outputs": [],
   "source": [
    "train_indices = []\n",
    "for train_name in train_input_image_names:\n",
    "    index = int(train_name.split('.')[0].split('_')[-1])\n",
    "    train_indices.append(index)\n",
    "valid_indices = []\n",
    "for valid_name in valid_input_image_names:\n",
    "    index = int(valid_name.split('.')[0].split('_')[-1])\n",
    "    valid_indices.append(index)\n",
    "#train_indices[:20],valid_indices[:20]"
   ]
  },
  {
   "cell_type": "code",
   "execution_count": 6,
   "metadata": {},
   "outputs": [],
   "source": [
    "# there is 1 'no pitch' value, 1 rest value (-1) and 128 midi notes (0-127)\n",
    "pitches = np.zeros(128+1+1,dtype=np.int32)\n",
    "lengths = np.zeros(16+1,dtype=np.int32)\n",
    "keys = np.zeros(15,dtype=np.int32) # values from 0..14\n",
    "for ti in train_indices:\n",
    "    r = results[ti]\n",
    "    pitches[r[0]] += 1\n",
    "    lengths[r[1]] += 1\n",
    "    keys[r[2]]    += 1"
   ]
  },
  {
   "cell_type": "code",
   "execution_count": 7,
   "metadata": {},
   "outputs": [
    {
     "data": {
      "text/plain": [
       "array([ 2277,  2336,  2372,  2356,  2332,  2307,  2843, 35836,  2303,\n",
       "        2332,  2354,  2281,  2304,  2309,  2922], dtype=int32)"
      ]
     },
     "execution_count": 7,
     "metadata": {},
     "output_type": "execute_result"
    }
   ],
   "source": [
    "keys"
   ]
  },
  {
   "cell_type": "code",
   "execution_count": 8,
   "metadata": {},
   "outputs": [],
   "source": [
    "# train pitch,length results, key inputs\n",
    "NUM_PITCH_CATEGORIES=128+1+1 \n",
    "NUM_LENGTH_CATEGORIES=16+1\n",
    "NUM_KEY_BITS=4 # 0-14\n",
    "train_pitch_results = np.zeros(len(train_indices),dtype=np.float32)\n",
    "train_length_results = np.zeros(len(train_indices),dtype=np.float32)\n",
    "train_key_inputs = np.zeros((len(train_indices),NUM_KEY_BITS),dtype=np.float32)\n",
    "i = 0\n",
    "for ti in train_indices:\n",
    "    r = results[ti]\n",
    "    train_pitch_results[i]  = r[0] \n",
    "    train_length_results[i] = r[1]\n",
    "    train_key_inputs[i]     = np.array(list(np.binary_repr(r[2],width=NUM_KEY_BITS)),dtype=np.float32)\n",
    "    i += 1\n",
    "train_pitch_results = np_utils.to_categorical(train_pitch_results,NUM_PITCH_CATEGORIES)\n",
    "train_length_results = np_utils.to_categorical(train_length_results,NUM_LENGTH_CATEGORIES)"
   ]
  },
  {
   "cell_type": "code",
   "execution_count": 9,
   "metadata": {},
   "outputs": [
    {
     "data": {
      "text/plain": [
       "((69464, 130), (69464, 17), (69464, 4))"
      ]
     },
     "execution_count": 9,
     "metadata": {},
     "output_type": "execute_result"
    }
   ],
   "source": [
    "train_pitch_results.shape, train_length_results.shape, train_key_inputs.shape"
   ]
  },
  {
   "cell_type": "code",
   "execution_count": 10,
   "metadata": {},
   "outputs": [
    {
     "data": {
      "text/plain": [
       "(array([1., 0., 0., 0., 0., 0., 0., 0., 0., 0., 0., 0., 0., 0., 0., 0., 0.,\n",
       "        0., 0., 0., 0., 0., 0., 0., 0., 0., 0., 0., 0., 0., 0., 0., 0., 0.,\n",
       "        0., 0., 0., 0., 0., 0., 0., 0., 0., 0., 0., 0., 0., 0., 0., 0., 0.,\n",
       "        0., 0., 0., 0., 0., 0., 0., 0., 0., 0., 0., 0., 0., 0., 0., 0., 0.,\n",
       "        0., 0., 0., 0., 0., 0., 0., 0., 0., 0., 0., 0., 0., 0., 0., 0., 0.,\n",
       "        0., 0., 0., 0., 0., 0., 0., 0., 0., 0., 0., 0., 0., 0., 0., 0., 0.,\n",
       "        0., 0., 0., 0., 0., 0., 0., 0., 0., 0., 0., 0., 0., 0., 0., 0., 0.,\n",
       "        0., 0., 0., 0., 0., 0., 0., 0., 0., 0., 0.]),\n",
       " array([1., 0., 0., 0., 0., 0., 0., 0., 0., 0., 0., 0., 0., 0., 0., 0., 0.]),\n",
       " array([0., 1., 1., 1.], dtype=float32))"
      ]
     },
     "execution_count": 10,
     "metadata": {},
     "output_type": "execute_result"
    }
   ],
   "source": [
    "train_pitch_results[100], train_length_results[100], train_key_inputs[100]"
   ]
  },
  {
   "cell_type": "code",
   "execution_count": 11,
   "metadata": {},
   "outputs": [],
   "source": [
    "valid_pitch_results = np.zeros(len(valid_indices),dtype=np.float32)\n",
    "valid_length_results = np.zeros(len(valid_indices),dtype=np.float32)\n",
    "valid_key_inputs = np.zeros((len(valid_indices),NUM_KEY_BITS),dtype=np.float32)\n",
    "i = 0\n",
    "for ti in valid_indices:\n",
    "    r = results[ti]\n",
    "    valid_pitch_results[i]  = r[0] \n",
    "    valid_length_results[i] = r[1]\n",
    "    valid_key_inputs[i]     = np.array(list(np.binary_repr(r[2],width=NUM_KEY_BITS)),dtype=np.float32)\n",
    "    i += 1\n",
    "valid_pitch_results = np_utils.to_categorical(valid_pitch_results,NUM_PITCH_CATEGORIES)\n",
    "valid_length_results = np_utils.to_categorical(valid_length_results,NUM_LENGTH_CATEGORIES)"
   ]
  },
  {
   "cell_type": "code",
   "execution_count": 12,
   "metadata": {},
   "outputs": [],
   "source": [
    "# you need a generator that yields something of the form ([x1, x2], y)\n",
    "class dual_generator(object):\n",
    "    \"\"\"X1 should be list of score images, X2 should be a list of keys, \n",
    "    Y1 should be a list of pitch results, Y2 should be a list of length results.  \n",
    "    All should be the same length.\"\"\"\n",
    "    def __init__(self, X1, X2, Y1, Y2, batch_size, channels):\n",
    "        self.X1 = X1\n",
    "        self.X2 = X2\n",
    "        self.Y1 = Y1\n",
    "        self.Y2 = Y2\n",
    "        self.bs = batch_size\n",
    "        self.channels = channels\n",
    "        self.i  = 0\n",
    "    def __next__(self):\n",
    "        xs1 = self.X1[self.i:self.i+self.bs]\n",
    "        xs2 = self.X2[self.i:self.i+self.bs]\n",
    "        ys1 = self.Y1[self.i:self.i+self.bs]\n",
    "        ys2 = self.Y2[self.i:self.i+self.bs]\n",
    "        self.i = (self.i + self.bs) % self.X1.shape[0]\n",
    "        return [xs1, xs2], [ys1, ys2]"
   ]
  },
  {
   "cell_type": "markdown",
   "metadata": {},
   "source": [
    "Find the learning rate\n",
    "----"
   ]
  },
  {
   "cell_type": "code",
   "execution_count": 13,
   "metadata": {},
   "outputs": [],
   "source": [
    "image_shape = (rows,cols,channels)\n",
    "batch_size = 2048\n",
    "train_generator = dual_generator(train_input_images, train_key_inputs, \n",
    "                                 train_pitch_results, train_length_results, \n",
    "                                 batch_size, channels)\n",
    "valid_generator = dual_generator(valid_input_images, valid_key_inputs, \n",
    "                                 valid_pitch_results, valid_length_results, \n",
    "                                 batch_size, channels)"
   ]
  },
  {
   "cell_type": "code",
   "execution_count": 21,
   "metadata": {
    "scrolled": true
   },
   "outputs": [
    {
     "name": "stdout",
     "output_type": "stream",
     "text": [
      "Epoch 1/2\n",
      "33/33 [==============================] - 32s 956ms/step - loss: 8.7577 - dense_3_loss: 4.7429 - dense_4_loss: 3.2716 - dense_3_acc: 0.0024 - dense_4_acc: 0.0072 - val_loss: 8.4910 - val_dense_3_loss: 4.6161 - val_dense_4_loss: 3.1328 - val_dense_3_acc: 0.0127 - val_dense_4_acc: 0.0167\n",
      "Epoch 2/2\n",
      "33/33 [==============================] - 30s 908ms/step - loss: 15.7394 - dense_3_loss: 3.6487 - dense_4_loss: 2.3533 - dense_3_acc: 0.4134 - dense_4_acc: 0.4169 - val_loss: 262.8939 - val_dense_3_loss: 15.9802 - val_dense_4_loss: 13.3874 - val_dense_3_acc: 0.0086 - val_dense_4_acc: 0.1694\n"
     ]
    },
    {
     "data": {
      "text/plain": [
       "<keras.callbacks.History at 0x7f2f862283c8>"
      ]
     },
     "execution_count": 21,
     "metadata": {},
     "output_type": "execute_result"
    }
   ],
   "source": [
    "lr = ExponentialLR(2*(num_train_images//batch_size),1e-9,1.0)\n",
    "model = resnet.RomerResnetBuilder.build_romer_resnet_18(image_shape, NUM_KEY_BITS, \n",
    "                                                        NUM_PITCH_CATEGORIES, NUM_LENGTH_CATEGORIES)\n",
    "model.compile(loss='categorical_crossentropy',\n",
    "              optimizer=RMSprop(1e-9),\n",
    "              metrics=[\"accuracy\"])\n",
    "model.fit_generator(train_generator,\n",
    "                    num_train_images//batch_size, 2,\n",
    "                    callbacks=[lr],\n",
    "                    #verbose=2,\n",
    "                    validation_data=valid_generator,\n",
    "                    validation_steps=num_valid_images//batch_size)"
   ]
  },
  {
   "cell_type": "code",
   "execution_count": 23,
   "metadata": {},
   "outputs": [
    {
     "data": {
      "text/plain": [
       "<matplotlib.lines.Line2D at 0x7f2f64a10a58>"
      ]
     },
     "execution_count": 23,
     "metadata": {},
     "output_type": "execute_result"
    },
    {
     "data": {
      "image/png": "[encoded data removed]",
      "text/plain": [
       "<matplotlib.figure.Figure at 0x7f2f64a43da0>"
      ]
     },
     "metadata": {},
     "output_type": "display_data"
    }
   ],
   "source": [
    "plt.semilogx(lr.history['lr'], lr.history['loss'])\n",
    "plt.ylim([0,20])\n",
    "plt.axvline(x=2e-3)"
   ]
  },
  {
   "cell_type": "code",
   "execution_count": null,
   "metadata": {},
   "outputs": [],
   "source": [
    "A,B=15,400\n",
    "plt.semilogx(lr.history['lr'][A:B], lr.history['loss'][A:B])\n",
    "#plt.axvline(x=0.00005)\n",
    "#plt.axvline(x=0.00009)\n",
    "plt.axvline(x=2.5e-4)"
   ]
  },
  {
   "cell_type": "code",
   "execution_count": null,
   "metadata": {},
   "outputs": [],
   "source": [
    "for i in range(len(lr.history['lr'])):\n",
    "    if 1e-4 <= lr.history['lr'][i] < 1e-4+1e-6:\n",
    "        print(i)\n",
    "        break"
   ]
  },
  {
   "cell_type": "code",
   "execution_count": null,
   "metadata": {},
   "outputs": [],
   "source": [
    "A,B=1000,1500\n",
    "#plt.semilogx(lr.history['lr'][1000:1500], lr.history['loss'][1000:1500])\n",
    "plt.semilogx(lr.history['lr'], lr.history['loss'])\n",
    "plt.ylim([0,20])\n",
    "plt.axvline(x=1e-4,color='k')\n",
    "plt.axhline(y=lr.history['loss'][1207],color='k')"
   ]
  },
  {
   "cell_type": "markdown",
   "metadata": {},
   "source": [
    "Train the model\n",
    "-----"
   ]
  },
  {
   "cell_type": "code",
   "execution_count": null,
   "metadata": {},
   "outputs": [],
   "source": [
    "train_rate = 1e-4\n",
    "num_epochs = 6\n",
    "lr = CyclicalCosineWithRestartsLR((num_train_images//batch_size)*3, 0.0, train_rate)\n",
    "model.compile(loss='categorical_crossentropy',\n",
    "              optimizer=RMSprop(train_rate),\n",
    "              metrics=[\"accuracy\"])\n",
    "model.fit_generator(train_generator,\n",
    "                    num_train_images//batch_size, num_epochs,\n",
    "                    callbacks=[lr],\n",
    "                    #verbose=2,\n",
    "                    validation_data=valid_generator,\n",
    "                    validation_steps=num_valid_images//batch_size)"
   ]
  },
  {
   "cell_type": "code",
   "execution_count": null,
   "metadata": {},
   "outputs": [],
   "source": [
    "#plt.semilogx(lr.history['lr'], lr.history['loss'])\n",
    "plt.plot(lr.history['loss'])"
   ]
  },
  {
   "cell_type": "code",
   "execution_count": null,
   "metadata": {},
   "outputs": [],
   "source": [
    "plt.plot(lr.history['lr'])"
   ]
  },
  {
   "cell_type": "code",
   "execution_count": null,
   "metadata": {},
   "outputs": [],
   "source": [
    "# Let's compare without the CosineLR\n",
    "model = resnet.RomerResnetBuilder.build_romer_resnet_18(image_shape, NUM_KEY_BITS, \n",
    "                                                        NUM_PITCH_CATEGORIES, NUM_LENGTH_CATEGORIES)\n",
    "train_rate = 1e-4\n",
    "num_epochs = 6\n",
    "#lr = CyclicalCosineWithRestartsLR((num_train_images//batch_size)*3, 0.0, train_rate)\n",
    "model.compile(loss='categorical_crossentropy',\n",
    "              optimizer=RMSprop(train_rate),\n",
    "              metrics=[\"accuracy\"])\n",
    "model.fit_generator(train_generator,\n",
    "                    num_train_images//batch_size, num_epochs,\n",
    "                    #callbacks=[lr],\n",
    "                    #verbose=2,\n",
    "                    validation_data=valid_generator,\n",
    "                    validation_steps=num_valid_images//batch_size)"
   ]
  },
  {
   "cell_type": "code",
   "execution_count": null,
   "metadata": {},
   "outputs": [],
   "source": [
    "# okay, Cosine was not \"amazingly\" better, but it is better."
   ]
  },
  {
   "cell_type": "code",
   "execution_count": null,
   "metadata": {},
   "outputs": [],
   "source": [
    "# not updated below...was going to edit python training model first."
   ]
  },
  {
   "cell_type": "code",
   "execution_count": null,
   "metadata": {},
   "outputs": [],
   "source": [
    "test_path = 'data/test3'\n",
    "test_input_image_names = glob(test_path+'/crop_score*png')\n",
    "test_input_image_names.sort()\n",
    "test_input_images = np.stack([np.array(Image.open(fn)) for fn in test_input_image_names])\n",
    "test_input_images.shape = test_input_images.shape + (1,)\n",
    "num_test_images,rows,cols,channels = test_input_images.shape\n",
    "num_test_images,rows,cols,channels"
   ]
  },
  {
   "cell_type": "code",
   "execution_count": null,
   "metadata": {},
   "outputs": [],
   "source": [
    "test_indices = []\n",
    "for test_name in test_input_image_names:\n",
    "    index = int(test_name.split('.')[0].split('_')[-1])\n",
    "    test_indices.append(index)"
   ]
  },
  {
   "cell_type": "code",
   "execution_count": null,
   "metadata": {},
   "outputs": [],
   "source": [
    "test_results = np.zeros(len(test_indices),dtype=np.float32)\n",
    "test_results1 = np.zeros(len(test_indices),dtype=np.float32)\n",
    "i = 0\n",
    "for ti in test_indices:\n",
    "    r = results[ti]\n",
    "    test_results[i] = r[0]\n",
    "    test_results1[i] = r[1]\n",
    "    i += 1\n",
    "test_results = np_utils.to_categorical(test_results,NUM_CATEGORIES)\n",
    "test_results1 = np_utils.to_categorical(test_results1,NUM_CATEGORIES1)"
   ]
  },
  {
   "cell_type": "code",
   "execution_count": null,
   "metadata": {},
   "outputs": [],
   "source": [
    "test_generator = score_generator(test_input_images, test_results, batch_size, channels)\n",
    "test_generator1 = score_generator(test_input_images, test_results1, batch_size, channels)"
   ]
  },
  {
   "cell_type": "code",
   "execution_count": null,
   "metadata": {},
   "outputs": [],
   "source": [
    "model.evaluate_generator(test_generator,steps=num_test_images//batch_size)"
   ]
  },
  {
   "cell_type": "code",
   "execution_count": null,
   "metadata": {},
   "outputs": [],
   "source": [
    "model1.evaluate_generator(test_generator1,steps=num_test_images//batch_size)"
   ]
  },
  {
   "cell_type": "code",
   "execution_count": null,
   "metadata": {},
   "outputs": [],
   "source": []
  }
 ],
 "metadata": {
  "kernelspec": {
   "display_name": "Python 3",
   "language": "python",
   "name": "python3"
  },
  "language_info": {
   "codemirror_mode": {
    "name": "ipython",
    "version": 3
   },
   "file_extension": ".py",
   "mimetype": "text/x-python",
   "name": "python",
   "nbconvert_exporter": "python",
   "pygments_lexer": "ipython3",
   "version": "3.6.4"
  }
 },
 "nbformat": 4,
 "nbformat_minor": 2
}
