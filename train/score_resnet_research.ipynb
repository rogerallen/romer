{
 "cells": [
  {
   "cell_type": "code",
   "execution_count": 1,
   "metadata": {},
   "outputs": [
    {
     "name": "stderr",
     "output_type": "stream",
     "text": [
      "/home/rallen/anaconda3/envs/romer/lib/python3.6/site-packages/h5py/__init__.py:36: FutureWarning: Conversion of the second argument of issubdtype from `float` to `np.floating` is deprecated. In future, it will be treated as `np.float64 == np.dtype(float).type`.\n",
      "  from ._conv import register_converters as _register_converters\n",
      "Using TensorFlow backend.\n",
      "/home/rallen/anaconda3/envs/romer/lib/python3.6/importlib/_bootstrap.py:219: RuntimeWarning: compiletime version 3.5 of module 'tensorflow.python.framework.fast_tensor_util' does not match runtime version 3.6\n",
      "  return f(*args, **kwds)\n"
     ]
    }
   ],
   "source": [
    "%matplotlib inline\n",
    "import keras\n",
    "from keras.optimizers import RMSprop\n",
    "from keras.utils import np_utils\n",
    "from glob import glob\n",
    "import numpy as np\n",
    "import os\n",
    "import random\n",
    "from PIL import Image\n",
    "import matplotlib.pyplot as plt\n",
    "import json\n",
    "\n",
    "#from keras.applications.resnet50 import ResNet50\n",
    "# not using keras version since it cannot have an input size < 197x197.  Might also require 3-channel color.\n",
    "# found one online & modifying for my purposes\n",
    "import resnet"
   ]
  },
  {
   "cell_type": "code",
   "execution_count": 2,
   "metadata": {},
   "outputs": [
    {
     "data": {
      "text/plain": [
       "(69464, 120, 32, 1)"
      ]
     },
     "execution_count": 2,
     "metadata": {},
     "output_type": "execute_result"
    }
   ],
   "source": [
    "train_path = 'data/train3'\n",
    "train_input_image_names = glob(train_path+'/crop_score*png')\n",
    "train_input_image_names.sort()\n",
    "train_input_images = np.stack([np.array(Image.open(fn)) for fn in train_input_image_names])\n",
    "train_input_images.shape = train_input_images.shape + (1,)\n",
    "num_train_images,rows,cols,channels = train_input_images.shape\n",
    "num_train_images,rows,cols,channels"
   ]
  },
  {
   "cell_type": "code",
   "execution_count": 3,
   "metadata": {},
   "outputs": [
    {
     "data": {
      "text/plain": [
       "(8682, 120, 32, 1)"
      ]
     },
     "execution_count": 3,
     "metadata": {},
     "output_type": "execute_result"
    }
   ],
   "source": [
    "valid_path = 'data/valid3'\n",
    "valid_input_image_names = glob(valid_path+'/crop_score*png')\n",
    "valid_input_image_names.sort()\n",
    "valid_input_images = np.stack([np.array(Image.open(fn)) for fn in valid_input_image_names])\n",
    "valid_input_images.shape = valid_input_images.shape + (1,)\n",
    "num_valid_images,rows,cols,channels = valid_input_images.shape\n",
    "num_valid_images,rows,cols,channels"
   ]
  },
  {
   "cell_type": "code",
   "execution_count": 4,
   "metadata": {},
   "outputs": [],
   "source": [
    "results_json = 'data/train3/crop_score_info.json'\n",
    "with open(results_json,'r') as f:\n",
    "    results = json.load(f)\n",
    "# array of values.  each one is: pitch, length, key"
   ]
  },
  {
   "cell_type": "code",
   "execution_count": 5,
   "metadata": {},
   "outputs": [],
   "source": [
    "train_indices = []\n",
    "for train_name in train_input_image_names:\n",
    "    index = int(train_name.split('.')[0].split('_')[-1])\n",
    "    train_indices.append(index)\n",
    "valid_indices = []\n",
    "for valid_name in valid_input_image_names:\n",
    "    index = int(valid_name.split('.')[0].split('_')[-1])\n",
    "    valid_indices.append(index)\n",
    "#train_indices[:20],valid_indices[:20]"
   ]
  },
  {
   "cell_type": "code",
   "execution_count": 6,
   "metadata": {},
   "outputs": [],
   "source": [
    "# there is 1 'no pitch' value, 1 rest value (-1) and 128 midi notes (0-127)\n",
    "pitches = np.zeros(128+1+1,dtype=np.int32)\n",
    "lengths = np.zeros(16+1,dtype=np.int32)\n",
    "keys = np.zeros(15,dtype=np.int32) # values from 0..14\n",
    "for ti in train_indices:\n",
    "    r = results[ti]\n",
    "    pitches[r[0]] += 1\n",
    "    lengths[r[1]] += 1\n",
    "    keys[r[2]]    += 1"
   ]
  },
  {
   "cell_type": "code",
   "execution_count": 7,
   "metadata": {},
   "outputs": [
    {
     "data": {
      "text/plain": [
       "array([ 2277,  2336,  2372,  2356,  2332,  2307,  2843, 35836,  2303,\n",
       "        2332,  2354,  2281,  2304,  2309,  2922], dtype=int32)"
      ]
     },
     "execution_count": 7,
     "metadata": {},
     "output_type": "execute_result"
    }
   ],
   "source": [
    "keys"
   ]
  },
  {
   "cell_type": "code",
   "execution_count": 8,
   "metadata": {},
   "outputs": [],
   "source": [
    "# train pitch,length results, key inputs\n",
    "NUM_PITCH_CATEGORIES=128+1+1 \n",
    "NUM_LENGTH_CATEGORIES=16+1\n",
    "NUM_KEY_BITS=4 # 0-14\n",
    "train_pitch_results = np.zeros(len(train_indices),dtype=np.float32)\n",
    "train_length_results = np.zeros(len(train_indices),dtype=np.float32)\n",
    "train_key_inputs = np.zeros((len(train_indices),NUM_KEY_BITS),dtype=np.float32)\n",
    "i = 0\n",
    "for ti in train_indices:\n",
    "    r = results[ti]\n",
    "    train_pitch_results[i]  = r[0] \n",
    "    train_length_results[i] = r[1]\n",
    "    train_key_inputs[i]     = np.array(list(np.binary_repr(r[2],width=NUM_KEY_BITS)),dtype=np.float32)\n",
    "    i += 1\n",
    "train_pitch_results = np_utils.to_categorical(train_pitch_results,NUM_PITCH_CATEGORIES)\n",
    "train_length_results = np_utils.to_categorical(train_length_results,NUM_LENGTH_CATEGORIES)"
   ]
  },
  {
   "cell_type": "code",
   "execution_count": 9,
   "metadata": {},
   "outputs": [
    {
     "data": {
      "text/plain": [
       "((69464, 130), (69464, 17), (69464, 4))"
      ]
     },
     "execution_count": 9,
     "metadata": {},
     "output_type": "execute_result"
    }
   ],
   "source": [
    "train_pitch_results.shape, train_length_results.shape, train_key_inputs.shape"
   ]
  },
  {
   "cell_type": "code",
   "execution_count": 10,
   "metadata": {},
   "outputs": [
    {
     "data": {
      "text/plain": [
       "(array([1., 0., 0., 0., 0., 0., 0., 0., 0., 0., 0., 0., 0., 0., 0., 0., 0.,\n",
       "        0., 0., 0., 0., 0., 0., 0., 0., 0., 0., 0., 0., 0., 0., 0., 0., 0.,\n",
       "        0., 0., 0., 0., 0., 0., 0., 0., 0., 0., 0., 0., 0., 0., 0., 0., 0.,\n",
       "        0., 0., 0., 0., 0., 0., 0., 0., 0., 0., 0., 0., 0., 0., 0., 0., 0.,\n",
       "        0., 0., 0., 0., 0., 0., 0., 0., 0., 0., 0., 0., 0., 0., 0., 0., 0.,\n",
       "        0., 0., 0., 0., 0., 0., 0., 0., 0., 0., 0., 0., 0., 0., 0., 0., 0.,\n",
       "        0., 0., 0., 0., 0., 0., 0., 0., 0., 0., 0., 0., 0., 0., 0., 0., 0.,\n",
       "        0., 0., 0., 0., 0., 0., 0., 0., 0., 0., 0.]),\n",
       " array([1., 0., 0., 0., 0., 0., 0., 0., 0., 0., 0., 0., 0., 0., 0., 0., 0.]),\n",
       " array([0., 1., 1., 1.], dtype=float32))"
      ]
     },
     "execution_count": 10,
     "metadata": {},
     "output_type": "execute_result"
    }
   ],
   "source": [
    "train_pitch_results[100], train_length_results[100], train_key_inputs[100]"
   ]
  },
  {
   "cell_type": "code",
   "execution_count": 11,
   "metadata": {},
   "outputs": [],
   "source": [
    "valid_pitch_results = np.zeros(len(valid_indices),dtype=np.float32)\n",
    "valid_length_results = np.zeros(len(valid_indices),dtype=np.float32)\n",
    "valid_key_inputs = np.zeros((len(valid_indices),NUM_KEY_BITS),dtype=np.float32)\n",
    "i = 0\n",
    "for ti in valid_indices:\n",
    "    r = results[ti]\n",
    "    valid_pitch_results[i]  = r[0] \n",
    "    valid_length_results[i] = r[1]\n",
    "    valid_key_inputs[i]     = np.array(list(np.binary_repr(r[2],width=NUM_KEY_BITS)),dtype=np.float32)\n",
    "    i += 1\n",
    "valid_pitch_results = np_utils.to_categorical(valid_pitch_results,NUM_PITCH_CATEGORIES)\n",
    "valid_length_results = np_utils.to_categorical(valid_length_results,NUM_LENGTH_CATEGORIES)"
   ]
  },
  {
   "cell_type": "code",
   "execution_count": 12,
   "metadata": {},
   "outputs": [],
   "source": [
    "# you need a generator that yields something of the form ([x1, x2], y)\n",
    "class dual_generator(object):\n",
    "    \"\"\"X1 should be list of score images, X2 should be a list of keys, \n",
    "    Y1 should be a list of pitch results, Y2 should be a list of length results.  \n",
    "    All should be the same length.\"\"\"\n",
    "    def __init__(self, X1, X2, Y1, Y2, batch_size, channels):\n",
    "        self.X1 = X1\n",
    "        self.X2 = X2\n",
    "        self.Y1 = Y1\n",
    "        self.Y2 = Y2\n",
    "        self.bs = batch_size\n",
    "        self.channels = channels\n",
    "        self.i  = 0\n",
    "    def __next__(self):\n",
    "        xs1 = self.X1[self.i:self.i+self.bs]\n",
    "        xs2 = self.X2[self.i:self.i+self.bs]\n",
    "        ys1 = self.Y1[self.i:self.i+self.bs]\n",
    "        ys2 = self.Y2[self.i:self.i+self.bs]\n",
    "        self.i = (self.i + self.bs) % self.X1.shape[0]\n",
    "        return [xs1, xs2], [ys1, ys2]"
   ]
  },
  {
   "cell_type": "code",
   "execution_count": 13,
   "metadata": {},
   "outputs": [],
   "source": [
    "batch_size = 32\n",
    "train_generator = dual_generator(train_input_images, train_key_inputs, \n",
    "                                 train_pitch_results, train_length_results, \n",
    "                                 batch_size, channels)\n",
    "valid_generator = dual_generator(valid_input_images, valid_key_inputs, \n",
    "                                 valid_pitch_results, valid_length_results, \n",
    "                                 batch_size, channels)\n"
   ]
  },
  {
   "cell_type": "code",
   "execution_count": 14,
   "metadata": {},
   "outputs": [],
   "source": [
    "image_shape = (rows,cols,channels)\n",
    "model = resnet.RomerResnetBuilder.build_romer_resnet_18(image_shape, NUM_KEY_BITS, \n",
    "                                                        NUM_PITCH_CATEGORIES, NUM_LENGTH_CATEGORIES)"
   ]
  },
  {
   "cell_type": "code",
   "execution_count": 15,
   "metadata": {
    "scrolled": true
   },
   "outputs": [
    {
     "name": "stdout",
     "output_type": "stream",
     "text": [
      "__________________________________________________________________________________________________\n",
      "Layer (type)                    Output Shape         Param #     Connected to                     \n",
      "==================================================================================================\n",
      "input_1 (InputLayer)            (None, 120, 32, 1)   0                                            \n",
      "__________________________________________________________________________________________________\n",
      "conv2d_1 (Conv2D)               (None, 60, 16, 64)   3200        input_1[0][0]                    \n",
      "__________________________________________________________________________________________________\n",
      "batch_normalization_1 (BatchNor (None, 60, 16, 64)   256         conv2d_1[0][0]                   \n",
      "__________________________________________________________________________________________________\n",
      "activation_1 (Activation)       (None, 60, 16, 64)   0           batch_normalization_1[0][0]      \n",
      "__________________________________________________________________________________________________\n",
      "max_pooling2d_1 (MaxPooling2D)  (None, 30, 8, 64)    0           activation_1[0][0]               \n",
      "__________________________________________________________________________________________________\n",
      "conv2d_2 (Conv2D)               (None, 30, 8, 64)    36928       max_pooling2d_1[0][0]            \n",
      "__________________________________________________________________________________________________\n",
      "batch_normalization_2 (BatchNor (None, 30, 8, 64)    256         conv2d_2[0][0]                   \n",
      "__________________________________________________________________________________________________\n",
      "activation_2 (Activation)       (None, 30, 8, 64)    0           batch_normalization_2[0][0]      \n",
      "__________________________________________________________________________________________________\n",
      "conv2d_3 (Conv2D)               (None, 30, 8, 64)    36928       activation_2[0][0]               \n",
      "__________________________________________________________________________________________________\n",
      "add_1 (Add)                     (None, 30, 8, 64)    0           max_pooling2d_1[0][0]            \n",
      "                                                                 conv2d_3[0][0]                   \n",
      "__________________________________________________________________________________________________\n",
      "batch_normalization_3 (BatchNor (None, 30, 8, 64)    256         add_1[0][0]                      \n",
      "__________________________________________________________________________________________________\n",
      "activation_3 (Activation)       (None, 30, 8, 64)    0           batch_normalization_3[0][0]      \n",
      "__________________________________________________________________________________________________\n",
      "conv2d_4 (Conv2D)               (None, 30, 8, 64)    36928       activation_3[0][0]               \n",
      "__________________________________________________________________________________________________\n",
      "batch_normalization_4 (BatchNor (None, 30, 8, 64)    256         conv2d_4[0][0]                   \n",
      "__________________________________________________________________________________________________\n",
      "activation_4 (Activation)       (None, 30, 8, 64)    0           batch_normalization_4[0][0]      \n",
      "__________________________________________________________________________________________________\n",
      "conv2d_5 (Conv2D)               (None, 30, 8, 64)    36928       activation_4[0][0]               \n",
      "__________________________________________________________________________________________________\n",
      "add_2 (Add)                     (None, 30, 8, 64)    0           add_1[0][0]                      \n",
      "                                                                 conv2d_5[0][0]                   \n",
      "__________________________________________________________________________________________________\n",
      "batch_normalization_5 (BatchNor (None, 30, 8, 64)    256         add_2[0][0]                      \n",
      "__________________________________________________________________________________________________\n",
      "activation_5 (Activation)       (None, 30, 8, 64)    0           batch_normalization_5[0][0]      \n",
      "__________________________________________________________________________________________________\n",
      "conv2d_6 (Conv2D)               (None, 15, 4, 128)   73856       activation_5[0][0]               \n",
      "__________________________________________________________________________________________________\n",
      "batch_normalization_6 (BatchNor (None, 15, 4, 128)   512         conv2d_6[0][0]                   \n",
      "__________________________________________________________________________________________________\n",
      "activation_6 (Activation)       (None, 15, 4, 128)   0           batch_normalization_6[0][0]      \n",
      "__________________________________________________________________________________________________\n",
      "conv2d_8 (Conv2D)               (None, 15, 4, 128)   8320        add_2[0][0]                      \n",
      "__________________________________________________________________________________________________\n",
      "conv2d_7 (Conv2D)               (None, 15, 4, 128)   147584      activation_6[0][0]               \n",
      "__________________________________________________________________________________________________\n",
      "add_3 (Add)                     (None, 15, 4, 128)   0           conv2d_8[0][0]                   \n",
      "                                                                 conv2d_7[0][0]                   \n",
      "__________________________________________________________________________________________________\n",
      "batch_normalization_7 (BatchNor (None, 15, 4, 128)   512         add_3[0][0]                      \n",
      "__________________________________________________________________________________________________\n",
      "activation_7 (Activation)       (None, 15, 4, 128)   0           batch_normalization_7[0][0]      \n",
      "__________________________________________________________________________________________________\n",
      "conv2d_9 (Conv2D)               (None, 15, 4, 128)   147584      activation_7[0][0]               \n",
      "__________________________________________________________________________________________________\n",
      "batch_normalization_8 (BatchNor (None, 15, 4, 128)   512         conv2d_9[0][0]                   \n",
      "__________________________________________________________________________________________________\n",
      "activation_8 (Activation)       (None, 15, 4, 128)   0           batch_normalization_8[0][0]      \n",
      "__________________________________________________________________________________________________\n",
      "conv2d_10 (Conv2D)              (None, 15, 4, 128)   147584      activation_8[0][0]               \n",
      "__________________________________________________________________________________________________\n",
      "add_4 (Add)                     (None, 15, 4, 128)   0           add_3[0][0]                      \n",
      "                                                                 conv2d_10[0][0]                  \n",
      "__________________________________________________________________________________________________\n",
      "batch_normalization_9 (BatchNor (None, 15, 4, 128)   512         add_4[0][0]                      \n",
      "__________________________________________________________________________________________________\n",
      "activation_9 (Activation)       (None, 15, 4, 128)   0           batch_normalization_9[0][0]      \n",
      "__________________________________________________________________________________________________\n",
      "conv2d_11 (Conv2D)              (None, 8, 2, 256)    295168      activation_9[0][0]               \n",
      "__________________________________________________________________________________________________\n",
      "batch_normalization_10 (BatchNo (None, 8, 2, 256)    1024        conv2d_11[0][0]                  \n",
      "__________________________________________________________________________________________________\n",
      "activation_10 (Activation)      (None, 8, 2, 256)    0           batch_normalization_10[0][0]     \n",
      "__________________________________________________________________________________________________\n",
      "conv2d_13 (Conv2D)              (None, 8, 2, 256)    33024       add_4[0][0]                      \n",
      "__________________________________________________________________________________________________\n",
      "conv2d_12 (Conv2D)              (None, 8, 2, 256)    590080      activation_10[0][0]              \n",
      "__________________________________________________________________________________________________\n",
      "add_5 (Add)                     (None, 8, 2, 256)    0           conv2d_13[0][0]                  \n",
      "                                                                 conv2d_12[0][0]                  \n",
      "__________________________________________________________________________________________________\n",
      "batch_normalization_11 (BatchNo (None, 8, 2, 256)    1024        add_5[0][0]                      \n",
      "__________________________________________________________________________________________________\n",
      "activation_11 (Activation)      (None, 8, 2, 256)    0           batch_normalization_11[0][0]     \n",
      "__________________________________________________________________________________________________\n",
      "conv2d_14 (Conv2D)              (None, 8, 2, 256)    590080      activation_11[0][0]              \n",
      "__________________________________________________________________________________________________\n",
      "batch_normalization_12 (BatchNo (None, 8, 2, 256)    1024        conv2d_14[0][0]                  \n",
      "__________________________________________________________________________________________________\n",
      "activation_12 (Activation)      (None, 8, 2, 256)    0           batch_normalization_12[0][0]     \n",
      "__________________________________________________________________________________________________\n",
      "conv2d_15 (Conv2D)              (None, 8, 2, 256)    590080      activation_12[0][0]              \n",
      "__________________________________________________________________________________________________\n",
      "add_6 (Add)                     (None, 8, 2, 256)    0           add_5[0][0]                      \n",
      "                                                                 conv2d_15[0][0]                  \n",
      "__________________________________________________________________________________________________\n",
      "batch_normalization_13 (BatchNo (None, 8, 2, 256)    1024        add_6[0][0]                      \n",
      "__________________________________________________________________________________________________\n",
      "activation_13 (Activation)      (None, 8, 2, 256)    0           batch_normalization_13[0][0]     \n",
      "__________________________________________________________________________________________________\n",
      "conv2d_16 (Conv2D)              (None, 4, 1, 512)    1180160     activation_13[0][0]              \n",
      "__________________________________________________________________________________________________\n",
      "batch_normalization_14 (BatchNo (None, 4, 1, 512)    2048        conv2d_16[0][0]                  \n",
      "__________________________________________________________________________________________________\n",
      "activation_14 (Activation)      (None, 4, 1, 512)    0           batch_normalization_14[0][0]     \n",
      "__________________________________________________________________________________________________\n",
      "conv2d_18 (Conv2D)              (None, 4, 1, 512)    131584      add_6[0][0]                      \n",
      "__________________________________________________________________________________________________\n",
      "conv2d_17 (Conv2D)              (None, 4, 1, 512)    2359808     activation_14[0][0]              \n",
      "__________________________________________________________________________________________________\n",
      "add_7 (Add)                     (None, 4, 1, 512)    0           conv2d_18[0][0]                  \n",
      "                                                                 conv2d_17[0][0]                  \n",
      "__________________________________________________________________________________________________\n",
      "batch_normalization_15 (BatchNo (None, 4, 1, 512)    2048        add_7[0][0]                      \n",
      "__________________________________________________________________________________________________\n",
      "activation_15 (Activation)      (None, 4, 1, 512)    0           batch_normalization_15[0][0]     \n",
      "__________________________________________________________________________________________________\n",
      "conv2d_19 (Conv2D)              (None, 4, 1, 512)    2359808     activation_15[0][0]              \n",
      "__________________________________________________________________________________________________\n",
      "batch_normalization_16 (BatchNo (None, 4, 1, 512)    2048        conv2d_19[0][0]                  \n",
      "__________________________________________________________________________________________________\n",
      "activation_16 (Activation)      (None, 4, 1, 512)    0           batch_normalization_16[0][0]     \n",
      "__________________________________________________________________________________________________\n",
      "conv2d_20 (Conv2D)              (None, 4, 1, 512)    2359808     activation_16[0][0]              \n",
      "__________________________________________________________________________________________________\n",
      "add_8 (Add)                     (None, 4, 1, 512)    0           add_7[0][0]                      \n",
      "                                                                 conv2d_20[0][0]                  \n",
      "__________________________________________________________________________________________________\n",
      "batch_normalization_17 (BatchNo (None, 4, 1, 512)    2048        add_8[0][0]                      \n",
      "__________________________________________________________________________________________________\n",
      "activation_17 (Activation)      (None, 4, 1, 512)    0           batch_normalization_17[0][0]     \n",
      "__________________________________________________________________________________________________\n",
      "average_pooling2d_1 (AveragePoo (None, 1, 1, 512)    0           activation_17[0][0]              \n",
      "__________________________________________________________________________________________________\n",
      "flatten_1 (Flatten)             (None, 512)          0           average_pooling2d_1[0][0]        \n",
      "__________________________________________________________________________________________________\n",
      "input_2 (InputLayer)            (None, 4)            0                                            \n",
      "__________________________________________________________________________________________________\n",
      "concatenate_1 (Concatenate)     (None, 516)          0           flatten_1[0][0]                  \n",
      "                                                                 input_2[0][0]                    \n",
      "__________________________________________________________________________________________________\n",
      "dense_1 (Dense)                 (None, 130)          67210       concatenate_1[0][0]              \n",
      "__________________________________________________________________________________________________\n",
      "dense_2 (Dense)                 (None, 17)           8789        concatenate_1[0][0]              \n",
      "==================================================================================================\n",
      "Total params: 11,257,055\n",
      "Trainable params: 11,249,247\n",
      "Non-trainable params: 7,808\n",
      "__________________________________________________________________________________________________\n"
     ]
    }
   ],
   "source": [
    "model.summary()"
   ]
  },
  {
   "cell_type": "markdown",
   "metadata": {},
   "source": [
    "Find the learning rate\n",
    "----"
   ]
  },
  {
   "cell_type": "code",
   "execution_count": 16,
   "metadata": {},
   "outputs": [],
   "source": [
    "from train_utils import ExponentialLR, CyclicalCosineWithRestartsLR"
   ]
  },
  {
   "cell_type": "code",
   "execution_count": null,
   "metadata": {},
   "outputs": [],
   "source": [
    "lr = ExponentialLR(num_train_images//batch_size,1e-9,1.0)"
   ]
  },
  {
   "cell_type": "code",
   "execution_count": null,
   "metadata": {
    "scrolled": true
   },
   "outputs": [],
   "source": [
    "model = resnet.RomerResnetBuilder.build_romer_resnet_18(image_shape, NUM_KEY_BITS, \n",
    "                                                        NUM_PITCH_CATEGORIES, NUM_LENGTH_CATEGORIES)\n",
    "model.compile(loss='categorical_crossentropy',\n",
    "              optimizer=RMSprop(1e-9),\n",
    "              metrics=[\"accuracy\"])\n",
    "model.fit_generator(train_generator,\n",
    "                    num_train_images//batch_size, 1,\n",
    "                    callbacks=[lr],\n",
    "                    verbose=2,\n",
    "                    validation_data=valid_generator,\n",
    "                    validation_steps=num_valid_images//batch_size)"
   ]
  },
  {
   "cell_type": "code",
   "execution_count": null,
   "metadata": {},
   "outputs": [],
   "source": [
    "for i in range(len(lr.history['lr'])):\n",
    "    if 1e-4 <= lr.history['lr'][i] < 1e-4+1e-6:\n",
    "        print(i)\n",
    "        break"
   ]
  },
  {
   "cell_type": "code",
   "execution_count": null,
   "metadata": {},
   "outputs": [],
   "source": [
    "A,B=1000,1500\n",
    "#plt.semilogx(lr.history['lr'][1000:1500], lr.history['loss'][1000:1500])\n",
    "plt.semilogx(lr.history['lr'], lr.history['loss'])\n",
    "plt.ylim([0,20])\n",
    "plt.axvline(x=1e-4,color='k')\n",
    "plt.axhline(y=lr.history['loss'][1207],color='k')"
   ]
  },
  {
   "cell_type": "code",
   "execution_count": null,
   "metadata": {},
   "outputs": [],
   "source": [
    "A,B=900,1300\n",
    "plt.semilogx(lr.history['lr'][A:B], lr.history['loss'][A:B])\n",
    "plt.axvline(x=0.00005)\n",
    "plt.axvline(x=0.00009)\n",
    "plt.axvline(x=1e-4)"
   ]
  },
  {
   "cell_type": "markdown",
   "metadata": {},
   "source": [
    "Train the model\n",
    "-----"
   ]
  },
  {
   "cell_type": "code",
   "execution_count": 17,
   "metadata": {},
   "outputs": [
    {
     "name": "stdout",
     "output_type": "stream",
     "text": [
      "Epoch 1/6\n",
      "2170/2170 [==============================] - 88s 41ms/step - loss: 1.4111 - dense_1_loss: 0.5551 - dense_2_loss: 0.3097 - dense_1_acc: 0.8727 - dense_2_acc: 0.9138 - val_loss: 1.1312 - val_dense_1_loss: 0.3084 - val_dense_2_loss: 0.3005 - val_dense_1_acc: 0.9222 - val_dense_2_acc: 0.9116\n",
      "Epoch 2/6\n",
      "2170/2170 [==============================] - 88s 41ms/step - loss: 0.7757 - dense_1_loss: 0.1243 - dense_2_loss: 0.1477 - dense_1_acc: 0.9758 - dense_2_acc: 0.9558 - val_loss: 0.9120 - val_dense_1_loss: 0.2386 - val_dense_2_loss: 0.1808 - val_dense_1_acc: 0.9623 - val_dense_2_acc: 0.9506\n",
      "Epoch 3/6\n",
      "2170/2170 [==============================] - 88s 41ms/step - loss: 0.6901 - dense_1_loss: 0.0753 - dense_2_loss: 0.1273 - dense_1_acc: 0.9862 - dense_2_acc: 0.9684 - val_loss: 0.8058 - val_dense_1_loss: 0.1512 - val_dense_2_loss: 0.1687 - val_dense_1_acc: 0.9656 - val_dense_2_acc: 0.9539\n",
      "Epoch 4/6\n",
      "2170/2170 [==============================] - 88s 41ms/step - loss: 0.6653 - dense_1_loss: 0.0878 - dense_2_loss: 0.1171 - dense_1_acc: 0.9824 - dense_2_acc: 0.9630 - val_loss: 0.8533 - val_dense_1_loss: 0.2553 - val_dense_2_loss: 0.1544 - val_dense_1_acc: 0.9639 - val_dense_2_acc: 0.9612\n",
      "Epoch 5/6\n",
      "2170/2170 [==============================] - 88s 41ms/step - loss: 0.5336 - dense_1_loss: 0.0469 - dense_2_loss: 0.0626 - dense_1_acc: 0.9906 - dense_2_acc: 0.9802 - val_loss: 0.8126 - val_dense_1_loss: 0.2989 - val_dense_2_loss: 0.1021 - val_dense_1_acc: 0.9655 - val_dense_2_acc: 0.9772\n",
      "Epoch 6/6\n",
      "2170/2170 [==============================] - 88s 41ms/step - loss: 0.4981 - dense_1_loss: 0.0312 - dense_2_loss: 0.0608 - dense_1_acc: 0.9939 - dense_2_acc: 0.9827 - val_loss: 0.6497 - val_dense_1_loss: 0.1580 - val_dense_2_loss: 0.0874 - val_dense_1_acc: 0.9687 - val_dense_2_acc: 0.9731\n"
     ]
    },
    {
     "data": {
      "text/plain": [
       "<keras.callbacks.History at 0x7f54e853d358>"
      ]
     },
     "execution_count": 17,
     "metadata": {},
     "output_type": "execute_result"
    }
   ],
   "source": [
    "train_rate = 1e-4\n",
    "num_epochs = 6\n",
    "lr = CyclicalCosineWithRestartsLR((num_train_images//batch_size)*3, 0.0, train_rate)\n",
    "model.compile(loss='categorical_crossentropy',\n",
    "              optimizer=RMSprop(train_rate),\n",
    "              metrics=[\"accuracy\"])\n",
    "model.fit_generator(train_generator,\n",
    "                    num_train_images//batch_size, num_epochs,\n",
    "                    callbacks=[lr],\n",
    "                    #verbose=2,\n",
    "                    validation_data=valid_generator,\n",
    "                    validation_steps=num_valid_images//batch_size)"
   ]
  },
  {
   "cell_type": "code",
   "execution_count": 20,
   "metadata": {},
   "outputs": [
    {
     "data": {
      "text/plain": [
       "[<matplotlib.lines.Line2D at 0x7f54aedccac8>]"
      ]
     },
     "execution_count": 20,
     "metadata": {},
     "output_type": "execute_result"
    },
    {
     "data": {
      "image/png": "[encoded data removed]",
      "text/plain": [
       "<matplotlib.figure.Figure at 0x7f54aeea4ef0>"
      ]
     },
     "metadata": {},
     "output_type": "display_data"
    }
   ],
   "source": [
    "#plt.semilogx(lr.history['lr'], lr.history['loss'])\n",
    "plt.plot(lr.history['loss'])"
   ]
  },
  {
   "cell_type": "code",
   "execution_count": 21,
   "metadata": {},
   "outputs": [
    {
     "data": {
      "text/plain": [
       "[<matplotlib.lines.Line2D at 0x7f54aed2a550>]"
      ]
     },
     "execution_count": 21,
     "metadata": {},
     "output_type": "execute_result"
    },
    {
     "data": {
      "image/png": "[encoded data removed]",
      "text/plain": [
       "<matplotlib.figure.Figure at 0x7f54aeda1978>"
      ]
     },
     "metadata": {},
     "output_type": "display_data"
    }
   ],
   "source": [
    "plt.plot(lr.history['lr'])"
   ]
  },
  {
   "cell_type": "code",
   "execution_count": 22,
   "metadata": {},
   "outputs": [
    {
     "name": "stdout",
     "output_type": "stream",
     "text": [
      "Epoch 1/6\n",
      "2170/2170 [==============================] - 88s 41ms/step - loss: 1.4098 - dense_3_loss: 0.5524 - dense_4_loss: 0.3128 - dense_3_acc: 0.8749 - dense_4_acc: 0.9173 - val_loss: 1.2923 - val_dense_3_loss: 0.3993 - val_dense_4_loss: 0.3756 - val_dense_3_acc: 0.9144 - val_dense_4_acc: 0.8818\n",
      "Epoch 2/6\n",
      "2170/2170 [==============================] - 87s 40ms/step - loss: 0.7463 - dense_3_loss: 0.1185 - dense_4_loss: 0.1417 - dense_3_acc: 0.9744 - dense_4_acc: 0.9562 - val_loss: 0.9401 - val_dense_3_loss: 0.2938 - val_dense_4_loss: 0.1844 - val_dense_3_acc: 0.9540 - val_dense_4_acc: 0.9577\n",
      "Epoch 3/6\n",
      "2170/2170 [==============================] - 87s 40ms/step - loss: 0.5805 - dense_3_loss: 0.0649 - dense_4_loss: 0.0850 - dense_3_acc: 0.9866 - dense_4_acc: 0.9736 - val_loss: 0.8544 - val_dense_3_loss: 0.2884 - val_dense_4_loss: 0.1587 - val_dense_3_acc: 0.9611 - val_dense_4_acc: 0.9626\n",
      "Epoch 4/6\n",
      "2170/2170 [==============================] - 88s 41ms/step - loss: 0.4877 - dense_3_loss: 0.0493 - dense_4_loss: 0.0568 - dense_3_acc: 0.9893 - dense_4_acc: 0.9822 - val_loss: 0.8154 - val_dense_3_loss: 0.3117 - val_dense_4_loss: 0.1406 - val_dense_3_acc: 0.9579 - val_dense_4_acc: 0.9693\n",
      "Epoch 5/6\n",
      "2170/2170 [==============================] - 88s 41ms/step - loss: 0.4203 - dense_3_loss: 0.0392 - dense_4_loss: 0.0412 - dense_3_acc: 0.9912 - dense_4_acc: 0.9868 - val_loss: 0.7143 - val_dense_3_loss: 0.2642 - val_dense_4_loss: 0.1286 - val_dense_3_acc: 0.9644 - val_dense_4_acc: 0.9711\n",
      "Epoch 6/6\n",
      "2170/2170 [==============================] - 87s 40ms/step - loss: 0.3688 - dense_3_loss: 0.0313 - dense_4_loss: 0.0321 - dense_3_acc: 0.9922 - dense_4_acc: 0.9903 - val_loss: 0.7232 - val_dense_3_loss: 0.2884 - val_dense_4_loss: 0.1448 - val_dense_3_acc: 0.9603 - val_dense_4_acc: 0.9609\n"
     ]
    },
    {
     "data": {
      "text/plain": [
       "<keras.callbacks.History at 0x7f54b9e655f8>"
      ]
     },
     "execution_count": 22,
     "metadata": {},
     "output_type": "execute_result"
    }
   ],
   "source": [
    "# Let's compare without the CosineLR\n",
    "model = resnet.RomerResnetBuilder.build_romer_resnet_18(image_shape, NUM_KEY_BITS, \n",
    "                                                        NUM_PITCH_CATEGORIES, NUM_LENGTH_CATEGORIES)\n",
    "train_rate = 1e-4\n",
    "num_epochs = 6\n",
    "#lr = CyclicalCosineWithRestartsLR((num_train_images//batch_size)*3, 0.0, train_rate)\n",
    "model.compile(loss='categorical_crossentropy',\n",
    "              optimizer=RMSprop(train_rate),\n",
    "              metrics=[\"accuracy\"])\n",
    "model.fit_generator(train_generator,\n",
    "                    num_train_images//batch_size, num_epochs,\n",
    "                    #callbacks=[lr],\n",
    "                    #verbose=2,\n",
    "                    validation_data=valid_generator,\n",
    "                    validation_steps=num_valid_images//batch_size)"
   ]
  },
  {
   "cell_type": "code",
   "execution_count": 23,
   "metadata": {},
   "outputs": [],
   "source": [
    "# okay, Cosine was not \"amazingly\" better, but it is better."
   ]
  },
  {
   "cell_type": "code",
   "execution_count": null,
   "metadata": {},
   "outputs": [],
   "source": [
    "# not updated below...was going to edit python training model first."
   ]
  },
  {
   "cell_type": "code",
   "execution_count": null,
   "metadata": {},
   "outputs": [],
   "source": [
    "test_path = 'data/test3'\n",
    "test_input_image_names = glob(test_path+'/crop_score*png')\n",
    "test_input_image_names.sort()\n",
    "test_input_images = np.stack([np.array(Image.open(fn)) for fn in test_input_image_names])\n",
    "test_input_images.shape = test_input_images.shape + (1,)\n",
    "num_test_images,rows,cols,channels = test_input_images.shape\n",
    "num_test_images,rows,cols,channels"
   ]
  },
  {
   "cell_type": "code",
   "execution_count": null,
   "metadata": {},
   "outputs": [],
   "source": [
    "test_indices = []\n",
    "for test_name in test_input_image_names:\n",
    "    index = int(test_name.split('.')[0].split('_')[-1])\n",
    "    test_indices.append(index)"
   ]
  },
  {
   "cell_type": "code",
   "execution_count": null,
   "metadata": {},
   "outputs": [],
   "source": [
    "test_results = np.zeros(len(test_indices),dtype=np.float32)\n",
    "test_results1 = np.zeros(len(test_indices),dtype=np.float32)\n",
    "i = 0\n",
    "for ti in test_indices:\n",
    "    r = results[ti]\n",
    "    test_results[i] = r[0]\n",
    "    test_results1[i] = r[1]\n",
    "    i += 1\n",
    "test_results = np_utils.to_categorical(test_results,NUM_CATEGORIES)\n",
    "test_results1 = np_utils.to_categorical(test_results1,NUM_CATEGORIES1)"
   ]
  },
  {
   "cell_type": "code",
   "execution_count": null,
   "metadata": {},
   "outputs": [],
   "source": [
    "test_generator = score_generator(test_input_images, test_results, batch_size, channels)\n",
    "test_generator1 = score_generator(test_input_images, test_results1, batch_size, channels)"
   ]
  },
  {
   "cell_type": "code",
   "execution_count": null,
   "metadata": {},
   "outputs": [],
   "source": [
    "model.evaluate_generator(test_generator,steps=num_test_images//batch_size)"
   ]
  },
  {
   "cell_type": "code",
   "execution_count": null,
   "metadata": {},
   "outputs": [],
   "source": [
    "model1.evaluate_generator(test_generator1,steps=num_test_images//batch_size)"
   ]
  },
  {
   "cell_type": "code",
   "execution_count": null,
   "metadata": {},
   "outputs": [],
   "source": []
  }
 ],
 "metadata": {
  "kernelspec": {
   "display_name": "Python 3",
   "language": "python",
   "name": "python3"
  },
  "language_info": {
   "codemirror_mode": {
    "name": "ipython",
    "version": 3
   },
   "file_extension": ".py",
   "mimetype": "text/x-python",
   "name": "python",
   "nbconvert_exporter": "python",
   "pygments_lexer": "ipython3",
   "version": "3.6.4"
  }
 },
 "nbformat": 4,
 "nbformat_minor": 2
}
