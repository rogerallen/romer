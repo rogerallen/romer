{
 "cells": [
  {
   "cell_type": "code",
   "execution_count": 1,
   "metadata": {
    "collapsed": true
   },
   "outputs": [],
   "source": [
    "%matplotlib inline\n",
    "import matplotlib.pyplot as plt\n",
    "import numpy as np\n",
    "from PIL import Image\n",
    "import os\n",
    "from random import randint\n",
    "import glob"
   ]
  },
  {
   "cell_type": "code",
   "execution_count": 2,
   "metadata": {
    "collapsed": true
   },
   "outputs": [],
   "source": [
    "def get_image_names(base_name):\n",
    "    score_file_name = f'../setup/{base_name}.png'\n",
    "    mask_file_name = f'../setup/{base_name}_mask.png'\n",
    "    return score_file_name, mask_file_name\n",
    "\n",
    "def get_images(base_name):\n",
    "    score_file_name, mask_file_name = get_image_names(base_name)\n",
    "    mask_image = Image.open(mask_file_name).convert('L')\n",
    "    mask_image = Image.eval(mask_image, lambda x: x*10) # saturate the mask\n",
    "    score_image = Image.open(score_file_name)\n",
    "    background = Image.new('RGBA', score_image.size, (255,255,255))\n",
    "    score_image = Image.alpha_composite(background,score_image)\n",
    "    score_image = score_image.convert('L')\n",
    "    return score_image, mask_image\n",
    "\n",
    "def dice_image_name(dest,prefix,count):\n",
    "    return os.path.join(dest,\"%s_%03d.png\"%(prefix,count))\n",
    "\n",
    "# dice up images regularly & save, but if score is completely white, then we only need to save one of those.  \n",
    "# make a 2nd pass with random offsets\n",
    "def dice_image_pairs(image0, image1, \n",
    "                     dest_dir, \n",
    "                     image0_prefix, image1_prefix, \n",
    "                     offset=(0,0), dice_pixels=64):\n",
    "    image_count = 0\n",
    "    if not os.path.isdir(dest_dir):\n",
    "        print(\"ERROR: directory %s does not exist\"%(dest_dir))\n",
    "        return\n",
    "    assert(image0.size == image1.size)\n",
    "    saved_all_white_image = False\n",
    "    all_white_images = []\n",
    "    for y in range(0, image0.size[1], dice_pixels):\n",
    "        for x in range(0, image0.size[0], dice_pixels):\n",
    "            xx = x + offset[0]\n",
    "            yy = y + offset[1]\n",
    "            xx1 = xx + dice_pixels\n",
    "            yy1 = yy + dice_pixels\n",
    "            crop0 = image0.crop((xx,yy,xx1,yy1))\n",
    "            is_all_white_image = crop0.getextrema() == (255,255)\n",
    "            if ((not is_all_white_image) or\n",
    "                (is_all_white_image and (not saved_all_white_image))):\n",
    "                crop1 = image1.crop((xx,yy,xx1,yy1))\n",
    "                #print(\"dump\",xx,yy,is_all_white_image,saved_all_white_image)\n",
    "                crop0.save(dice_image_name(dest_dir, image0_prefix, image_count))\n",
    "                crop1.save(dice_image_name(dest_dir, image1_prefix, image_count))\n",
    "                if is_all_white_image:\n",
    "                    all_white_images = [dice_image_name(dest_dir, image0_prefix, image_count), \n",
    "                                        dice_image_name(dest_dir, image1_prefix, image_count)]\n",
    "                    saved_all_white_image = True\n",
    "                image_count += 1\n",
    "    #print(f\"diced 2x{image_count} images.\")\n",
    "    return all_white_images"
   ]
  },
  {
   "cell_type": "code",
   "execution_count": 3,
   "metadata": {
    "collapsed": true
   },
   "outputs": [],
   "source": [
    "!mkdir -p data/train\n",
    "!mkdir -p data/test\n",
    "!mkdir -p data/valid"
   ]
  },
  {
   "cell_type": "code",
   "execution_count": 4,
   "metadata": {},
   "outputs": [],
   "source": [
    "# create a new set of images\n",
    "!rm data/train/*png data/test/*png data/valid/*png"
   ]
  },
  {
   "cell_type": "code",
   "execution_count": 5,
   "metadata": {
    "scrolled": false
   },
   "outputs": [
    {
     "data": {
      "text/plain": [
       "156"
      ]
     },
     "execution_count": 5,
     "metadata": {},
     "output_type": "execute_result"
    }
   ],
   "source": [
    "all_white_pairs = []\n",
    "#for base_name in ['chromatic', 'chromatic_piano', 'gen_one', 'gen_two', 'twinkle']:\n",
    "# FIXME dropping chromatic_piano temporarily\n",
    "for base_name in ['chromatic', 'gen_one', 'gen_two', 'twinkle']:\n",
    "    score_image, mask_image = get_images(base_name)\n",
    "    for i in range(20):\n",
    "        if i == 0:\n",
    "            offset = (0,0)\n",
    "        else:\n",
    "            offset = (randint(-32,32), randint(-32,32))\n",
    "        all_white_pairs += dice_image_pairs(score_image,mask_image, \n",
    "                                            \"data/train\",\n",
    "                                            \"diced_score_\"+base_name+str(i),\n",
    "                                            \"diced_mask_\"+base_name+str(i),\n",
    "                                            offset)\n",
    "# okay, there are enough of these, that I'm not worrying about train/test/valid set\n",
    "len(all_white_pairs)"
   ]
  },
  {
   "cell_type": "code",
   "execution_count": 6,
   "metadata": {},
   "outputs": [
    {
     "name": "stdout",
     "output_type": "stream",
     "text": [
      "total=20158 train=12096 valid=4031 test=4031\n"
     ]
    }
   ],
   "source": [
    "all_files  = glob.glob('data/train/diced_*.png')\n",
    "num_images = len(all_files)\n",
    "num_valid  = int(0.2*num_images)\n",
    "num_test   = int(0.2*num_images)\n",
    "num_train  = num_images-num_valid-num_test\n",
    "print(\"total=%d train=%d valid=%d test=%d\"%(num_images,num_train,num_valid,num_test))\n",
    "# shuffle the files & then put them into new spots on the tree\n",
    "# BUT, make sure to move mask & score files \n",
    "mask_files  = glob.glob('data/train/diced_mask_*.png')\n",
    "mask_files  = np.random.permutation(mask_files)\n",
    "for i in range(num_valid//2): \n",
    "    old_file = mask_files[i]\n",
    "    new_file = old_file.replace(\"train\",\"valid\")\n",
    "    os.rename(old_file, new_file)\n",
    "    old_file = mask_files[i].replace(\"mask_\",\"score_\")\n",
    "    new_file = old_file.replace(\"train\",\"valid\")\n",
    "    os.rename(old_file, new_file)\n",
    "for i in range(num_valid//2,num_valid//2+num_test//2): \n",
    "    old_file = mask_files[i]\n",
    "    new_file = old_file.replace(\"train\",\"test\")\n",
    "    os.rename(old_file, new_file)\n",
    "    old_file = mask_files[i].replace(\"mask_\",\"score_\")\n",
    "    new_file = old_file.replace(\"train\",\"test\")\n",
    "    os.rename(old_file, new_file)\n"
   ]
  },
  {
   "cell_type": "code",
   "execution_count": 7,
   "metadata": {},
   "outputs": [
    {
     "name": "stdout",
     "output_type": "stream",
     "text": [
      "12098\n",
      "4030\n",
      "4030\n"
     ]
    }
   ],
   "source": [
    "!ls data/train/ | wc -l\n",
    "!ls data/valid/ | wc -l\n",
    "!ls data/test/  | wc -l"
   ]
  },
  {
   "cell_type": "markdown",
   "metadata": {},
   "source": [
    "More random code below..."
   ]
  },
  {
   "cell_type": "code",
   "execution_count": 40,
   "metadata": {},
   "outputs": [
    {
     "name": "stdout",
     "output_type": "stream",
     "text": [
      "data/train/diced_mask_gen_two2_030.png\tdata/train/diced_score_gen_two2_030.png\r\n",
      "data/train/diced_mask_gen_two2_031.png\tdata/train/diced_score_gen_two2_031.png\r\n",
      "data/train/diced_mask_gen_two2_032.png\tdata/train/diced_score_gen_two2_032.png\r\n",
      "data/train/diced_mask_gen_two2_034.png\tdata/train/diced_score_gen_two2_034.png\r\n",
      "data/train/diced_mask_gen_two2_036.png\tdata/train/diced_score_gen_two2_036.png\r\n",
      "data/train/diced_mask_gen_two2_037.png\tdata/train/diced_score_gen_two2_037.png\r\n",
      "data/train/diced_mask_gen_two2_039.png\tdata/train/diced_score_gen_two2_039.png\r\n"
     ]
    }
   ],
   "source": [
    "!ls data/train/diced_*_gen_two2_03*.png"
   ]
  },
  {
   "cell_type": "code",
   "execution_count": 45,
   "metadata": {},
   "outputs": [
    {
     "data": {
      "image/png": "[encoded data removed]",
      "text/plain": [
       "<matplotlib.figure.Figure at 0x7fb0bd1bc240>"
      ]
     },
     "metadata": {},
     "output_type": "display_data"
    }
   ],
   "source": [
    "fig, axs = plt.subplots(1, 2)\n",
    "axs[0].imshow(np.asarray(Image.open('data/train/diced_mask_gen_two2_036.png')),cmap='gray')\n",
    "axs[1].imshow(np.asarray(Image.open('data/train/diced_score_gen_two2_036.png')),cmap='gray')\n",
    "plt.show()"
   ]
  },
  {
   "cell_type": "code",
   "execution_count": 43,
   "metadata": {},
   "outputs": [
    {
     "data": {
      "image/png": "[encoded data removed]",
      "text/plain": [
       "<PIL.PngImagePlugin.PngImageFile image mode=L size=64x64 at 0x7FB0BD795320>"
      ]
     },
     "execution_count": 43,
     "metadata": {},
     "output_type": "execute_result"
    }
   ],
   "source": [
    "Image.open('data/train/diced_mask_chromatic2_020.png')"
   ]
  },
  {
   "cell_type": "code",
   "execution_count": 44,
   "metadata": {},
   "outputs": [
    {
     "data": {
      "image/png": "[encoded data removed]",
      "text/plain": [
       "<PIL.PngImagePlugin.PngImageFile image mode=L size=64x64 at 0x7FB0BD4F6CF8>"
      ]
     },
     "execution_count": 44,
     "metadata": {},
     "output_type": "execute_result"
    }
   ],
   "source": [
    "Image.open('data/train/diced_score_chromatic2_020.png')"
   ]
  },
  {
   "cell_type": "code",
   "execution_count": null,
   "metadata": {
    "collapsed": true
   },
   "outputs": [],
   "source": []
  }
 ],
 "metadata": {
  "kernelspec": {
   "display_name": "Python 3",
   "language": "python",
   "name": "python3"
  },
  "language_info": {
   "codemirror_mode": {
    "name": "ipython",
    "version": 3
   },
   "file_extension": ".py",
   "mimetype": "text/x-python",
   "name": "python",
   "nbconvert_exporter": "python",
   "pygments_lexer": "ipython3",
   "version": "3.6.3"
  }
 },
 "nbformat": 4,
 "nbformat_minor": 2
}
